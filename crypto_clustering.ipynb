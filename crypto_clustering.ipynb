{
 "cells": [
  {
   "cell_type": "markdown",
   "metadata": {},
   "source": [
    "# Clustering Crypto"
   ]
  },
  {
   "cell_type": "code",
   "execution_count": 73,
   "metadata": {},
   "outputs": [],
   "source": [
    "# Initial imports\n",
    "import pandas as pd\n",
    "import hvplot.pandas\n",
    "from path import Path\n",
    "import plotly.express as px\n",
    "from sklearn.preprocessing import StandardScaler, MinMaxScaler\n",
    "from sklearn.decomposition import PCA\n",
    "from sklearn.cluster import KMeans\n"
   ]
  },
  {
   "cell_type": "markdown",
   "metadata": {},
   "source": [
    "### Deliverable 1: Preprocessing the Data for PCA"
   ]
  },
  {
   "cell_type": "code",
   "execution_count": 74,
   "metadata": {},
   "outputs": [
    {
     "output_type": "execute_result",
     "data": {
      "text/plain": [
       "  Unnamed: 0   CoinName Algorithm  IsTrading ProofType  TotalCoinsMined  \\\n",
       "0         42    42 Coin    Scrypt       True   PoW/PoS     4.199995e+01   \n",
       "1        365    365Coin       X11       True   PoW/PoS              NaN   \n",
       "2        404    404Coin    Scrypt       True   PoW/PoS     1.055185e+09   \n",
       "3        611  SixEleven   SHA-256       True       PoW              NaN   \n",
       "4        808        808   SHA-256       True   PoW/PoS     0.000000e+00   \n",
       "\n",
       "  TotalCoinSupply  \n",
       "0              42  \n",
       "1      2300000000  \n",
       "2       532000000  \n",
       "3          611000  \n",
       "4               0  "
      ],
      "text/html": "<div>\n<style scoped>\n    .dataframe tbody tr th:only-of-type {\n        vertical-align: middle;\n    }\n\n    .dataframe tbody tr th {\n        vertical-align: top;\n    }\n\n    .dataframe thead th {\n        text-align: right;\n    }\n</style>\n<table border=\"1\" class=\"dataframe\">\n  <thead>\n    <tr style=\"text-align: right;\">\n      <th></th>\n      <th>Unnamed: 0</th>\n      <th>CoinName</th>\n      <th>Algorithm</th>\n      <th>IsTrading</th>\n      <th>ProofType</th>\n      <th>TotalCoinsMined</th>\n      <th>TotalCoinSupply</th>\n    </tr>\n  </thead>\n  <tbody>\n    <tr>\n      <th>0</th>\n      <td>42</td>\n      <td>42 Coin</td>\n      <td>Scrypt</td>\n      <td>True</td>\n      <td>PoW/PoS</td>\n      <td>4.199995e+01</td>\n      <td>42</td>\n    </tr>\n    <tr>\n      <th>1</th>\n      <td>365</td>\n      <td>365Coin</td>\n      <td>X11</td>\n      <td>True</td>\n      <td>PoW/PoS</td>\n      <td>NaN</td>\n      <td>2300000000</td>\n    </tr>\n    <tr>\n      <th>2</th>\n      <td>404</td>\n      <td>404Coin</td>\n      <td>Scrypt</td>\n      <td>True</td>\n      <td>PoW/PoS</td>\n      <td>1.055185e+09</td>\n      <td>532000000</td>\n    </tr>\n    <tr>\n      <th>3</th>\n      <td>611</td>\n      <td>SixEleven</td>\n      <td>SHA-256</td>\n      <td>True</td>\n      <td>PoW</td>\n      <td>NaN</td>\n      <td>611000</td>\n    </tr>\n    <tr>\n      <th>4</th>\n      <td>808</td>\n      <td>808</td>\n      <td>SHA-256</td>\n      <td>True</td>\n      <td>PoW/PoS</td>\n      <td>0.000000e+00</td>\n      <td>0</td>\n    </tr>\n  </tbody>\n</table>\n</div>"
     },
     "metadata": {},
     "execution_count": 74
    }
   ],
   "source": [
    "# Load the crypto_data.csv dataset.\n",
    "file = \"Resources/crypto_data.csv\"\n",
    "crypto_df = pd.read_csv(file)\n",
    "crypto_df.head()"
   ]
  },
  {
   "cell_type": "code",
   "execution_count": 75,
   "metadata": {},
   "outputs": [],
   "source": [
    "# Keep all the cryptocurrencies that are being traded.\n",
    "crypto_df = crypto_df.loc[crypto_df['IsTrading'] == True]"
   ]
  },
  {
   "cell_type": "code",
   "execution_count": 76,
   "metadata": {},
   "outputs": [
    {
     "output_type": "execute_result",
     "data": {
      "text/plain": [
       "  Unnamed: 0   CoinName Algorithm  IsTrading ProofType  TotalCoinsMined  \\\n",
       "0         42    42 Coin    Scrypt       True   PoW/PoS     4.199995e+01   \n",
       "1        365    365Coin       X11       True   PoW/PoS              NaN   \n",
       "2        404    404Coin    Scrypt       True   PoW/PoS     1.055185e+09   \n",
       "3        611  SixEleven   SHA-256       True       PoW              NaN   \n",
       "4        808        808   SHA-256       True   PoW/PoS     0.000000e+00   \n",
       "\n",
       "  TotalCoinSupply  \n",
       "0              42  \n",
       "1      2300000000  \n",
       "2       532000000  \n",
       "3          611000  \n",
       "4               0  "
      ],
      "text/html": "<div>\n<style scoped>\n    .dataframe tbody tr th:only-of-type {\n        vertical-align: middle;\n    }\n\n    .dataframe tbody tr th {\n        vertical-align: top;\n    }\n\n    .dataframe thead th {\n        text-align: right;\n    }\n</style>\n<table border=\"1\" class=\"dataframe\">\n  <thead>\n    <tr style=\"text-align: right;\">\n      <th></th>\n      <th>Unnamed: 0</th>\n      <th>CoinName</th>\n      <th>Algorithm</th>\n      <th>IsTrading</th>\n      <th>ProofType</th>\n      <th>TotalCoinsMined</th>\n      <th>TotalCoinSupply</th>\n    </tr>\n  </thead>\n  <tbody>\n    <tr>\n      <th>0</th>\n      <td>42</td>\n      <td>42 Coin</td>\n      <td>Scrypt</td>\n      <td>True</td>\n      <td>PoW/PoS</td>\n      <td>4.199995e+01</td>\n      <td>42</td>\n    </tr>\n    <tr>\n      <th>1</th>\n      <td>365</td>\n      <td>365Coin</td>\n      <td>X11</td>\n      <td>True</td>\n      <td>PoW/PoS</td>\n      <td>NaN</td>\n      <td>2300000000</td>\n    </tr>\n    <tr>\n      <th>2</th>\n      <td>404</td>\n      <td>404Coin</td>\n      <td>Scrypt</td>\n      <td>True</td>\n      <td>PoW/PoS</td>\n      <td>1.055185e+09</td>\n      <td>532000000</td>\n    </tr>\n    <tr>\n      <th>3</th>\n      <td>611</td>\n      <td>SixEleven</td>\n      <td>SHA-256</td>\n      <td>True</td>\n      <td>PoW</td>\n      <td>NaN</td>\n      <td>611000</td>\n    </tr>\n    <tr>\n      <th>4</th>\n      <td>808</td>\n      <td>808</td>\n      <td>SHA-256</td>\n      <td>True</td>\n      <td>PoW/PoS</td>\n      <td>0.000000e+00</td>\n      <td>0</td>\n    </tr>\n  </tbody>\n</table>\n</div>"
     },
     "metadata": {},
     "execution_count": 76
    }
   ],
   "source": [
    "# Keep all the cryptocurrencies that have a working algorithm.\n",
    "crypto_df = crypto_df.loc[crypto_df['Algorithm'] != 'N/A']\n",
    "crypto_df.head()"
   ]
  },
  {
   "cell_type": "code",
   "execution_count": 77,
   "metadata": {},
   "outputs": [],
   "source": [
    "# Remove the \"IsTrading\" column. \n",
    "crypto_df = crypto_df.drop(columns = 'IsTrading')"
   ]
  },
  {
   "cell_type": "code",
   "execution_count": 78,
   "metadata": {},
   "outputs": [],
   "source": [
    "# Remove rows that have at least 1 null value.\n",
    "crypto_df = crypto_df.dropna()"
   ]
  },
  {
   "cell_type": "code",
   "execution_count": 79,
   "metadata": {},
   "outputs": [],
   "source": [
    "# Keep the rows where coins are mined.\n",
    "crypto_df = crypto_df.loc[crypto_df['TotalCoinsMined'] != 0]"
   ]
  },
  {
   "cell_type": "code",
   "execution_count": 80,
   "metadata": {},
   "outputs": [
    {
     "output_type": "execute_result",
     "data": {
      "text/plain": [
       "  Unnamed: 0   CoinName Algorithm ProofType  TotalCoinsMined TotalCoinSupply\n",
       "0         42    42 Coin    Scrypt   PoW/PoS     4.199995e+01              42\n",
       "2        404    404Coin    Scrypt   PoW/PoS     1.055185e+09       532000000\n",
       "5       1337  EliteCoin       X13   PoW/PoS     2.927942e+10    314159265359\n",
       "7        BTC    Bitcoin   SHA-256       PoW     1.792718e+07        21000000\n",
       "8        ETH   Ethereum    Ethash       PoW     1.076842e+08               0"
      ],
      "text/html": "<div>\n<style scoped>\n    .dataframe tbody tr th:only-of-type {\n        vertical-align: middle;\n    }\n\n    .dataframe tbody tr th {\n        vertical-align: top;\n    }\n\n    .dataframe thead th {\n        text-align: right;\n    }\n</style>\n<table border=\"1\" class=\"dataframe\">\n  <thead>\n    <tr style=\"text-align: right;\">\n      <th></th>\n      <th>Unnamed: 0</th>\n      <th>CoinName</th>\n      <th>Algorithm</th>\n      <th>ProofType</th>\n      <th>TotalCoinsMined</th>\n      <th>TotalCoinSupply</th>\n    </tr>\n  </thead>\n  <tbody>\n    <tr>\n      <th>0</th>\n      <td>42</td>\n      <td>42 Coin</td>\n      <td>Scrypt</td>\n      <td>PoW/PoS</td>\n      <td>4.199995e+01</td>\n      <td>42</td>\n    </tr>\n    <tr>\n      <th>2</th>\n      <td>404</td>\n      <td>404Coin</td>\n      <td>Scrypt</td>\n      <td>PoW/PoS</td>\n      <td>1.055185e+09</td>\n      <td>532000000</td>\n    </tr>\n    <tr>\n      <th>5</th>\n      <td>1337</td>\n      <td>EliteCoin</td>\n      <td>X13</td>\n      <td>PoW/PoS</td>\n      <td>2.927942e+10</td>\n      <td>314159265359</td>\n    </tr>\n    <tr>\n      <th>7</th>\n      <td>BTC</td>\n      <td>Bitcoin</td>\n      <td>SHA-256</td>\n      <td>PoW</td>\n      <td>1.792718e+07</td>\n      <td>21000000</td>\n    </tr>\n    <tr>\n      <th>8</th>\n      <td>ETH</td>\n      <td>Ethereum</td>\n      <td>Ethash</td>\n      <td>PoW</td>\n      <td>1.076842e+08</td>\n      <td>0</td>\n    </tr>\n  </tbody>\n</table>\n</div>"
     },
     "metadata": {},
     "execution_count": 80
    }
   ],
   "source": [
    "# Create a new DataFrame that holds only the cryptocurrencies names.\n",
    "crypto_names_df = crypto_df\n",
    "crypto_names_df.head()"
   ]
  },
  {
   "cell_type": "code",
   "execution_count": 81,
   "metadata": {},
   "outputs": [],
   "source": [
    "# Drop the 'CoinName' column since it's not going to be used on the clustering algorithm.\n",
    "crypto_df = crypto_df.drop(columns = 'CoinName')\n"
   ]
  },
  {
   "cell_type": "code",
   "execution_count": 82,
   "metadata": {},
   "outputs": [
    {
     "output_type": "execute_result",
     "data": {
      "text/plain": [
       "Unnamed: 0          object\n",
       "Algorithm           object\n",
       "ProofType           object\n",
       "TotalCoinsMined    float64\n",
       "TotalCoinSupply     object\n",
       "dtype: object"
      ]
     },
     "metadata": {},
     "execution_count": 82
    }
   ],
   "source": [
    "crypto_df.dtypes"
   ]
  },
  {
   "cell_type": "code",
   "execution_count": 83,
   "metadata": {},
   "outputs": [],
   "source": [
    "# Use get_dummies() to create variables for text features.\n",
    "crypto_encoded = pd.get_dummies(data=crypto_df, columns= ['Unnamed: 0','Algorithm', 'ProofType'])"
   ]
  },
  {
   "cell_type": "code",
   "execution_count": 84,
   "metadata": {},
   "outputs": [
    {
     "output_type": "execute_result",
     "data": {
      "text/plain": [
       "array([[-0.11674788, -0.15286468, -0.0433555 , ..., -0.0433555 ,\n",
       "        -0.0433555 , -0.0433555 ],\n",
       "       [-0.09358885, -0.14499604, -0.0433555 , ..., -0.0433555 ,\n",
       "        -0.0433555 , -0.0433555 ],\n",
       "       [ 0.52587231,  4.4937636 , 23.06512519, ..., -0.0433555 ,\n",
       "        -0.0433555 , -0.0433555 ],\n",
       "       ...,\n",
       "       [-0.09523411, -0.13215444, -0.0433555 , ..., -0.0433555 ,\n",
       "        -0.0433555 , -0.0433555 ],\n",
       "       [-0.11658774, -0.15255408, -0.0433555 , ..., -0.0433555 ,\n",
       "        -0.0433555 , -0.0433555 ],\n",
       "       [-0.11674507, -0.15284989, -0.0433555 , ..., -0.0433555 ,\n",
       "        -0.0433555 , -0.0433555 ]])"
      ]
     },
     "metadata": {},
     "execution_count": 84
    }
   ],
   "source": [
    "# Standardize the data with StandardScaler().\n",
    "crypto_df_scaled = StandardScaler().fit_transform(crypto_encoded)\n",
    "crypto_df_scaled"
   ]
  },
  {
   "cell_type": "markdown",
   "metadata": {},
   "source": [
    "### Deliverable 2: Reducing Data Dimensions Using PCA"
   ]
  },
  {
   "cell_type": "code",
   "execution_count": 85,
   "metadata": {},
   "outputs": [],
   "source": [
    "# Using PCA to reduce dimension to three principal components.\n",
    "pca = PCA(n_components=3)\n",
    "crypto_pca = pca.fit_transform(crypto_df_scaled)"
   ]
  },
  {
   "cell_type": "code",
   "execution_count": 86,
   "metadata": {},
   "outputs": [
    {
     "output_type": "execute_result",
     "data": {
      "text/plain": [
       "       PC 1      PC 2      PC 3\n",
       "0 -0.618770  0.702504 -0.434460\n",
       "2 -0.599893  0.701081 -0.434929\n",
       "5  2.441984  1.544263 -0.418459\n",
       "7 -0.076820 -1.344643  0.227879\n",
       "8  0.086548 -1.860537  0.431680"
      ],
      "text/html": "<div>\n<style scoped>\n    .dataframe tbody tr th:only-of-type {\n        vertical-align: middle;\n    }\n\n    .dataframe tbody tr th {\n        vertical-align: top;\n    }\n\n    .dataframe thead th {\n        text-align: right;\n    }\n</style>\n<table border=\"1\" class=\"dataframe\">\n  <thead>\n    <tr style=\"text-align: right;\">\n      <th></th>\n      <th>PC 1</th>\n      <th>PC 2</th>\n      <th>PC 3</th>\n    </tr>\n  </thead>\n  <tbody>\n    <tr>\n      <th>0</th>\n      <td>-0.618770</td>\n      <td>0.702504</td>\n      <td>-0.434460</td>\n    </tr>\n    <tr>\n      <th>2</th>\n      <td>-0.599893</td>\n      <td>0.701081</td>\n      <td>-0.434929</td>\n    </tr>\n    <tr>\n      <th>5</th>\n      <td>2.441984</td>\n      <td>1.544263</td>\n      <td>-0.418459</td>\n    </tr>\n    <tr>\n      <th>7</th>\n      <td>-0.076820</td>\n      <td>-1.344643</td>\n      <td>0.227879</td>\n    </tr>\n    <tr>\n      <th>8</th>\n      <td>0.086548</td>\n      <td>-1.860537</td>\n      <td>0.431680</td>\n    </tr>\n  </tbody>\n</table>\n</div>"
     },
     "metadata": {},
     "execution_count": 86
    }
   ],
   "source": [
    "# Create a DataFrame with the three principal components.\n",
    "pca_df = pd.DataFrame(\n",
    "    data=crypto_pca, columns=[\"PC 1\", \"PC 2\", \"PC 3\"], index=crypto_df.index\n",
    ")\n",
    "pca_df.head()"
   ]
  },
  {
   "cell_type": "markdown",
   "metadata": {},
   "source": [
    "### Deliverable 3: Clustering Crytocurrencies Using K-Means\n",
    "\n",
    "#### Finding the Best Value for `k` Using the Elbow Curve"
   ]
  },
  {
   "cell_type": "code",
   "execution_count": 87,
   "metadata": {},
   "outputs": [
    {
     "output_type": "display_data",
     "data": {},
     "metadata": {}
    },
    {
     "output_type": "execute_result",
     "data": {
      "text/html": "<div id='1557'>\n\n\n\n\n\n  <div class=\"bk-root\" id=\"49ea78c1-fd3d-47ac-8684-3b720023da63\" data-root-id=\"1557\"></div>\n</div>\n<script type=\"application/javascript\">(function(root) {\n  function embed_document(root) {\n    var docs_json = {\"d4958227-e62c-4606-a9e5-dec0d3a093bc\":{\"roots\":{\"references\":[{\"attributes\":{},\"id\":\"1593\",\"type\":\"Selection\"},{\"attributes\":{\"end\":10.0,\"reset_end\":10.0,\"reset_start\":1.0,\"start\":1.0,\"tags\":[[[\"k\",\"k\",null]]]},\"id\":\"1559\",\"type\":\"Range1d\"},{\"attributes\":{\"axis\":{\"id\":\"1571\"},\"grid_line_color\":null,\"ticker\":null},\"id\":\"1574\",\"type\":\"Grid\"},{\"attributes\":{\"margin\":[5,5,5,5],\"name\":\"HSpacer02458\",\"sizing_mode\":\"stretch_width\"},\"id\":\"1621\",\"type\":\"Spacer\"},{\"attributes\":{},\"id\":\"1580\",\"type\":\"PanTool\"},{\"attributes\":{\"axis_label\":\"Inertia\",\"bounds\":\"auto\",\"formatter\":{\"id\":\"1606\"},\"major_label_orientation\":\"horizontal\",\"ticker\":{\"id\":\"1576\"}},\"id\":\"1575\",\"type\":\"LinearAxis\"},{\"attributes\":{\"axis\":{\"id\":\"1575\"},\"dimension\":1,\"grid_line_color\":null,\"ticker\":null},\"id\":\"1578\",\"type\":\"Grid\"},{\"attributes\":{\"line_alpha\":0.2,\"line_color\":\"#30a2da\",\"line_width\":2,\"x\":{\"field\":\"k\"},\"y\":{\"field\":\"inertia\"}},\"id\":\"1597\",\"type\":\"Line\"},{\"attributes\":{},\"id\":\"1576\",\"type\":\"BasicTicker\"},{\"attributes\":{},\"id\":\"1581\",\"type\":\"WheelZoomTool\"},{\"attributes\":{\"margin\":[5,5,5,5],\"name\":\"HSpacer02457\",\"sizing_mode\":\"stretch_width\"},\"id\":\"1558\",\"type\":\"Spacer\"},{\"attributes\":{\"active_drag\":\"auto\",\"active_inspect\":\"auto\",\"active_multi\":null,\"active_scroll\":\"auto\",\"active_tap\":\"auto\",\"tools\":[{\"id\":\"1561\"},{\"id\":\"1579\"},{\"id\":\"1580\"},{\"id\":\"1581\"},{\"id\":\"1582\"},{\"id\":\"1583\"}]},\"id\":\"1585\",\"type\":\"Toolbar\"},{\"attributes\":{},\"id\":\"1579\",\"type\":\"SaveTool\"},{\"attributes\":{\"overlay\":{\"id\":\"1584\"}},\"id\":\"1582\",\"type\":\"BoxZoomTool\"},{\"attributes\":{},\"id\":\"1583\",\"type\":\"ResetTool\"},{\"attributes\":{\"line_color\":\"#30a2da\",\"line_width\":2,\"x\":{\"field\":\"k\"},\"y\":{\"field\":\"inertia\"}},\"id\":\"1595\",\"type\":\"Line\"},{\"attributes\":{\"line_alpha\":0.1,\"line_color\":\"#30a2da\",\"line_width\":2,\"x\":{\"field\":\"k\"},\"y\":{\"field\":\"inertia\"}},\"id\":\"1596\",\"type\":\"Line\"},{\"attributes\":{\"data_source\":{\"id\":\"1592\"},\"glyph\":{\"id\":\"1595\"},\"hover_glyph\":null,\"muted_glyph\":{\"id\":\"1597\"},\"nonselection_glyph\":{\"id\":\"1596\"},\"selection_glyph\":null,\"view\":{\"id\":\"1599\"}},\"id\":\"1598\",\"type\":\"GlyphRenderer\"},{\"attributes\":{\"below\":[{\"id\":\"1571\"}],\"center\":[{\"id\":\"1574\"},{\"id\":\"1578\"}],\"left\":[{\"id\":\"1575\"}],\"margin\":[5,5,5,5],\"min_border_bottom\":10,\"min_border_left\":10,\"min_border_right\":10,\"min_border_top\":10,\"plot_height\":300,\"plot_width\":700,\"renderers\":[{\"id\":\"1598\"}],\"sizing_mode\":\"fixed\",\"title\":{\"id\":\"1563\"},\"toolbar\":{\"id\":\"1585\"},\"x_range\":{\"id\":\"1559\"},\"x_scale\":{\"id\":\"1567\"},\"y_range\":{\"id\":\"1560\"},\"y_scale\":{\"id\":\"1569\"}},\"id\":\"1562\",\"subtype\":\"Figure\",\"type\":\"Plot\"},{\"attributes\":{},\"id\":\"1567\",\"type\":\"LinearScale\"},{\"attributes\":{\"ticks\":[1,2,3,4,5,6,7,8,9,10]},\"id\":\"1600\",\"type\":\"FixedTicker\"},{\"attributes\":{},\"id\":\"1569\",\"type\":\"LinearScale\"},{\"attributes\":{\"source\":{\"id\":\"1592\"}},\"id\":\"1599\",\"type\":\"CDSView\"},{\"attributes\":{\"callback\":null,\"renderers\":[{\"id\":\"1598\"}],\"tags\":[\"hv_created\"],\"tooltips\":[[\"k\",\"@{k}\"],[\"inertia\",\"@{inertia}\"]]},\"id\":\"1561\",\"type\":\"HoverTool\"},{\"attributes\":{},\"id\":\"1602\",\"type\":\"BasicTickFormatter\"},{\"attributes\":{\"end\":5702.424096147843,\"reset_end\":5702.424096147843,\"reset_start\":-243.44113995994599,\"start\":-243.44113995994599,\"tags\":[[[\"inertia\",\"inertia\",null]]]},\"id\":\"1560\",\"type\":\"Range1d\"},{\"attributes\":{},\"id\":\"1606\",\"type\":\"BasicTickFormatter\"},{\"attributes\":{\"bottom_units\":\"screen\",\"fill_alpha\":0.5,\"fill_color\":\"lightgrey\",\"left_units\":\"screen\",\"level\":\"overlay\",\"line_alpha\":1.0,\"line_color\":\"black\",\"line_dash\":[4,4],\"line_width\":2,\"right_units\":\"screen\",\"top_units\":\"screen\"},\"id\":\"1584\",\"type\":\"BoxAnnotation\"},{\"attributes\":{\"axis_label\":\"Number of Clusters\",\"bounds\":\"auto\",\"formatter\":{\"id\":\"1602\"},\"major_label_orientation\":\"horizontal\",\"ticker\":{\"id\":\"1600\"}},\"id\":\"1571\",\"type\":\"LinearAxis\"},{\"attributes\":{\"data\":{\"inertia\":{\"__ndarray__\":\"KEGOce9WtEDYD72fOXesQBjfN5PgFaFAWAtifr/KkECz/cTL95uJQLpoPR51GYJAKbQscZ3WekCWKg1NGAh2QPAtM0mybnJAaOjALoaBb0A=\",\"dtype\":\"float64\",\"order\":\"little\",\"shape\":[10]},\"k\":[1,2,3,4,5,6,7,8,9,10]},\"selected\":{\"id\":\"1593\"},\"selection_policy\":{\"id\":\"1613\"}},\"id\":\"1592\",\"type\":\"ColumnDataSource\"},{\"attributes\":{},\"id\":\"1613\",\"type\":\"UnionRenderers\"},{\"attributes\":{\"children\":[{\"id\":\"1558\"},{\"id\":\"1562\"},{\"id\":\"1621\"}],\"margin\":[0,0,0,0],\"name\":\"Row02453\",\"tags\":[\"embedded\"]},\"id\":\"1557\",\"type\":\"Row\"},{\"attributes\":{\"text\":\"Elbow Visualization\",\"text_color\":{\"value\":\"black\"},\"text_font_size\":{\"value\":\"12pt\"}},\"id\":\"1563\",\"type\":\"Title\"}],\"root_ids\":[\"1557\"]},\"title\":\"Bokeh Application\",\"version\":\"2.2.3\"}};\n    var render_items = [{\"docid\":\"d4958227-e62c-4606-a9e5-dec0d3a093bc\",\"root_ids\":[\"1557\"],\"roots\":{\"1557\":\"49ea78c1-fd3d-47ac-8684-3b720023da63\"}}];\n    root.Bokeh.embed.embed_items_notebook(docs_json, render_items);\n  }\n  if (root.Bokeh !== undefined && root.Bokeh.Panel !== undefined) {\n    embed_document(root);\n  } else {\n    var attempts = 0;\n    var timer = setInterval(function(root) {\n      if (root.Bokeh !== undefined && root.Bokeh.Panel !== undefined) {\n        clearInterval(timer);\n        embed_document(root);\n      } else if (document.readyState == \"complete\") {\n        attempts++;\n        if (attempts > 100) {\n          clearInterval(timer);\n          console.log(\"Bokeh: ERROR: Unable to run BokehJS code because BokehJS library is missing\");\n        }\n      }\n    }, 10, root)\n  }\n})(window);</script>",
      "application/vnd.holoviews_exec.v0+json": "",
      "text/plain": [
       ":Curve   [k]   (inertia)"
      ]
     },
     "metadata": {
      "application/vnd.holoviews_exec.v0+json": {
       "id": "1557"
      }
     },
     "execution_count": 87
    }
   ],
   "source": [
    "# Create an elbow curve to find the best value for K.\n",
    "inertia = []\n",
    "k = list(range(1, 11))\n",
    "\n",
    "# Calculate the inertia for the range ok k values\n",
    "for i in k:\n",
    "    km = KMeans(n_clusters=i, random_state=0)\n",
    "    km.fit(pca_df)\n",
    "    inertia.append(km.inertia_)\n",
    "\n",
    "# Create the Elbow Curve using hvPlot\n",
    "elbow_data = {\"k\": k, \"inertia\": inertia}\n",
    "df_elbow = pd.DataFrame(elbow_data)\n",
    "df_elbow.hvplot.line(x=\"k\", y=\"inertia\", xticks=k, title=\"Elbow Visualization\", xlabel=\"Number of Clusters\", ylabel=\"Inertia\")\n"
   ]
  },
  {
   "cell_type": "markdown",
   "metadata": {},
   "source": [
    "Running K-Means with `k=4`"
   ]
  },
  {
   "cell_type": "code",
   "execution_count": 88,
   "metadata": {},
   "outputs": [],
   "source": [
    "# Initialize the K-Means model.\n",
    "model = KMeans(n_clusters=6, random_state=0)\n",
    "\n",
    "# Fit the model\n",
    "model.fit(pca_df)\n",
    "\n",
    "# Predict clusters\n",
    "predictions = model.predict(pca_df)"
   ]
  },
  {
   "cell_type": "code",
   "execution_count": 89,
   "metadata": {},
   "outputs": [
    {
     "output_type": "stream",
     "name": "stdout",
     "text": [
      "(533, 9)\n"
     ]
    },
    {
     "output_type": "execute_result",
     "data": {
      "text/plain": [
       "         Algorithm ProofType  TotalCoinsMined TotalCoinSupply      PC 1  \\\n",
       "0           Scrypt   PoW/PoS     4.199995e+01              42 -0.618770   \n",
       "2           Scrypt   PoW/PoS     1.055185e+09       532000000 -0.599893   \n",
       "5              X13   PoW/PoS     2.927942e+10    314159265359  2.441984   \n",
       "7          SHA-256       PoW     1.792718e+07        21000000 -0.076820   \n",
       "8           Ethash       PoW     1.076842e+08               0  0.086548   \n",
       "9           Scrypt       PoW     6.303924e+07        84000000 -0.159911   \n",
       "10             X11   PoW/PoS     9.031294e+06        22000000 -0.550310   \n",
       "11  CryptoNight-V7       PoW     1.720114e+07               0  0.045404   \n",
       "12          Ethash       PoW     1.133597e+08       210000000  0.089165   \n",
       "13        Equihash       PoW     7.383056e+06        21000000  0.063270   \n",
       "\n",
       "        PC 2      PC 3          CoinName  Class  \n",
       "0   0.702504 -0.434460           42 Coin      0  \n",
       "2   0.701081 -0.434929           404Coin      0  \n",
       "5   1.544263 -0.418459         EliteCoin      5  \n",
       "7  -1.344643  0.227879           Bitcoin      1  \n",
       "8  -1.860537  0.431680          Ethereum      1  \n",
       "9  -1.342798  0.076694          Litecoin      1  \n",
       "10  1.272485 -0.338636              Dash      0  \n",
       "11 -2.326663  0.596482            Monero      1  \n",
       "12 -1.863328  0.430500  Ethereum Classic      1  \n",
       "13 -2.240916  0.333930             ZCash      1  "
      ],
      "text/html": "<div>\n<style scoped>\n    .dataframe tbody tr th:only-of-type {\n        vertical-align: middle;\n    }\n\n    .dataframe tbody tr th {\n        vertical-align: top;\n    }\n\n    .dataframe thead th {\n        text-align: right;\n    }\n</style>\n<table border=\"1\" class=\"dataframe\">\n  <thead>\n    <tr style=\"text-align: right;\">\n      <th></th>\n      <th>Algorithm</th>\n      <th>ProofType</th>\n      <th>TotalCoinsMined</th>\n      <th>TotalCoinSupply</th>\n      <th>PC 1</th>\n      <th>PC 2</th>\n      <th>PC 3</th>\n      <th>CoinName</th>\n      <th>Class</th>\n    </tr>\n  </thead>\n  <tbody>\n    <tr>\n      <th>0</th>\n      <td>Scrypt</td>\n      <td>PoW/PoS</td>\n      <td>4.199995e+01</td>\n      <td>42</td>\n      <td>-0.618770</td>\n      <td>0.702504</td>\n      <td>-0.434460</td>\n      <td>42 Coin</td>\n      <td>0</td>\n    </tr>\n    <tr>\n      <th>2</th>\n      <td>Scrypt</td>\n      <td>PoW/PoS</td>\n      <td>1.055185e+09</td>\n      <td>532000000</td>\n      <td>-0.599893</td>\n      <td>0.701081</td>\n      <td>-0.434929</td>\n      <td>404Coin</td>\n      <td>0</td>\n    </tr>\n    <tr>\n      <th>5</th>\n      <td>X13</td>\n      <td>PoW/PoS</td>\n      <td>2.927942e+10</td>\n      <td>314159265359</td>\n      <td>2.441984</td>\n      <td>1.544263</td>\n      <td>-0.418459</td>\n      <td>EliteCoin</td>\n      <td>5</td>\n    </tr>\n    <tr>\n      <th>7</th>\n      <td>SHA-256</td>\n      <td>PoW</td>\n      <td>1.792718e+07</td>\n      <td>21000000</td>\n      <td>-0.076820</td>\n      <td>-1.344643</td>\n      <td>0.227879</td>\n      <td>Bitcoin</td>\n      <td>1</td>\n    </tr>\n    <tr>\n      <th>8</th>\n      <td>Ethash</td>\n      <td>PoW</td>\n      <td>1.076842e+08</td>\n      <td>0</td>\n      <td>0.086548</td>\n      <td>-1.860537</td>\n      <td>0.431680</td>\n      <td>Ethereum</td>\n      <td>1</td>\n    </tr>\n    <tr>\n      <th>9</th>\n      <td>Scrypt</td>\n      <td>PoW</td>\n      <td>6.303924e+07</td>\n      <td>84000000</td>\n      <td>-0.159911</td>\n      <td>-1.342798</td>\n      <td>0.076694</td>\n      <td>Litecoin</td>\n      <td>1</td>\n    </tr>\n    <tr>\n      <th>10</th>\n      <td>X11</td>\n      <td>PoW/PoS</td>\n      <td>9.031294e+06</td>\n      <td>22000000</td>\n      <td>-0.550310</td>\n      <td>1.272485</td>\n      <td>-0.338636</td>\n      <td>Dash</td>\n      <td>0</td>\n    </tr>\n    <tr>\n      <th>11</th>\n      <td>CryptoNight-V7</td>\n      <td>PoW</td>\n      <td>1.720114e+07</td>\n      <td>0</td>\n      <td>0.045404</td>\n      <td>-2.326663</td>\n      <td>0.596482</td>\n      <td>Monero</td>\n      <td>1</td>\n    </tr>\n    <tr>\n      <th>12</th>\n      <td>Ethash</td>\n      <td>PoW</td>\n      <td>1.133597e+08</td>\n      <td>210000000</td>\n      <td>0.089165</td>\n      <td>-1.863328</td>\n      <td>0.430500</td>\n      <td>Ethereum Classic</td>\n      <td>1</td>\n    </tr>\n    <tr>\n      <th>13</th>\n      <td>Equihash</td>\n      <td>PoW</td>\n      <td>7.383056e+06</td>\n      <td>21000000</td>\n      <td>0.063270</td>\n      <td>-2.240916</td>\n      <td>0.333930</td>\n      <td>ZCash</td>\n      <td>1</td>\n    </tr>\n  </tbody>\n</table>\n</div>"
     },
     "metadata": {},
     "execution_count": 89
    }
   ],
   "source": [
    "# Create a new DataFrame including predicted clusters and cryptocurrencies features.\n",
    "# Concatentate the crypto_df and pcs_df DataFrames on the same columns.\n",
    "clustered_df = pd.DataFrame({\n",
    "    \"Algorithm\": crypto_df.Algorithm,\n",
    "    \"ProofType\": crypto_df.ProofType,\n",
    "    \"TotalCoinsMined\": crypto_df.TotalCoinsMined,\n",
    "    \"TotalCoinSupply\": crypto_df.TotalCoinSupply,\n",
    "    \"PC 1\": pca_df['PC 1'],\n",
    "    \"PC 2\": pca_df['PC 2'],\n",
    "    \"PC 3\": pca_df['PC 3']\n",
    "    },\n",
    ")\n",
    "\n",
    "#  Add a new column, \"CoinName\" to the clustered_df DataFrame that holds the names of the cryptocurrencies. \n",
    "clustered_df[\"CoinName\"] = crypto_names_df.CoinName\n",
    "\n",
    "#  Add a new column, \"Class\" to the clustered_df DataFrame that holds the predictions.\n",
    "clustered_df[\"Class\"] = predictions\n",
    "clustered_df.head()\n",
    "\n",
    "# Print the shape of the clustered_df\n",
    "print(clustered_df.shape)\n",
    "clustered_df.head(10)"
   ]
  },
  {
   "cell_type": "markdown",
   "metadata": {},
   "source": [
    "### Deliverable 4: Visualizing Cryptocurrencies Results\n",
    "\n",
    "#### 3D-Scatter with Clusters"
   ]
  },
  {
   "cell_type": "code",
   "execution_count": 90,
   "metadata": {},
   "outputs": [
    {
     "output_type": "display_data",
     "data": {
      "application/vnd.plotly.v1+json": {
       "config": {
        "plotlyServerURL": "https://plot.ly"
       },
       "data": [
        {
         "customdata": [
          [
           "Scrypt"
          ],
          [
           "Scrypt"
          ],
          [
           "X11"
          ],
          [
           "SHA-512"
          ],
          [
           "SHA-256"
          ],
          [
           "SHA-256"
          ],
          [
           "X15"
          ],
          [
           "Scrypt"
          ],
          [
           "Scrypt"
          ],
          [
           "Scrypt"
          ],
          [
           "Scrypt"
          ],
          [
           "Scrypt"
          ],
          [
           "Scrypt"
          ],
          [
           "Groestl"
          ],
          [
           "PoS"
          ],
          [
           "Scrypt"
          ],
          [
           "X11"
          ],
          [
           "X11"
          ],
          [
           "SHA3"
          ],
          [
           "Scrypt"
          ],
          [
           "SHA-256"
          ],
          [
           "Scrypt"
          ],
          [
           "X13"
          ],
          [
           "X13"
          ],
          [
           "NeoScrypt"
          ],
          [
           "Scrypt"
          ],
          [
           "Scrypt"
          ],
          [
           "Scrypt"
          ],
          [
           "X11"
          ],
          [
           "X11"
          ],
          [
           "Multiple"
          ],
          [
           "PHI1612"
          ],
          [
           "X11"
          ],
          [
           "Scrypt"
          ],
          [
           "Scrypt"
          ],
          [
           "Scrypt"
          ],
          [
           "X11"
          ],
          [
           "Multiple"
          ],
          [
           "X13"
          ],
          [
           "Scrypt"
          ],
          [
           "Shabal256"
          ],
          [
           "Counterparty"
          ],
          [
           "SHA-256"
          ],
          [
           "Groestl"
          ],
          [
           "Scrypt"
          ],
          [
           "X13"
          ],
          [
           "Scrypt"
          ],
          [
           "Scrypt"
          ],
          [
           "X13"
          ],
          [
           "X11"
          ],
          [
           "Scrypt"
          ],
          [
           "X11"
          ],
          [
           "SHA3"
          ],
          [
           "QUAIT"
          ],
          [
           "X11"
          ],
          [
           "Scrypt"
          ],
          [
           "X13"
          ],
          [
           "SHA-256"
          ],
          [
           "X15"
          ],
          [
           "BLAKE256"
          ],
          [
           "SHA-256"
          ],
          [
           "X11"
          ],
          [
           "SHA-256"
          ],
          [
           "NIST5"
          ],
          [
           "Scrypt"
          ],
          [
           "Scrypt"
          ],
          [
           "X11"
          ],
          [
           "Scrypt"
          ],
          [
           "SHA-256"
          ],
          [
           "Scrypt"
          ],
          [
           "PoS"
          ],
          [
           "X11"
          ],
          [
           "SHA-256"
          ],
          [
           "SHA-256"
          ],
          [
           "NIST5"
          ],
          [
           "X11"
          ],
          [
           "POS 3.0"
          ],
          [
           "Scrypt"
          ],
          [
           "Scrypt"
          ],
          [
           "Scrypt"
          ],
          [
           "X13"
          ],
          [
           "X11"
          ],
          [
           "X11"
          ],
          [
           "Scrypt"
          ],
          [
           "SHA-256"
          ],
          [
           "X11"
          ],
          [
           "Scrypt"
          ],
          [
           "Scrypt"
          ],
          [
           "Scrypt"
          ],
          [
           "SHA-256D"
          ],
          [
           "PoS"
          ],
          [
           "Scrypt"
          ],
          [
           "X11"
          ],
          [
           "PoS"
          ],
          [
           "X13"
          ],
          [
           "X14"
          ],
          [
           "PoS"
          ],
          [
           "SHA-256D"
          ],
          [
           "X11"
          ],
          [
           "X13"
          ],
          [
           "X11"
          ],
          [
           "PoS"
          ],
          [
           "Scrypt"
          ],
          [
           "Scrypt"
          ],
          [
           "PoS"
          ],
          [
           "X11"
          ],
          [
           "SHA-256"
          ],
          [
           "Scrypt"
          ],
          [
           "X11"
          ],
          [
           "Scrypt"
          ],
          [
           "Scrypt"
          ],
          [
           "X11"
          ],
          [
           "Scrypt"
          ],
          [
           "Scrypt"
          ],
          [
           "Scrypt"
          ],
          [
           "Scrypt"
          ],
          [
           "Quark"
          ],
          [
           "QuBit"
          ],
          [
           "Scrypt"
          ],
          [
           "SHA-256"
          ],
          [
           "X11"
          ],
          [
           "Scrypt"
          ],
          [
           "Scrypt"
          ],
          [
           "Scrypt"
          ],
          [
           "Scrypt"
          ],
          [
           "X13"
          ],
          [
           "Scrypt"
          ],
          [
           "Scrypt"
          ],
          [
           "X11"
          ],
          [
           "Blake2S"
          ],
          [
           "X11"
          ],
          [
           "PoS"
          ],
          [
           "X11"
          ],
          [
           "PoS"
          ],
          [
           "X11"
          ],
          [
           "Scrypt"
          ],
          [
           "Scrypt"
          ],
          [
           "Scrypt"
          ],
          [
           "SHA-256"
          ],
          [
           "X11"
          ],
          [
           "Scrypt"
          ],
          [
           "PoS"
          ],
          [
           "Scrypt"
          ],
          [
           "X15"
          ],
          [
           "SHA-256"
          ],
          [
           "POS 3.0"
          ],
          [
           "536"
          ],
          [
           "NIST5"
          ],
          [
           "NIST5"
          ],
          [
           "Skein"
          ],
          [
           "X13"
          ],
          [
           "Scrypt"
          ],
          [
           "X13"
          ],
          [
           "SkunkHash v2 Raptor"
          ],
          [
           "Skein"
          ],
          [
           "X11"
          ],
          [
           "Scrypt"
          ],
          [
           "PoS"
          ],
          [
           "Scrypt"
          ],
          [
           "Scrypt"
          ],
          [
           "SHA-512"
          ],
          [
           "Ouroboros"
          ],
          [
           "X11"
          ],
          [
           "NeoScrypt"
          ],
          [
           "Scrypt"
          ],
          [
           "Lyra2REv2"
          ],
          [
           "Scrypt"
          ],
          [
           "SHA-256"
          ],
          [
           "NIST5"
          ],
          [
           "PHI1612"
          ],
          [
           "Scrypt"
          ],
          [
           "Quark"
          ],
          [
           "POS 2.0"
          ],
          [
           "Scrypt"
          ],
          [
           "SHA-256"
          ],
          [
           "X11"
          ],
          [
           "NIST5"
          ],
          [
           "X13"
          ],
          [
           "Scrypt"
          ],
          [
           "NIST5"
          ],
          [
           "Quark"
          ],
          [
           "Scrypt"
          ],
          [
           "Scrypt"
          ],
          [
           "X11"
          ],
          [
           "Quark"
          ],
          [
           "Scrypt"
          ],
          [
           "Scrypt"
          ],
          [
           "X11"
          ],
          [
           "POS 3.0"
          ],
          [
           "Ethash"
          ],
          [
           "Scrypt"
          ],
          [
           "Scrypt"
          ],
          [
           "X13"
          ],
          [
           "C11"
          ],
          [
           "X11"
          ],
          [
           "XEVAN"
          ],
          [
           "Scrypt"
          ],
          [
           "VBFT"
          ],
          [
           "NIST5"
          ],
          [
           "Scrypt"
          ],
          [
           "Scrypt"
          ],
          [
           "Scrypt"
          ],
          [
           "Green Protocol"
          ],
          [
           "PoS"
          ],
          [
           "Scrypt"
          ],
          [
           "Quark"
          ],
          [
           "PoS"
          ],
          [
           "X16R"
          ],
          [
           "Scrypt"
          ],
          [
           "XEVAN"
          ],
          [
           "Scrypt"
          ],
          [
           "Scrypt"
          ],
          [
           "Scrypt"
          ],
          [
           "SHA-256D"
          ],
          [
           "Scrypt"
          ],
          [
           "X15"
          ],
          [
           "Quark"
          ],
          [
           "SHA-256"
          ],
          [
           "DPoS"
          ],
          [
           "X16R"
          ],
          [
           "Quark"
          ],
          [
           "Quark"
          ],
          [
           "Scrypt"
          ],
          [
           "Lyra2REv2"
          ],
          [
           "Quark"
          ],
          [
           "Scrypt"
          ],
          [
           "X11"
          ],
          [
           "X11"
          ],
          [
           "Scrypt"
          ],
          [
           "PoS"
          ],
          [
           "Keccak"
          ],
          [
           "X11"
          ],
          [
           "Scrypt"
          ],
          [
           "SHA-512"
          ],
          [
           "XEVAN"
          ],
          [
           "XEVAN"
          ],
          [
           "X11"
          ],
          [
           "Quark"
          ],
          [
           "Equihash"
          ],
          [
           "Scrypt"
          ],
          [
           "Quark"
          ],
          [
           "Quark"
          ],
          [
           "Scrypt"
          ],
          [
           "X11"
          ],
          [
           "Scrypt"
          ],
          [
           "XEVAN"
          ],
          [
           "SHA-256D"
          ],
          [
           "X11"
          ],
          [
           "X11"
          ],
          [
           "Scrypt"
          ],
          [
           "X11"
          ],
          [
           "Scrypt"
          ],
          [
           "Scrypt"
          ],
          [
           "SHA-256"
          ],
          [
           "Scrypt"
          ],
          [
           "X11"
          ],
          [
           "Scrypt"
          ],
          [
           "SHA-256"
          ],
          [
           "X11"
          ],
          [
           "Scrypt"
          ],
          [
           "Scrypt"
          ],
          [
           "X11"
          ],
          [
           "Scrypt"
          ],
          [
           "PoS"
          ],
          [
           "X11"
          ],
          [
           "SHA-256"
          ],
          [
           "Scrypt"
          ],
          [
           "Scrypt"
          ],
          [
           "NeoScrypt"
          ],
          [
           "X13"
          ],
          [
           "SHA-256"
          ],
          [
           "PoS"
          ],
          [
           "PoS"
          ],
          [
           "Scrypt"
          ],
          [
           "Scrypt"
          ]
         ],
         "hovertemplate": "<b>%{hovertext}</b><br><br>Class=%{marker.color}<br>PC 1=%{x}<br>PC 2=%{y}<br>PC 3=%{z}<br>Algorithm=%{customdata[0]}<extra></extra>",
         "hovertext": [
          "42 Coin",
          "404Coin",
          "Dash",
          "Bitshares",
          "BitcoinDark",
          "PayCoin",
          "KoboCoin",
          "Aurora Coin",
          "BlueCoin",
          "EnergyCoin",
          "BitBar",
          "CryptoBullion",
          "CasinoCoin",
          "Diamond",
          "Exclusive Coin",
          "HoboNickels",
          "HyperStake",
          "IOCoin",
          "MaxCoin",
          "MintCoin",
          "MazaCoin",
          "Nautilus Coin",
          "NavCoin",
          "OpalCoin",
          "Orbitcoin",
          "PotCoin",
          "PhoenixCoin",
          "Reddcoin",
          "SuperCoin",
          "SyncCoin",
          "TeslaCoin",
          "TittieCoin",
          "TorCoin",
          "UnitaryStatus Dollar",
          "UltraCoin",
          "VeriCoin",
          "X11 Coin",
          "Crypti",
          "StealthCoin",
          "ZCC Coin",
          "BurstCoin",
          "StorjCoin",
          "Neutron",
          "FairCoin",
          "RubyCoin",
          "Kore",
          "Dnotes",
          "8BIT Coin",
          "Sativa Coin",
          "Ucoin",
          "Vtorrent",
          "IslaCoin",
          "Nexus",
          "Droidz",
          "Squall Coin",
          "Diggits",
          "Paycon",
          "Emercoin",
          "EverGreenCoin",
          "Decred",
          "EDRCoin",
          "Hitcoin",
          "DubaiCoin",
          "PWR Coin",
          "BillaryCoin",
          "GPU Coin",
          "EuropeCoin",
          "ZeitCoin",
          "SwingCoin",
          "SafeExchangeCoin",
          "Nebuchadnezzar",
          "Ratecoin",
          "Revenu",
          "Clockcoin",
          "VIP Tokens",
          "BitSend",
          "Let it Ride",
          "PutinCoin",
          "iBankCoin",
          "Frankywillcoin",
          "MudraCoin",
          "Lutetium Coin",
          "GoldBlocks",
          "CarterCoin",
          "BitTokens",
          "MustangCoin",
          "ZoneCoin",
          "RootCoin",
          "BitCurrency",
          "BuzzCoin",
          "Opair",
          "PesoBit",
          "Halloween Coin",
          "CoffeeCoin",
          "RoyalCoin",
          "GanjaCoin V2",
          "TeamUP",
          "LanaCoin",
          "InsaneCoin",
          "EmberCoin",
          "XenixCoin",
          "FreeCoin",
          "PLNCoin",
          "AquariusCoin",
          "Creatio",
          "Eternity",
          "Eurocoin",
          "BitcoinFast",
          "Stakenet",
          "BitConnect Coin",
          "MoneyCoin",
          "Enigma",
          "Russiacoin",
          "PandaCoin",
          "GameUnits",
          "GAKHcoin",
          "Allsafe",
          "LiteCreed",
          "Klingon Empire Darsek",
          "Internet of People",
          "KushCoin",
          "Printerium",
          "Impeach",
          "Zilbercoin",
          "FirstCoin",
          "FindCoin",
          "OpenChat",
          "RenosCoin",
          "VirtacoinPlus",
          "TajCoin",
          "Impact",
          "Atmos",
          "HappyCoin",
          "MacronCoin",
          "Condensate",
          "Independent Money System",
          "ArgusCoin",
          "LomoCoin",
          "ProCurrency",
          "GoldReserve",
          "GrowthCoin",
          "Phreak",
          "Degas Coin",
          "HTML5 Coin",
          "Ultimate Secure Cash",
          "QTUM",
          "Espers",
          "Denarius",
          "Virta Unique Coin",
          "Bitcoin Planet",
          "BritCoin",
          "Linda",
          "DeepOnion",
          "Signatum",
          "Cream",
          "Monoeci",
          "Draftcoin",
          "Stakecoin",
          "CoinonatX",
          "Ethereum Dark",
          "Obsidian",
          "Cardano",
          "Regalcoin",
          "TrezarCoin",
          "TerraNovaCoin",
          "Rupee",
          "WomenCoin",
          "Theresa May Coin",
          "NamoCoin",
          "LUXCoin",
          "Xios",
          "Bitcloud 2.0",
          "KekCoin",
          "BlackholeCoin",
          "Infinity Economics",
          "Magnet",
          "Electra",
          "Bitcoin Diamond",
          "Cash & Back Coin",
          "Bulwark",
          "Kalkulus",
          "GermanCoin",
          "LiteCoin Ultra",
          "PhantomX",
          "Digiwage",
          "Trollcoin",
          "Litecoin Plus",
          "Monkey Project",
          "TokenPay",
          "1717 Masonic Commemorative Token",
          "My Big Coin",
          "Unified Society USDEX",
          "Tokyo Coin",
          "Stipend",
          "Pushi",
          "Ellerium",
          "Velox",
          "Ontology",
          "Bitspace",
          "Briacoin",
          "Ignition",
          "MedicCoin",
          "Bitcoin Green",
          "Deviant Coin",
          "Abjcoin",
          "Carebit",
          "Zealium",
          "Proton",
          "iDealCash",
          "Bitcoin Incognito",
          "HollyWoodCoin",
          "Swisscoin",
          "Xt3ch",
          "TheVig",
          "EmaratCoin",
          "Dekado",
          "Poseidon Quark",
          "BitcoinWSpectrum",
          "Muse",
          "Trivechain",
          "Dystem",
          "Giant",
          "Peony Coin",
          "Absolute Coin",
          "Vitae",
          "TPCash",
          "ARENON",
          "EUNO",
          "MMOCoin",
          "Ketan",
          "XDNA",
          "PAXEX",
          "ThunderStake",
          "Kcash",
          "Bettex coin",
          "BitMoney",
          "Junson Ming Chan Coin",
          "HerbCoin",
          "PirateCash",
          "Oduwa",
          "Galilel",
          "Crypto Sports",
          "Credit",
          "Dash Platinum",
          "Nasdacoin",
          "Beetle Coin",
          "Titan Coin",
          "Award",
          "Insane Coin",
          "LiteDoge",
          "TruckCoin",
          "OrangeCoin",
          "BitstarCoin",
          "NeosCoin",
          "HyperCoin",
          "PinkCoin",
          "AudioCoin",
          "IncaKoin",
          "Piggy Coin",
          "Genstake",
          "XiaoMiCoin",
          "CapriCoin",
          " ClubCoin",
          "Radium",
          "Creditbit ",
          "OKCash",
          "HiCoin",
          "WhiteCoin",
          "FriendshipCoin",
          "Triangles Coin",
          "TigerCash",
          "Particl",
          "Nxt",
          "Gapcoin",
          "BitcoinPlus"
         ],
         "legendgroup": "0",
         "marker": {
          "color": [
           0,
           0,
           0,
           0,
           0,
           0,
           0,
           0,
           0,
           0,
           0,
           0,
           0,
           0,
           0,
           0,
           0,
           0,
           0,
           0,
           0,
           0,
           0,
           0,
           0,
           0,
           0,
           0,
           0,
           0,
           0,
           0,
           0,
           0,
           0,
           0,
           0,
           0,
           0,
           0,
           0,
           0,
           0,
           0,
           0,
           0,
           0,
           0,
           0,
           0,
           0,
           0,
           0,
           0,
           0,
           0,
           0,
           0,
           0,
           0,
           0,
           0,
           0,
           0,
           0,
           0,
           0,
           0,
           0,
           0,
           0,
           0,
           0,
           0,
           0,
           0,
           0,
           0,
           0,
           0,
           0,
           0,
           0,
           0,
           0,
           0,
           0,
           0,
           0,
           0,
           0,
           0,
           0,
           0,
           0,
           0,
           0,
           0,
           0,
           0,
           0,
           0,
           0,
           0,
           0,
           0,
           0,
           0,
           0,
           0,
           0,
           0,
           0,
           0,
           0,
           0,
           0,
           0,
           0,
           0,
           0,
           0,
           0,
           0,
           0,
           0,
           0,
           0,
           0,
           0,
           0,
           0,
           0,
           0,
           0,
           0,
           0,
           0,
           0,
           0,
           0,
           0,
           0,
           0,
           0,
           0,
           0,
           0,
           0,
           0,
           0,
           0,
           0,
           0,
           0,
           0,
           0,
           0,
           0,
           0,
           0,
           0,
           0,
           0,
           0,
           0,
           0,
           0,
           0,
           0,
           0,
           0,
           0,
           0,
           0,
           0,
           0,
           0,
           0,
           0,
           0,
           0,
           0,
           0,
           0,
           0,
           0,
           0,
           0,
           0,
           0,
           0,
           0,
           0,
           0,
           0,
           0,
           0,
           0,
           0,
           0,
           0,
           0,
           0,
           0,
           0,
           0,
           0,
           0,
           0,
           0,
           0,
           0,
           0,
           0,
           0,
           0,
           0,
           0,
           0,
           0,
           0,
           0,
           0,
           0,
           0,
           0,
           0,
           0,
           0,
           0,
           0,
           0,
           0,
           0,
           0,
           0,
           0,
           0,
           0,
           0,
           0,
           0,
           0,
           0,
           0,
           0,
           0,
           0,
           0,
           0,
           0,
           0,
           0,
           0,
           0,
           0,
           0,
           0,
           0,
           0,
           0,
           0,
           0,
           0,
           0,
           0,
           0,
           0,
           0,
           0,
           0,
           0,
           0,
           0
          ],
          "coloraxis": "coloraxis",
          "symbol": "circle"
         },
         "mode": "markers",
         "name": "0",
         "scene": "scene",
         "showlegend": true,
         "type": "scatter3d",
         "x": [
          -0.6187703131657563,
          -0.5998925152855086,
          -0.5503099972006347,
          -0.06113578911006724,
          -0.5345691116777439,
          -0.278740324954342,
          -0.48036761906632697,
          -0.6194867471324971,
          -0.6097000856882011,
          -0.6178173426181667,
          -0.6186179810102825,
          -0.6197362166666509,
          0.5421805961495618,
          -0.39836522020260506,
          -0.2972115189047524,
          -0.6167752557300574,
          -0.2707466878540217,
          -0.5493338883224738,
          -0.4173491033591512,
          -0.05835581156143321,
          -0.4921410317520663,
          -0.36381203578801863,
          -0.5903951179782224,
          -0.5906805845024093,
          -0.5384341149818801,
          -0.6134198169255656,
          -0.6176651173020754,
          -0.20005100952754526,
          -0.29262061370508075,
          -0.5502929834830939,
          -0.1249143906627109,
          -0.37377246643113,
          -0.5509254511931245,
          -0.5899378166303504,
          -0.617651392819119,
          -0.6428505417665109,
          -0.5508014321216104,
          -0.12553110524771005,
          -0.5903533279631611,
          -0.6093849850577411,
          -0.3774633807657065,
          -0.22047186578949088,
          -0.5335198781834083,
          -0.3975424744721071,
          -0.3627200439661076,
          -0.5923485882607846,
          -0.35622295330784776,
          -0.6191081874710275,
          -0.5917579413768347,
          -0.2947004361977367,
          -0.6192374400174885,
          -0.5510324191031855,
          0.09716328520030014,
          -0.8743630932350139,
          -0.023596401618479028,
          -0.36110165490082685,
          -0.5901613522932683,
          -0.5267212482104833,
          -0.4839300640006192,
          -0.30050882710439414,
          -0.5355984466492255,
          -0.17144173582272582,
          -0.5360359718898475,
          -0.43034412730912724,
          -0.618067005535917,
          -0.36214677194575084,
          -0.548714402195845,
          0.9895888792450795,
          -0.5342742645242776,
          -0.31326326963696566,
          -0.2983455216607615,
          -0.5471243029531531,
          -0.5332134593014977,
          -0.5307392846189682,
          -0.5730221119449994,
          -0.5470309512507665,
          -0.03102304749293473,
          -0.5907163087186856,
          -0.6200280122964603,
          -0.616047588861261,
          -0.33464033810273014,
          -0.2786954126389403,
          -0.5490978086211666,
          -0.618265467822668,
          -0.5350918688718462,
          -0.5497973210032878,
          -0.6188633106961184,
          -0.6179686992819333,
          -0.3607492884611615,
          -0.3023018866219283,
          -0.2977846037725804,
          -0.6185420455336119,
          -0.5349310935109994,
          -0.29709170800072915,
          -0.335340276674911,
          -1.2155460458292695,
          -0.2955434733558187,
          -0.671891027072836,
          -0.5505882723025646,
          0.733030407703283,
          -0.5494094064409787,
          -0.29799421751949795,
          -0.6190696748294905,
          -0.6190074987274639,
          -0.2974449149790361,
          -0.5490632874539895,
          -0.5344509531055928,
          -0.6187984175381892,
          -0.22006570896641373,
          -0.6189558437705542,
          -0.6131431413167476,
          -0.5492754038670647,
          -0.6175920861269156,
          0.39070158707269365,
          -0.6189436337739725,
          -0.6192013016033406,
          -0.3824719061617297,
          -0.4904368694571018,
          -0.6155078802358684,
          -0.533605362621746,
          -0.551172155471208,
          -0.619791730209064,
          -0.6191874731098982,
          -0.36176039398091164,
          -0.32588430629311715,
          -0.3355531271565194,
          -0.5967775763244487,
          -0.36233281068459233,
          -0.5482147438232564,
          -0.6598015924238023,
          -0.5480573234745645,
          -0.2960855368715217,
          -0.548772014095494,
          -0.28879267176329504,
          -0.5454665041194082,
          -0.6181848157138585,
          -0.6176535204833881,
          -0.6094383190954846,
          0.347274190940408,
          -0.5489473082467156,
          -0.3430032766854396,
          -0.29881991259542134,
          -0.6191012231115768,
          0.8450227180558584,
          -0.27719809806735346,
          -0.02796355579270702,
          0.1078468098278543,
          -0.5733894436172278,
          -0.5715851975140033,
          -0.779071441219429,
          -0.5912244358635027,
          -0.07355106780369924,
          -0.5904194339469896,
          -0.21716755238590202,
          -0.779226161760264,
          -0.5491774228429832,
          -0.3634148558797335,
          -0.29827384562424714,
          -0.618085227725695,
          -0.6186558299360017,
          -0.1293779643010474,
          1.031155077714666,
          -0.5488633055172323,
          -0.5313795277194697,
          -0.6191322102659104,
          -0.1073412815858939,
          0.2815283230485873,
          -0.5326431409098206,
          -0.5559138606117475,
          -0.6708051488231698,
          -0.6186951894538485,
          -0.6370803148801842,
          -0.3038448253728318,
          -0.6185047043739139,
          -0.07557608239385925,
          -0.5492759887610551,
          0.08093870387187853,
          -0.5862119253467124,
          -0.6145422971608462,
          -0.316168832083108,
          -0.3833773341854948,
          -0.13201926723043098,
          -0.6172613269607513,
          -0.5499140652828199,
          -0.3812810177737781,
          -0.6030447600722338,
          -0.6200093259144834,
          -0.29429840460213125,
          -0.02801665627684502,
          -0.1154071834882097,
          -0.7537779516666084,
          -0.6140197537417201,
          -0.3250937240286511,
          -0.540038845248133,
          -0.5503331535138088,
          -0.5288175661040364,
          -0.3605317629507588,
          -0.6192226549349712,
          -0.5731301724636629,
          -0.6203213071427494,
          -0.6188067688842285,
          -0.35533582452172635,
          -0.1021755738192809,
          -0.29844564627117853,
          -0.6181925659521498,
          -0.6348753321259846,
          -0.2976943844464281,
          -0.31390231099606813,
          -0.5562750939065257,
          -0.0045856880915867175,
          -0.36298125362918143,
          -0.3885852634978795,
          -0.3623023610337243,
          -0.7471478754018667,
          -0.6189330132735129,
          -0.22680967604928798,
          -0.3756423139355273,
          -0.2779735355614087,
          0.8963023649449253,
          -0.5687562395762549,
          -0.3822252327169654,
          -0.6386513893287414,
          -0.22213160693220138,
          -0.36393261494981766,
          -0.3813162172914685,
          -0.6100715926224354,
          -0.29311038574496234,
          -0.5499045678693101,
          -0.3600456342602401,
          -0.29659825402264933,
          -0.6775554722892172,
          -0.2942177708030437,
          -0.45462897095992444,
          0.06885849513526172,
          -0.2720265412815798,
          0.307119375751349,
          -0.04871207753183179,
          -0.6378854390015951,
          -0.13547404765380303,
          -0.6181977489340681,
          -0.6388279924834419,
          -0.38079797573154905,
          0.4449667762583066,
          -0.29340123613009417,
          -0.6197803097525906,
          -0.523622574566861,
          -0.6961297701704559,
          -0.5465405775359404,
          -0.5495778210335773,
          -0.10834930272790348,
          -0.546698248483279,
          -0.6176304005497066,
          -0.6186882020160578,
          -0.27835832119874543,
          -0.6180853431380339,
          -0.540588560872555,
          -0.5178956249311483,
          -0.2776651642225122,
          -0.5353488442407688,
          -0.6186709111162171,
          -0.6101560230936898,
          -0.5458293779390838,
          -0.6171440050688983,
          -0.2982735490007929,
          0.06217598822820101,
          -0.5325555679849794,
          -0.13725588001762548,
          -0.6126700609707634,
          -0.5374785988249167,
          -0.5900759150107046,
          -0.25662276303404347,
          -0.29814419442931267,
          -0.4554882506163265,
          -0.6172928625366683,
          -0.3639369159834364
         ],
         "y": [
          0.7025041352896342,
          0.7010807063984293,
          1.2724845112032552,
          2.674621069682807,
          0.6944562751309219,
          0.885545053527137,
          2.047928227397748,
          0.7000898588137723,
          0.7010283086639325,
          0.7004092085976038,
          0.7032985163566153,
          0.7010879936451121,
          0.7486440426049509,
          0.9608977214768801,
          2.2297606561391663,
          0.7030604381948459,
          1.4641662626814342,
          1.276900526791948,
          1.8439086635501187,
          0.903475829940244,
          0.7005496640310539,
          0.8864919199462566,
          1.626829811386922,
          1.622835796035942,
          0.3863103166775381,
          0.7003351680569317,
          0.7010508833399612,
          0.7226173088143982,
          1.4648376898945588,
          1.2757144176539357,
          0.15483164027126417,
          2.371579414360559,
          1.273272297901057,
          0.7019485756021979,
          0.698570404551254,
          0.3254845233647936,
          1.2767609566641396,
          0.15620299185259287,
          1.6221923293935818,
          0.7030927895847763,
          2.280860497740226,
          1.5017596957944943,
          0.697484744332854,
          0.9594476371359156,
          0.888994770264978,
          1.6222785523311163,
          0.8899988689844516,
          0.699063749400273,
          1.6231587274470485,
          1.4587445175955516,
          0.7016426347707173,
          1.278601596516154,
          2.217738436541491,
          1.6853478623534512,
          2.0216127226343215,
          0.8902896597804196,
          1.624186309436065,
          0.6961407921188347,
          2.0480549522677345,
          0.7793260449528583,
          0.6932655589881889,
          1.27478641745781,
          0.6933290053732372,
          1.2052818102595326,
          0.6991133347927664,
          0.8898623419888573,
          1.274305575467153,
          0.8833290733931355,
          0.6958633659900715,
          0.7350086656530977,
          2.2301387738120138,
          1.2764124047924927,
          0.6964114990665523,
          0.6975696444176082,
          1.2028916766988846,
          1.2755704379153285,
          2.479800442177874,
          0.702996885017314,
          0.7003229987125441,
          0.7008815012492351,
          1.810753714666295,
          1.4646759816853825,
          1.2727414619638908,
          0.701268738914448,
          0.6971181528145343,
          1.2753853382495368,
          0.7018025756289233,
          0.698892176397016,
          0.8868287615093136,
          1.4384552514468891,
          2.2288299818836164,
          0.7006978936233517,
          1.2749254137874264,
          2.2301106775312918,
          1.8089484926129815,
          1.191237842623881,
          2.2279847173030753,
          1.4297496213158842,
          1.27322271472684,
          1.6756822894988275,
          1.2749285062718712,
          2.2300931630869423,
          0.7020975161549268,
          0.699411593684248,
          2.227142613470679,
          1.276685493310279,
          0.7005828136549161,
          0.6997267137206437,
          1.2183116410495716,
          0.7037492818987766,
          0.7023814063965638,
          1.2744792104286615,
          0.7013401631396423,
          0.9024721622186621,
          0.7033131117910073,
          0.6992349220818429,
          1.7510443931663207,
          0.5617257718649957,
          0.7020647553325361,
          0.6982077096447324,
          1.2753171838011457,
          0.7030853377824755,
          0.7003770999152736,
          0.8898256550726134,
          0.217147268720413,
          1.813682669581976,
          0.7027963178051001,
          0.8933853132102767,
          1.2734984795193023,
          1.8857468470929348,
          1.271962387058444,
          2.229939251921759,
          1.278132461172901,
          2.230101739213631,
          1.2723522095339295,
          0.7017229231695599,
          0.6990609116365172,
          0.7029982295089715,
          0.863213006322647,
          1.2738480967365564,
          0.8883621276797914,
          2.2296825100365227,
          0.7015686424563187,
          2.0429513692362047,
          0.8868259395535569,
          2.4803005140292806,
          1.4610327029236678,
          1.2032855276632655,
          1.2028604667461535,
          1.5500590366624531,
          1.6223776709740974,
          0.6921796149673048,
          1.6228555406399328,
          2.3018209815936377,
          1.5468314662793654,
          1.273502164917105,
          0.8870797727424801,
          2.2307014943110306,
          0.701097778534715,
          0.7017910915340907,
          2.6731392550492274,
          2.7223601830162614,
          1.2753493493749573,
          0.38495903267724185,
          0.7018458642461575,
          1.140133582203048,
          0.7224430973251073,
          0.6971808549775018,
          1.202264116110669,
          2.1815795190848766,
          0.703581589722284,
          1.563652521598881,
          1.6090830026663003,
          0.7004241330199847,
          0.8887116078888302,
          1.2719976473971162,
          1.2112235559998616,
          1.6216566196916258,
          0.7005284103246597,
          1.3928221681007744,
          1.7502644633405664,
          0.6920040247554547,
          0.7022913093319598,
          1.2734130539429347,
          1.750746340109709,
          0.7030229208721801,
          0.7013896102284435,
          1.4635404267038694,
          2.4826155029815453,
          0.37013841528982544,
          -0.11446658966323457,
          0.7002666013314773,
          1.808395669942502,
          0.4266066375459152,
          1.2749654784252857,
          1.9153568419362739,
          0.8875980278807324,
          2.56521424858516,
          1.2058359795957077,
          0.7027209307757322,
          0.7035410432598571,
          0.8877448008648068,
          2.0595178093058792,
          2.230048649817381,
          0.7005065337923392,
          1.5630120615918341,
          2.229219444025462,
          0.5751907218588442,
          0.7025916161121482,
          2.6589784192469987,
          0.8918764383505846,
          0.7028561967338899,
          0.8871598211818709,
          1.434242843705944,
          0.7040323815925732,
          2.2336992304283276,
          1.7519153611362968,
          0.8848109482771915,
          1.6614198224398935,
          0.3849088371395691,
          1.7504175199276908,
          1.5639813624903598,
          0.8838697516839936,
          0.9503043530034474,
          1.747553014385357,
          0.6997724207394121,
          1.4627797014824542,
          1.2708291997638417,
          0.8872317429656789,
          2.2264172195385012,
          0.4220439972435331,
          1.4607349963368814,
          0.695629443802298,
          3.751800711361874,
          2.100089683162231,
          2.7507914395324335,
          1.4764352750713827,
          1.5629048584188332,
          -0.012725952993701342,
          0.7010941400880206,
          1.563493871414521,
          1.7495315133955514,
          0.693958112576574,
          1.460794153143057,
          0.7019717082823209,
          1.910167101984775,
          1.4298622596081147,
          1.2741853661549642,
          1.2749026690151315,
          0.6987699662549273,
          1.2760434473336115,
          0.7009366264165131,
          0.7028948202886133,
          0.8876833218333964,
          0.6998180316206742,
          1.2723766929270894,
          0.6980535389668174,
          0.7078707686296193,
          1.273278225624269,
          0.7007228316931531,
          0.7035666936286112,
          1.278067513564103,
          0.7006344829128343,
          2.2322498270641717,
          0.7688362428619477,
          0.6977038363007614,
          0.8931156972888274,
          0.701204513831,
          0.38460460910828004,
          1.6244417359936005,
          0.8863724861553951,
          2.2304002556546734,
          3.170687859605457,
          0.7025741610773697,
          0.8906853095473872
         ],
         "z": [
          -0.4344603260839693,
          -0.43492934616038714,
          -0.33863625351105703,
          -0.29241593580640446,
          -0.28620203502605124,
          -0.37809285525674113,
          -0.887216554692289,
          -0.43299917040217584,
          -0.43304587585193277,
          -0.43255626123231644,
          -0.4339264116574751,
          -0.434921762261054,
          -0.5384266115707098,
          0.10027113624554232,
          -0.8832945850470515,
          -0.43357116716039407,
          -0.42960191836222583,
          -0.3397824109142531,
          0.5447233902555133,
          -0.524494333612849,
          -0.2854735459525538,
          -0.5275953372613703,
          -0.42234500246043466,
          -0.42370426508424713,
          -0.18709025696171394,
          -0.4353414581221268,
          -0.4329517490178018,
          -0.43000602871595006,
          -0.4300016054490655,
          -0.33886427740003305,
          -0.21692578483676603,
          -0.5504774113819084,
          -0.3372241215261219,
          -0.43402412672687907,
          -0.4348858442692193,
          -0.12170077102222077,
          -0.3384860001981774,
          -0.21763139191795447,
          -0.421947777111503,
          -0.4345785112599439,
          -1.080872928783794,
          -1.3139703772865627,
          -0.2852968383610638,
          0.09995541155019334,
          -0.5260062459801169,
          -0.42136786905427837,
          -0.5283512785699627,
          -0.43217224762329437,
          -0.4218614723729833,
          -0.4302748497735759,
          -0.43332630358599855,
          -0.34181795796585607,
          2.146498160259298,
          -1.0292676185639817,
          0.2709728594245465,
          -0.526091566704544,
          -0.42218503301965704,
          -0.2868829199097831,
          -0.890039148231422,
          -0.41770926207854436,
          -0.28440666397642844,
          -0.3346532105429257,
          -0.2859256296404037,
          -0.6844664372153441,
          -0.43455229660649614,
          -0.5273570359120369,
          -0.33975400373383813,
          -0.5208726333853974,
          -0.28708259614814235,
          -0.5458363562149422,
          -0.8849514800804819,
          -0.33715620767677407,
          -0.2860147788112259,
          -0.2830861616796132,
          -0.6867845500115286,
          -0.337849116495561,
          -0.887254403414619,
          -0.43253450808806004,
          -0.43351152608141813,
          -0.4332771262286187,
          -0.5168183962717017,
          -0.4308890777266774,
          -0.3375460282780134,
          -0.4362624635435981,
          -0.28263887021966255,
          -0.34034493166859037,
          -0.43363045268688444,
          -0.4327108577219728,
          -0.5267388085697257,
          -0.4572119572083536,
          -0.8852351934788225,
          -0.4322359234841852,
          -0.3385778892930102,
          -0.8848229794526556,
          -0.5164022012031779,
          -1.1606143930153217,
          -0.8840980242058576,
          -0.4571323180895325,
          -0.3394168447162009,
          -0.4144927806283754,
          -0.33791027319923056,
          -0.8856652168020005,
          -0.43375869674490936,
          -0.4338269087193614,
          -0.8838975372231305,
          -0.33785113905416575,
          -0.28634784088548426,
          -0.4325710793388483,
          -0.2969365625367212,
          -0.4346540561566761,
          -0.4351415523406491,
          -0.33687288187271863,
          -0.4317698132008383,
          -0.5227072445273885,
          -0.4334371597496385,
          -0.4335074117590642,
          -0.7932549242765901,
          -0.4834011751219798,
          -0.4356349953704989,
          -0.28543598223407407,
          -0.3377824815380806,
          -0.4334036589877879,
          -0.4333253790746213,
          -0.5275339963759972,
          0.21453585787246618,
          -0.515733328061371,
          -0.4341135270596857,
          -0.5263711965775564,
          -0.3383781306867578,
          -0.8038925881280095,
          -0.34158531054681046,
          -0.8823371580462432,
          -0.3390876232221292,
          -0.8848297169615362,
          -0.33962744105108345,
          -0.43249314980519943,
          -0.4332970955490686,
          -0.4349552593444624,
          -0.37706006257600955,
          -0.34017770528114716,
          -0.5251576328459645,
          -0.8834037658544274,
          -0.4356061094336167,
          -0.8867482346237181,
          -0.3774472534695473,
          -0.8898544087998884,
          -0.4697129136775368,
          -0.6863896034654461,
          -0.6875721635550603,
          -0.5680470799981202,
          -0.4229750555091737,
          -0.4321292293010529,
          -0.42186456253594484,
          -0.7223228600991595,
          -0.5698391981057952,
          -0.3372122218239966,
          -0.5259795920857121,
          -0.8845607316704387,
          -0.4335178398963382,
          -0.4322547059202796,
          -0.29497647572869745,
          -0.25047970155186067,
          -0.3405953855852426,
          -0.18637368597156334,
          -0.4358068173536083,
          -0.5346187275151291,
          -0.4300430800959242,
          -0.28474851166178067,
          -0.6864312359966064,
          -0.4592022178722983,
          -0.43114758893299776,
          -0.7002600704264536,
          -1.6111545022087976,
          -0.4319784930279286,
          -0.3769714487779216,
          -0.3407916513978626,
          -0.6850574095655898,
          -0.42224896121567435,
          -0.43254055135515174,
          -0.7773622412845261,
          -0.7910913208171308,
          -0.43110924040281173,
          -0.43272779411277473,
          -0.3407758543196935,
          -0.7915019678174634,
          -0.43345190013863827,
          -0.4324071962023246,
          -0.4310408358743949,
          -0.8877738096368215,
          -0.17592368735181124,
          -0.3650061710202178,
          -0.4340243722833373,
          -0.5189763744321882,
          -0.25194963606075677,
          -0.3393798331774384,
          -0.17712502701038524,
          -0.5245698041129768,
          -1.1380152505059913,
          -0.6848488248956913,
          -0.4345926530163863,
          -0.4316675587151728,
          -0.5264563672175079,
          -0.9120912983946975,
          -0.8859813024452322,
          -0.4356983666556175,
          -0.6999360202785125,
          -0.8825733046037056,
          -0.7368012906609377,
          -0.43459939762779687,
          0.4316401371814263,
          -0.529913222971174,
          -0.4339467809011963,
          -0.526332068857845,
          -0.45787571456691517,
          -0.4322936276439546,
          -0.9831003372059115,
          -0.7923141967391301,
          -0.3779346671556979,
          -0.25726490537567437,
          -0.6461365289991275,
          -0.789495024844328,
          -0.7002904492422307,
          -0.5272571513114436,
          -0.4391383846794031,
          -0.7940815083470686,
          -0.4343291571105878,
          -0.4336395554795283,
          -0.34068515900567264,
          -0.526257251184241,
          -0.8853715993400423,
          -0.4522570910271117,
          -0.43135355981815926,
          -0.4333635404693269,
          0.545488306976288,
          -0.26929963972396226,
          0.4133007891861818,
          -0.43131742214074426,
          -0.7005610680763346,
          -0.26868592635135263,
          -0.43554128332991193,
          -0.6989667892348451,
          -0.7919114777523615,
          -0.4310371383028007,
          -0.4304094797735266,
          -0.4313578770561922,
          -0.17488670577731943,
          -0.45945969820125554,
          -0.33892956737661767,
          -0.3361954367463355,
          -0.4322960234256632,
          -0.3371268933596171,
          -0.4314861949462782,
          -0.43268936992279616,
          -0.3757170851764203,
          -0.43578003576721547,
          -0.3401083231950113,
          -0.43390761382022264,
          -0.28472308595466495,
          -0.3393303253256029,
          -0.4347659954256187,
          -0.4324219652104202,
          -0.3390263135103146,
          -0.4309486598121436,
          -0.8842057504454246,
          0.7832819881053784,
          -0.2857683849503419,
          -0.5253919460992699,
          -0.43540511642470253,
          -0.18384072912866967,
          -0.423622538296333,
          -0.37807565939433724,
          -0.8837619492323239,
          -1.0254194758701212,
          -0.43350148127175236,
          -0.5281978559165581
         ]
        },
        {
         "customdata": [
          [
           "X13"
          ],
          [
           "Scrypt"
          ],
          [
           "CryptoNight"
          ],
          [
           "DPoS"
          ],
          [
           "Scrypt"
          ],
          [
           "VeChainThor Authority"
          ],
          [
           "DPoS"
          ],
          [
           "CryptoNight"
          ],
          [
           "Semux BFT consensus"
          ],
          [
           "Scrypt"
          ],
          [
           "CryptoNight Heavy"
          ],
          [
           "DPoS"
          ],
          [
           "DPoS"
          ],
          [
           "DPoS"
          ],
          [
           "DPoS"
          ],
          [
           "SHA-256"
          ]
         ],
         "hovertemplate": "<b>%{hovertext}</b><br><br>Class=%{marker.color}<br>PC 1=%{x}<br>PC 2=%{y}<br>PC 3=%{z}<br>Algorithm=%{customdata[0]}<extra></extra>",
         "hovertext": [
          "EliteCoin",
          "MoonCoin",
          "ByteCoin",
          "ARK",
          "gCn Coin",
          "Vechain",
          "Lamden Tau",
          "TurtleCoin",
          "Semux",
          "Lynx",
          "Qwertycoin",
          "ALAX",
          "Lisk",
          "EOS",
          "Oxycoin",
          "ZEPHYR"
         ],
         "legendgroup": "5",
         "marker": {
          "color": [
           5,
           5,
           5,
           5,
           5,
           5,
           5,
           5,
           5,
           5,
           5,
           5,
           5,
           5,
           5,
           5
          ],
          "coloraxis": "coloraxis",
          "symbol": "diamond"
         },
         "mode": "markers",
         "name": "5",
         "scene": "scene",
         "showlegend": true,
         "type": "scatter3d",
         "x": [
          2.4419838492143504,
          3.03465020832511,
          4.708262877320753,
          3.670851825855404,
          3.8332778667387264,
          6.608133234230624,
          3.676137887689801,
          9.6286769486137,
          3.903995976789259,
          2.613933457970672,
          3.9016938462118516,
          3.689537220047486,
          3.6703923009349553,
          3.683173062762102,
          3.683990212987959,
          2.5391838020878126
         ],
         "y": [
          1.5442625136210806,
          -1.4585305870327043,
          -2.268691619194473,
          1.3449214106188652,
          -1.3098034913967325,
          9.499035337190662,
          1.3453041411018376,
          -2.5942188840665987,
          1.3504739705023077,
          -0.3362912551652165,
          -1.9172483948659444,
          1.344265501029787,
          1.3467161263536218,
          1.3450954570757,
          1.343993052564221,
          0.5686644419138646
         ],
         "z": [
          -0.4184587964628695,
          0.08026076013788498,
          0.34073980875183807,
          0.27604436429794427,
          0.09393829698596629,
          -7.821117901866109,
          0.2772949677383792,
          0.3327704350907182,
          -0.06188190294296432,
          -0.009920535525872768,
          0.46219859389669016,
          0.27772324691365313,
          0.27391947777292724,
          0.2761687322058231,
          0.27634984394473944,
          0.15533998111839498
         ]
        },
        {
         "customdata": [
          [
           "SHA-256"
          ],
          [
           "Ethash"
          ],
          [
           "Scrypt"
          ],
          [
           "CryptoNight-V7"
          ],
          [
           "Ethash"
          ],
          [
           "Equihash"
          ],
          [
           "Multiple"
          ],
          [
           "Scrypt"
          ],
          [
           "X11"
          ],
          [
           "Scrypt"
          ],
          [
           "Multiple"
          ],
          [
           "SHA-256"
          ],
          [
           "Scrypt"
          ],
          [
           "Scrypt"
          ],
          [
           "Quark"
          ],
          [
           "Groestl"
          ],
          [
           "Scrypt"
          ],
          [
           "Scrypt"
          ],
          [
           "Scrypt"
          ],
          [
           "X11"
          ],
          [
           "Multiple"
          ],
          [
           "SHA-256"
          ],
          [
           "Scrypt"
          ],
          [
           "Scrypt"
          ],
          [
           "Scrypt"
          ],
          [
           "Scrypt"
          ],
          [
           "Scrypt"
          ],
          [
           "Scrypt"
          ],
          [
           "NeoScrypt"
          ],
          [
           "Scrypt"
          ],
          [
           "Scrypt"
          ],
          [
           "Scrypt"
          ],
          [
           "Scrypt"
          ],
          [
           "SHA-256"
          ],
          [
           "Scrypt"
          ],
          [
           "Scrypt"
          ],
          [
           "Scrypt"
          ],
          [
           "Scrypt"
          ],
          [
           "HybridScryptHash256"
          ],
          [
           "Scrypt"
          ],
          [
           "Scrypt"
          ],
          [
           "SHA-256"
          ],
          [
           "Scrypt"
          ],
          [
           "Scrypt"
          ],
          [
           "Scrypt"
          ],
          [
           "Scrypt"
          ],
          [
           "SHA-256"
          ],
          [
           "SHA-256"
          ],
          [
           "SHA-256"
          ],
          [
           "SHA-256"
          ],
          [
           "SHA-256"
          ],
          [
           "X11"
          ],
          [
           "Scrypt"
          ],
          [
           "Lyra2REv2"
          ],
          [
           "Scrypt"
          ],
          [
           "SHA-256"
          ],
          [
           "CryptoNight"
          ],
          [
           "Scrypt"
          ],
          [
           "Scrypt"
          ],
          [
           "Scrypt"
          ],
          [
           "Scrypt"
          ],
          [
           "Scrypt"
          ],
          [
           "Scrypt"
          ],
          [
           "Stanford Folding"
          ],
          [
           "Multiple"
          ],
          [
           "QuBit"
          ],
          [
           "Scrypt"
          ],
          [
           "Scrypt"
          ],
          [
           "M7 POW"
          ],
          [
           "Scrypt"
          ],
          [
           "SHA-256"
          ],
          [
           "Scrypt"
          ],
          [
           "X11"
          ],
          [
           "Lyra2RE"
          ],
          [
           "SHA-256"
          ],
          [
           "X11"
          ],
          [
           "Scrypt"
          ],
          [
           "Scrypt"
          ],
          [
           "Ethash"
          ],
          [
           "Blake2b"
          ],
          [
           "X11"
          ],
          [
           "SHA-256"
          ],
          [
           "Scrypt"
          ],
          [
           "1GB AES Pattern Search"
          ],
          [
           "Scrypt"
          ],
          [
           "SHA-256"
          ],
          [
           "X11"
          ],
          [
           "Dagger"
          ],
          [
           "Scrypt"
          ],
          [
           "X11GOST"
          ],
          [
           "Scrypt"
          ],
          [
           "X11"
          ],
          [
           "Scrypt"
          ],
          [
           "X11"
          ],
          [
           "Equihash"
          ],
          [
           "CryptoNight"
          ],
          [
           "SHA-256"
          ],
          [
           "Multiple"
          ],
          [
           "Scrypt"
          ],
          [
           "SHA-256"
          ],
          [
           "Scrypt"
          ],
          [
           "Scrypt"
          ],
          [
           "Lyra2Z"
          ],
          [
           "Ethash"
          ],
          [
           "Equihash"
          ],
          [
           "Scrypt"
          ],
          [
           "X11"
          ],
          [
           "X11"
          ],
          [
           "CryptoNight"
          ],
          [
           "Scrypt"
          ],
          [
           "CryptoNight"
          ],
          [
           "Lyra2RE"
          ],
          [
           "X11"
          ],
          [
           "CryptoNight-V7"
          ],
          [
           "Scrypt"
          ],
          [
           "X11"
          ],
          [
           "Equihash"
          ],
          [
           "Scrypt"
          ],
          [
           "Lyra2RE"
          ],
          [
           "Dagger-Hashimoto"
          ],
          [
           "Scrypt"
          ],
          [
           "NIST5"
          ],
          [
           "Scrypt"
          ],
          [
           "SHA-256"
          ],
          [
           "Scrypt"
          ],
          [
           "CryptoNight-V7"
          ],
          [
           "Argon2d"
          ],
          [
           "Blake2b"
          ],
          [
           "Cloverhash"
          ],
          [
           "CryptoNight"
          ],
          [
           "X11"
          ],
          [
           "Scrypt"
          ],
          [
           "Scrypt"
          ],
          [
           "X11"
          ],
          [
           "X11"
          ],
          [
           "CryptoNight"
          ],
          [
           "Time Travel"
          ],
          [
           "Keccak"
          ],
          [
           "X11"
          ],
          [
           "SHA-256"
          ],
          [
           "Scrypt"
          ],
          [
           "Scrypt"
          ],
          [
           "Scrypt"
          ],
          [
           "Scrypt"
          ],
          [
           "Scrypt"
          ],
          [
           "Scrypt"
          ],
          [
           "CryptoNight"
          ],
          [
           "Equihash"
          ],
          [
           "X11"
          ],
          [
           "NeoScrypt"
          ],
          [
           "Equihash"
          ],
          [
           "Dagger"
          ],
          [
           "Scrypt"
          ],
          [
           "X11"
          ],
          [
           "NeoScrypt"
          ],
          [
           "Ethash"
          ],
          [
           "NeoScrypt"
          ],
          [
           "Multiple"
          ],
          [
           "CryptoNight"
          ],
          [
           "CryptoNight"
          ],
          [
           "Ethash"
          ],
          [
           "X11"
          ],
          [
           "CryptoNight-V7"
          ],
          [
           "Scrypt"
          ],
          [
           "BLAKE256"
          ],
          [
           "X11"
          ],
          [
           "NeoScrypt"
          ],
          [
           "NeoScrypt"
          ],
          [
           "Scrypt"
          ],
          [
           "X11"
          ],
          [
           "SHA-256"
          ],
          [
           "C11"
          ],
          [
           "SkunkHash"
          ],
          [
           "CryptoNight"
          ],
          [
           "Scrypt"
          ],
          [
           "Dagger"
          ],
          [
           "Lyra2REv2"
          ],
          [
           "Scrypt"
          ],
          [
           "Scrypt"
          ],
          [
           "X11"
          ],
          [
           "Ethash"
          ],
          [
           "CryptoNight"
          ],
          [
           "Scrypt"
          ],
          [
           "IMesh"
          ],
          [
           "Equihash"
          ],
          [
           "Lyra2Z"
          ],
          [
           "X11"
          ],
          [
           "CryptoNight"
          ],
          [
           "NIST5"
          ],
          [
           "Lyra2RE"
          ],
          [
           "Tribus"
          ],
          [
           "Lyra2Z"
          ],
          [
           "CryptoNight"
          ],
          [
           "CryptoNight Heavy"
          ],
          [
           "CryptoNight"
          ],
          [
           "Jump Consistent Hash"
          ],
          [
           "CryptoNight"
          ],
          [
           "X16R"
          ],
          [
           "HMQ1725"
          ],
          [
           "X11"
          ],
          [
           "Scrypt"
          ],
          [
           "CryptoNight-V7"
          ],
          [
           "Cryptonight-GPU"
          ],
          [
           "XEVAN"
          ],
          [
           "SHA-256"
          ],
          [
           "X11"
          ],
          [
           "X16R"
          ],
          [
           "Equihash"
          ],
          [
           "Lyra2Z"
          ],
          [
           "SHA-256"
          ],
          [
           "CryptoNight"
          ],
          [
           "Blake"
          ],
          [
           "Blake"
          ],
          [
           "Exosis"
          ],
          [
           "Scrypt"
          ],
          [
           "Equihash"
          ],
          [
           "Equihash"
          ],
          [
           "QuBit"
          ],
          [
           "SHA-256"
          ],
          [
           "X13"
          ],
          [
           "SHA-256"
          ],
          [
           "Scrypt"
          ],
          [
           "NeoScrypt"
          ],
          [
           "Blake"
          ],
          [
           "Scrypt"
          ],
          [
           "SHA-256"
          ],
          [
           "Scrypt"
          ],
          [
           "Groestl"
          ],
          [
           "Scrypt"
          ],
          [
           "Scrypt"
          ],
          [
           "SHA3-256"
          ],
          [
           "Multiple"
          ],
          [
           "Equihash+Scrypt"
          ],
          [
           "Ethash"
          ],
          [
           "CryptoNight"
          ],
          [
           "Equihash"
          ]
         ],
         "hovertemplate": "<b>%{hovertext}</b><br><br>Class=%{marker.color}<br>PC 1=%{x}<br>PC 2=%{y}<br>PC 3=%{z}<br>Algorithm=%{customdata[0]}<extra></extra>",
         "hovertext": [
          "Bitcoin",
          "Ethereum",
          "Litecoin",
          "Monero",
          "Ethereum Classic",
          "ZCash",
          "DigiByte",
          "ProsperCoin",
          "Spreadcoin",
          "Argentum",
          "MyriadCoin",
          "ZetaCoin",
          "SexCoin",
          "Quatloo",
          "QuarkCoin",
          "Riecoin",
          "Digitalcoin ",
          "Catcoin",
          "CannaCoin",
          "CryptCoin",
          "Verge",
          "DevCoin",
          "EarthCoin",
          "E-Gulden",
          "Einsteinium",
          "Emerald",
          "FlutterCoin",
          "Franko",
          "FeatherCoin",
          "GrandCoin",
          "GlobalCoin",
          "GoldCoin",
          "Infinite Coin",
          "IXcoin",
          "KrugerCoin",
          "LuckyCoin",
          "Litebar ",
          "MegaCoin",
          "MediterraneanCoin",
          "MinCoin",
          "NobleCoin",
          "Namecoin",
          "NyanCoin",
          "RonPaulCoin",
          "StableCoin",
          "SmartCoin",
          "SysCoin",
          "TigerCoin",
          "TerraCoin",
          "UnbreakableCoin",
          "Unobtanium",
          "UroCoin",
          "ViaCoin",
          "Vertcoin",
          "WorldCoin",
          "JouleCoin",
          "DigitalNote ",
          "MonaCoin",
          "Gulden",
          "PesetaCoin",
          "Wild Beast Coin",
          "Flo",
          "ArtByte",
          "Folding Coin",
          "Unitus",
          "CypherPunkCoin",
          "OmniCron",
          "GreenCoin",
          "Cryptonite",
          "MasterCoin",
          "SoonCoin",
          "1Credit",
          "MarsCoin ",
          "Crypto",
          "Anarchists Prime",
          "BowsCoin",
          "Song Coin",
          "BitZeny",
          "Expanse",
          "Siacoin",
          "MindCoin",
          "I0coin",
          "Revolution VR",
          "HOdlcoin",
          "Gamecredits",
          "CarpeDiemCoin",
          "Adzcoin",
          "SoilCoin",
          "YoCoin",
          "SibCoin",
          "Francs",
          "BolivarCoin",
          "Omni",
          "PizzaCoin",
          "Komodo",
          "Karbo",
          "ZayedCoin",
          "Circuits of Value",
          "DopeCoin",
          "DollarCoin",
          "Swiscoin",
          "Shilling",
          "ZCoin",
          "Elementrem",
          "ZClassic",
          "KiloCoin",
          "ArtexCoin",
          "Kurrent",
          "Cannabis Industry Coin",
          "OsmiumCoin",
          "Bikercoins",
          "HexxCoin",
          "PacCoin",
          "Citadel",
          "BeaverCoin",
          "VaultCoin",
          "Zero",
          "Canada eCoin",
          "Zoin",
          "DubaiCoin",
          "EB3coin",
          "Coinonat",
          "BenjiRolls",
          "ILCoin",
          "EquiTrader",
          "Quantum Resistant Ledger",
          "Dynamic",
          "Nano",
          "ChanCoin",
          "Dinastycoin",
          "DigitalPrice",
          "Unify",
          "SocialCoin",
          "ArcticCoin",
          "DAS",
          "LeviarCoin",
          "Bitcore",
          "SmartCash",
          "Onix",
          "Bitcoin Cash",
          "Sojourn Coin",
          "NewYorkCoin",
          "FrazCoin",
          "Kronecoin",
          "AdCoin",
          "Linx",
          "Sumokoin",
          "BitcoinZ",
          "Elements",
          "VIVO Coin",
          "Bitcoin Gold",
          "Pirl",
          "eBoost",
          "Pura",
          "Innova",
          "Ellaism",
          "GoByte",
          "SHIELD",
          "UltraNote",
          "BitCoal",
          "DaxxCoin",
          "AC3",
          "Lethean",
          "PopularCoin",
          "Photon",
          "Sucre",
          "SparksPay",
          "GunCoin",
          "IrishCoin",
          "Pioneer Coin",
          "UnitedBitcoin",
          "Interzone",
          "MUNcoin",
          "Niobio Cash",
          "ShareChain",
          "Travelflex",
          "KREDS",
          "BitFlip",
          "LottoCoin",
          "Crypto Improvement Fund",
          "Callisto Network",
          "BitTube",
          "Poseidon",
          "Aidos Kuneen",
          "Bitrolium",
          "Alpenschillling",
          "FuturoCoin",
          "Monero Classic",
          "Jumpcoin",
          "Infinex",
          "KEYCO",
          "GINcoin",
          "PlatinCoin",
          "Loki",
          "Newton Coin",
          "MassGrid",
          "PluraCoin",
          "Motion",
          "PlusOneCoin",
          "Axe",
          "HexCoin",
          "Webchain",
          "Ryo",
          "Urals Coin",
          "Project Pai",
          "Azart",
          "Xchange",
          "CrypticCoin",
          "Actinium",
          "Bitcoin SV",
          "FREDEnergy",
          "Universal Molecule",
          "Lithium",
          "Exosis",
          "Block-Logic",
          "Beam",
          "Bithereum",
          "SLICE",
          "BLAST",
          "Bitcoin Rhodium",
          "GlobalToken",
          "SolarCoin",
          "UFO Coin",
          "BlakeCoin",
          "Crypto Escudo",
          "Crown Coin",
          "SmileyCoin",
          "Groestlcoin",
          "Bata",
          "Pakcoin",
          "Fiii",
          "JoinCoin",
          "Vollar",
          "Reality Clash",
          "Beldex",
          "Horizen"
         ],
         "legendgroup": "1",
         "marker": {
          "color": [
           1,
           1,
           1,
           1,
           1,
           1,
           1,
           1,
           1,
           1,
           1,
           1,
           1,
           1,
           1,
           1,
           1,
           1,
           1,
           1,
           1,
           1,
           1,
           1,
           1,
           1,
           1,
           1,
           1,
           1,
           1,
           1,
           1,
           1,
           1,
           1,
           1,
           1,
           1,
           1,
           1,
           1,
           1,
           1,
           1,
           1,
           1,
           1,
           1,
           1,
           1,
           1,
           1,
           1,
           1,
           1,
           1,
           1,
           1,
           1,
           1,
           1,
           1,
           1,
           1,
           1,
           1,
           1,
           1,
           1,
           1,
           1,
           1,
           1,
           1,
           1,
           1,
           1,
           1,
           1,
           1,
           1,
           1,
           1,
           1,
           1,
           1,
           1,
           1,
           1,
           1,
           1,
           1,
           1,
           1,
           1,
           1,
           1,
           1,
           1,
           1,
           1,
           1,
           1,
           1,
           1,
           1,
           1,
           1,
           1,
           1,
           1,
           1,
           1,
           1,
           1,
           1,
           1,
           1,
           1,
           1,
           1,
           1,
           1,
           1,
           1,
           1,
           1,
           1,
           1,
           1,
           1,
           1,
           1,
           1,
           1,
           1,
           1,
           1,
           1,
           1,
           1,
           1,
           1,
           1,
           1,
           1,
           1,
           1,
           1,
           1,
           1,
           1,
           1,
           1,
           1,
           1,
           1,
           1,
           1,
           1,
           1,
           1,
           1,
           1,
           1,
           1,
           1,
           1,
           1,
           1,
           1,
           1,
           1,
           1,
           1,
           1,
           1,
           1,
           1,
           1,
           1,
           1,
           1,
           1,
           1,
           1,
           1,
           1,
           1,
           1,
           1,
           1,
           1,
           1,
           1,
           1,
           1,
           1,
           1,
           1,
           1,
           1,
           1,
           1,
           1,
           1,
           1,
           1,
           1,
           1,
           1,
           1,
           1,
           1,
           1,
           1,
           1,
           1,
           1,
           1,
           1,
           1,
           1,
           1,
           1,
           1,
           1,
           1,
           1,
           1,
           1,
           1,
           1,
           1,
           1
          ],
          "coloraxis": "coloraxis",
          "symbol": "square"
         },
         "mode": "markers",
         "name": "1",
         "scene": "scene",
         "showlegend": true,
         "type": "scatter3d",
         "x": [
          -0.07682000996110282,
          0.08654797837684397,
          -0.15991139834059467,
          0.045404414054220986,
          0.08916526265334862,
          0.06326998596426427,
          0.41202847153457023,
          -0.1605418778143204,
          -0.09120419863631751,
          -0.16085831589657149,
          0.11453560325548624,
          -0.07396066837485675,
          -0.15809204672680982,
          -0.16085630513077012,
          -0.1753018357459984,
          0.06056103747048442,
          -0.15995376948967702,
          -0.16309025227702817,
          -0.16224980346327378,
          -0.09305535437860639,
          0.43860878759046773,
          0.36548974494688186,
          0.13024423301353086,
          -0.16094654293449218,
          -0.15483246876750786,
          -0.16009296892363617,
          -0.353489828089963,
          -0.1613701264994226,
          -0.07492215233644131,
          -0.13711628180293525,
          -0.1603786445138223,
          -0.15985376004915602,
          1.8859822225685323,
          -0.07742123699029836,
          -0.1567762857600944,
          -0.1598642390504677,
          -0.16178443187421102,
          -0.1600209955095742,
          0.12538653939847044,
          -0.16157667972028153,
          -0.00297866690807025,
          -0.07711049847861573,
          -0.15257840152626348,
          -0.16091594060571932,
          -0.1592259411486379,
          -0.16154993287238084,
          -0.06290843887040817,
          -0.07703378999622071,
          -0.07819309528196218,
          -0.07762212427099506,
          -0.07734693334929826,
          -0.09221192686013807,
          -0.16121260612173077,
          0.09409372425982526,
          -0.15852460348958933,
          -0.07709883573286166,
          0.726416295745608,
          -0.16103832452628594,
          -0.14045118673557777,
          -0.1575559745250573,
          -0.1606576300730119,
          -0.15821544584810782,
          -0.14302148448563345,
          -0.06345747426201831,
          0.07564757380290744,
          -0.03522412466274566,
          -0.1618220414357145,
          -0.01232279499451983,
          0.2204255166530312,
          -0.16143940379340901,
          -0.07711549651070954,
          0.6050672385945881,
          -0.0914229617366925,
          0.08106855935793324,
          -0.07661228867948432,
          -0.09238047609617081,
          -0.15857948460688256,
          -0.15820963845328248,
          0.08703016182732091,
          0.7240140012687699,
          -0.09294765874385935,
          -0.07702234116758136,
          -0.15551989657033571,
          -0.03244354913172986,
          -0.15927288126435804,
          0.4145211852239232,
          -0.09056399770551973,
          0.1608753503984375,
          -0.16012235738596886,
          0.0650272130151918,
          -0.16170162390063175,
          -0.09293320331384698,
          -0.16192899614243678,
          -0.09095673792529708,
          -0.157701066301097,
          0.543721798835009,
          -0.07629318610046006,
          0.09866075095313293,
          -0.15911733035490708,
          -0.07832763400961577,
          -0.7920453443631904,
          -0.1606393064085994,
          -0.11862560136242117,
          0.08660050832285261,
          0.06322911696136667,
          -0.07442165939012338,
          -0.07749147803472066,
          -0.09001210740540684,
          0.5446614821200648,
          -0.16129789637792033,
          0.5451640168626934,
          0.07959077488168328,
          0.7489278555867062,
          0.04722378891554811,
          -0.16222629515429582,
          -0.08469548050973999,
          0.06429172912671925,
          -0.15948488814653722,
          0.08016347354993447,
          0.07372260055788377,
          -0.12787188497002877,
          -0.1146050571257625,
          -0.15989270980487522,
          -0.03686307933547436,
          -0.16108154394649588,
          0.04623837676142871,
          -0.06044896217514497,
          0.25586474628708045,
          0.2709937773242529,
          0.586016368712673,
          -0.0911344975493502,
          -0.16128441942888602,
          -0.1603962641825499,
          -0.09201416266072712,
          -0.09161580209664545,
          0.5441404085972293,
          -0.06069078411849156,
          -0.14974801515159078,
          -0.0810306710518802,
          -0.07661502780824771,
          -0.0739607694548986,
          1.8803790299358982,
          -0.16130321711678708,
          -0.15961341189201478,
          -0.16021494884799964,
          -0.1597456088050305,
          0.5435873181112488,
          0.3131568899753431,
          -0.03941049072394228,
          -0.0789483988839125,
          0.06485363353518377,
          0.16199099070602702,
          -0.15873280501930598,
          -0.08714121165718353,
          -0.07813394456505654,
          0.08903609169412242,
          -0.07938211044302294,
          0.08690262792292691,
          1.5279067329652471,
          0.5434436882811768,
          0.17718693662043622,
          -0.08738177549806307,
          0.05875028777730056,
          -0.06255359914323533,
          1.3363517006552472,
          -0.0932466168602585,
          -0.0795183218137753,
          -0.0713193423355897,
          -0.160706424537146,
          -0.09084304772868736,
          -0.07756936622954239,
          -0.0824108580032982,
          0.20212663128912225,
          0.5485745390020459,
          0.06568541371037362,
          0.16354673533587893,
          0.11176013842372455,
          -0.16037755679349694,
          0.20020136975506836,
          -0.08565224396209185,
          0.14290411643014994,
          0.5540352509671325,
          -0.16099630007357993,
          0.13442112540121692,
          0.06601029924777531,
          -0.11649532826935045,
          -0.0900511652714752,
          0.5444852424325995,
          -0.11506310635962082,
          0.07946991342631557,
          -0.0025275606794136563,
          -0.11799802986849098,
          0.5495729660326918,
          0.9456923486622216,
          2.664596037773974,
          0.12938140745281845,
          0.5607963011874528,
          -0.11323782436854395,
          -0.15666034536603327,
          -0.09188315928673013,
          -0.16144568647190569,
          0.059840718897929294,
          0.09836184979517876,
          -0.06995327623245741,
          -0.029644503944817,
          -0.09244158462560556,
          -0.11229509517559676,
          0.18747185452451698,
          -0.11690596963024609,
          -0.07652978311297842,
          0.6383460932981793,
          -0.04600950973897131,
          -0.04582416223915876,
          -0.005263191956253896,
          -0.15894551369743798,
          0.0666984980923842,
          0.06593355095775287,
          -0.03244422033967895,
          -0.07539335878064547,
          -0.13264764672891688,
          -0.07452972113255457,
          0.6565655516113246,
          0.008947926578022012,
          0.011095774095483542,
          -0.14219910315446402,
          -0.07563768320023137,
          0.6772184771769797,
          0.06126658822373545,
          -0.16145141128465473,
          -0.15862081556742288,
          -0.7589781256997321,
          0.0735454176325174,
          0.028649338032293938,
          0.08688175564701357,
          0.570362183569878,
          0.06544183317080327
         ],
         "y": [
          -1.3446434939100687,
          -1.860536728440398,
          -1.3427976543234006,
          -2.326662879444004,
          -1.863327967518045,
          -2.2409161393454586,
          -2.076819872017413,
          -1.3417397980380057,
          -0.7692797831653777,
          -1.3427167422565454,
          -2.0763840269548495,
          -1.3432166814861712,
          -1.3422137863158667,
          -1.3417593010976707,
          -0.4813377363275777,
          -1.0841194737607032,
          -1.3422793830597444,
          -1.3421355949294185,
          -1.341727597035095,
          -0.7704914661222483,
          -2.071034664723088,
          -1.3421561726530007,
          -1.3384979211708892,
          -1.338730319974382,
          -1.3404860824339924,
          -1.3407518511262375,
          -0.5615912254653285,
          -1.3411097972864554,
          -1.6573635171659766,
          -1.3392286310565524,
          -1.3446652315446719,
          -1.3413036347428604,
          -1.3170056569396227,
          -1.3444549608003427,
          -1.3402624634698992,
          -1.3408285010354284,
          -1.341097036616663,
          -1.3405300633520982,
          -2.0519466349872473,
          -1.3400469114863904,
          -1.3489146117196857,
          -1.3476809620580643,
          -1.3390867134065716,
          -1.3431502324977052,
          -1.3419476095990222,
          -1.3409173383001323,
          -1.3457591760860919,
          -1.3480316410273352,
          -1.3480865220437275,
          -1.3432929549422596,
          -1.3455527346210814,
          -0.7664694777809238,
          -1.3419277282150484,
          -1.0889458268651013,
          -1.3396572980468866,
          -1.3470231360756166,
          -2.315997721726968,
          -1.3399120663639277,
          -1.3408666323880267,
          -1.341404905618688,
          -1.3430384972668374,
          -1.3409176369035767,
          -1.3430745473804573,
          -2.5121052255166276,
          -2.0746170036660874,
          -1.4793234632056576,
          -1.3391057447117949,
          -1.3392712195143601,
          -2.6733786625943683,
          -1.3416400717645218,
          -1.3457484906337807,
          -1.3716249985071576,
          -0.7683404852800625,
          -2.206170813892613,
          -1.3458012542915632,
          -0.7700731843200934,
          -1.342320030759035,
          -1.3441672385717427,
          -1.8589065357701693,
          -2.139126119621963,
          -0.7685934857008333,
          -1.3458049852378224,
          -1.3398207173551275,
          -2.4914080883829417,
          -1.3397887967928355,
          -1.3410867947182954,
          -0.7713249156362767,
          -1.9042397903393744,
          -1.342135915972473,
          -1.5096863991680276,
          -1.3433862054509198,
          -0.7686203031602973,
          -1.3411923454624854,
          -0.7671950765535241,
          -1.8487090661292551,
          -2.3178812231353056,
          -1.3459142720324584,
          -2.0739716356225455,
          -1.342932417446782,
          -1.3461570461788974,
          -0.5282662659169707,
          -1.343724350817959,
          -2.1564442852703056,
          -1.861797491285661,
          -2.2396283520668554,
          -1.3450643011565226,
          -0.7641576417592456,
          -0.766541386414388,
          -2.3166699633078474,
          -1.340334971622142,
          -2.3202259014166744,
          -2.2072437844468396,
          -0.7984732058297753,
          -2.3246398106857855,
          -1.3402898579593727,
          -0.7687590635794516,
          -2.243648465031705,
          -1.344084146118506,
          -2.2070658732522106,
          -2.070110335716385,
          -1.3422744998706206,
          -0.8401418375182286,
          -1.3405151404248747,
          -1.349260011452377,
          -1.3401466859086635,
          -2.32636326470811,
          -1.7477137388215678,
          -2.155929987917922,
          -2.353121176995193,
          -2.3193402178946063,
          -0.7690060041469217,
          -1.3416610972399614,
          -1.3398766596343503,
          -0.7701754186685718,
          -0.7693731988798245,
          -2.3162808995269795,
          -2.6342460969742265,
          -1.6203484023427785,
          -0.7682833628571831,
          -1.3461245250353346,
          -1.3430589784289755,
          -1.258534652955027,
          -1.3406957847625425,
          -1.3439798216870738,
          -1.3418035383082096,
          -1.340562176341753,
          -2.3203102202844184,
          -2.2442279699779997,
          -0.7683445743624491,
          -1.6568367343946577,
          -2.2418604772028106,
          -1.9040639773748635,
          -1.3441004318546825,
          -0.7681056802283486,
          -1.6574992422883732,
          -1.8592025441110402,
          -1.6587430468898268,
          -2.0761264352920468,
          -2.3302343797066105,
          -2.3203523860859945,
          -1.8661739240059174,
          -0.7673292145737692,
          -2.3242508465653535,
          -1.3395398589533147,
          -1.2748935847314722,
          -0.7678880858570818,
          -1.6610370897150655,
          -1.657926884908513,
          -1.34357789505854,
          -0.7658344704115813,
          -1.3450346685495704,
          -1.6149490524018362,
          -2.00139530826916,
          -2.3171110580527974,
          -1.336744495532224,
          -1.903757409905205,
          -1.0949041456351796,
          -1.3428888722925483,
          -1.3396576035136234,
          -0.769254434649939,
          -1.864379653952801,
          -2.3200817425687,
          -1.3398534651543341,
          -2.0527875798314037,
          -2.243888792745217,
          -2.1573094532248667,
          -0.7685082646810465,
          -2.3202226127700003,
          -0.8390258581722607,
          -2.2081561030190513,
          -1.709904154716672,
          -2.157228428785055,
          -2.3197731883747914,
          -1.9136842409820274,
          -2.3516120278645856,
          -2.0803555025270897,
          -2.3199548131707988,
          -1.6574381611465474,
          -2.204802078830044,
          -0.7683250019058903,
          -1.3434795670729756,
          -2.326384472853322,
          -2.2127422652315425,
          -0.13286628782245138,
          -1.345114307913802,
          -0.768994077925832,
          -1.6545330672374567,
          -2.243408624200849,
          -2.155380297305446,
          -1.3436611616332323,
          -2.3192842480959532,
          -2.02964683486145,
          -2.024004601909432,
          -2.188398965265735,
          -1.342959936224952,
          -2.2413329889297278,
          -2.242666867262328,
          -1.479690308236889,
          -1.3458044078875757,
          -0.42113633335297046,
          -1.3439745573886928,
          -1.3734654281913663,
          -1.6586666402487882,
          -2.023695099907627,
          -1.3401133036603163,
          -1.344345356740326,
          -1.3399041234024958,
          -1.0792790649189081,
          -1.3390832698080675,
          -1.3419089600974137,
          -5.989553362251065,
          -2.0758040058799647,
          -1.7561942325704563,
          -1.8618848934314707,
          -2.31659059850907,
          -2.2422439855817227
         ],
         "z": [
          0.22787934406368057,
          0.4316802676715601,
          0.07669366030144004,
          0.5964822892174111,
          0.43050043424382545,
          0.3339297422441264,
          0.3883796422366315,
          0.08004225326356029,
          0.17109363440646602,
          0.07992042006086059,
          0.3856960154820428,
          0.22504787097118967,
          0.07876279692316739,
          0.0768786045424796,
          -0.18741115607496767,
          0.6111657086707234,
          0.08024163287757215,
          0.07839505778135118,
          0.07674746939736113,
          0.17166801764142553,
          0.3898165343873886,
          0.22816935404799876,
          0.080596150141148,
          0.0796254142724146,
          0.07893819308493508,
          0.07829729543867679,
          0.26122443175278154,
          0.07790513496610049,
          0.32665986780965245,
          0.07728975144467021,
          0.07458004879643451,
          0.07778968525336684,
          0.0868008786495912,
          0.22562016505666668,
          0.07955150257095495,
          0.07708671703059636,
          0.0780716496772041,
          0.07784705472278719,
          0.2665887046317407,
          0.07662797021590599,
          0.07670152927690596,
          0.22731986375993032,
          0.07932638157031617,
          0.07811792833718434,
          0.07677972604375909,
          0.0796445915099108,
          0.22616091028850463,
          0.2268125254529465,
          0.2247706178140365,
          0.22639969735088156,
          0.22692857339174602,
          0.17337687075274785,
          0.07882642634383578,
          0.07288553462580336,
          0.07612343894020662,
          0.22427178555012,
          0.3200582338627542,
          0.07855217469089007,
          0.07889705992558063,
          0.07544372650449953,
          0.07809357361842235,
          0.07649576033838858,
          0.07549547245686282,
          0.3399587644015569,
          0.38907813032016214,
          0.02760432011624215,
          0.08042370040309789,
          0.07709635663785112,
          0.7822752075414664,
          0.07876029679432811,
          0.22514670804470585,
          0.07984671177613026,
          0.1740088728415366,
          0.4572006856918036,
          0.2257215100455862,
          0.17077820261067422,
          0.07927424197486492,
          0.0784852614440976,
          0.4306141662740271,
          0.39625232263115395,
          0.1727237833579834,
          0.22652467912991123,
          0.07927477294722474,
          -0.09091643909605306,
          0.07829879050324522,
          0.22596590746004677,
          0.17100882727429975,
          0.4223095247023801,
          0.07749028070108503,
          0.1668288006063102,
          0.07696542286398503,
          0.17246870012953233,
          0.0758542920603585,
          0.17448208964390483,
          -0.09400418230042645,
          0.3219225730662183,
          0.22681408779714174,
          0.3867727040390578,
          0.07616184425414718,
          0.2249322208263407,
          0.7164593524557802,
          0.07921616289514999,
          0.5467688534904173,
          0.43094182314497437,
          0.33433852486923565,
          0.0789912700617579,
          0.17070266545179005,
          0.1741201905284417,
          0.32049568423022234,
          0.07907603921243317,
          0.32109743972364074,
          0.45604136317895033,
          0.17265606644370313,
          0.5982235308858068,
          0.0773060826406391,
          0.17141708261180658,
          0.3351085369578776,
          0.07714856943388507,
          0.45956279911814213,
          0.767210114942642,
          0.07655846776536482,
          -0.17484063259320812,
          0.07965699752714693,
          0.22596172478408402,
          0.07653006870244258,
          0.597944352525074,
          0.4922348868488402,
          0.3948083004715653,
          0.35418680436969324,
          0.32262842997227575,
          0.17148451864043157,
          0.07869265399682955,
          0.07627851148889872,
          0.1735184906715364,
          0.1734097798770476,
          0.3223577419077816,
          0.32457827688248886,
          0.06110617325230939,
          0.17263598155905535,
          0.2274868178199155,
          0.07813986229134957,
          0.09009302211899974,
          0.07755607872220174,
          0.08025971493087189,
          0.07870983701734044,
          0.07810277071752876,
          0.32265105982449194,
          0.3352571394003932,
          0.17192585382567876,
          0.3257816997331586,
          0.33423950835690786,
          0.4243372055721156,
          0.07738538782840126,
          0.1727885266118749,
          0.32727733418897065,
          0.4301499004405879,
          0.328872437651426,
          0.38895273732594265,
          0.32389591257713624,
          0.318133021718542,
          0.43116227659995227,
          0.17427012391825,
          0.5970551840335815,
          0.07901551983045092,
          0.099359626291608,
          0.1727112581007301,
          0.32767302138220245,
          0.3245147247538282,
          0.07733696577093782,
          0.17675917763411778,
          0.2270629310118719,
          0.25516540355190914,
          1.0020028628385453,
          0.32246490543810735,
          0.07943125658920358,
          0.4231591594025056,
          0.07204031777079777,
          0.07700135200128033,
          0.07830663582326386,
          0.17412160654917286,
          0.4305876712298383,
          0.32234170060160877,
          0.07822184715132077,
          0.29364792087723685,
          0.3323132852244276,
          0.547386115320582,
          0.17419595172636732,
          0.32290897760947956,
          -0.17319026383356478,
          0.45662146905985346,
          0.4790039109858988,
          0.5476440657957691,
          0.3215094606684858,
          0.45290920760663567,
          0.3256242648031114,
          0.375087119014618,
          0.32118908034991267,
          -0.13072356641067687,
          0.23831112692956255,
          0.17188650460659163,
          0.0770283578728103,
          0.6000161266573423,
          0.3700310999574341,
          0.33512666707020256,
          0.2264128172592358,
          0.1745165778679669,
          -0.13220470159779146,
          0.335359251534606,
          0.5457687495797515,
          0.22830141970539491,
          0.3223868127794123,
          0.2994222017268363,
          0.30102861008935217,
          0.6945131619695114,
          0.07915284025729344,
          0.33375136719976123,
          0.33394877985529897,
          0.027826896739058676,
          0.22485021643816813,
          0.08953631722137462,
          0.22862666135022994,
          0.0803149147062591,
          0.3276033394747431,
          0.2975825325548418,
          0.07712452603949302,
          0.22871080525733095,
          0.08206533767263621,
          0.6113306581745298,
          0.07759638983064487,
          0.07643476147429519,
          -3.1110575795587674,
          0.38878271794152247,
          0.20505800962248238,
          0.4294152236914248,
          0.3224220859932012,
          0.33272533715941865
         ]
        },
        {
         "customdata": [
          [
           "Proof-of-BibleHash"
          ],
          [
           "SHA-256 + Hive"
          ],
          [
           "Proof-of-Authority"
          ]
         ],
         "hovertemplate": "<b>%{hovertext}</b><br><br>Class=%{marker.color}<br>PC 1=%{x}<br>PC 2=%{y}<br>PC 3=%{z}<br>Algorithm=%{customdata[0]}<extra></extra>",
         "hovertext": [
          "BiblePay",
          "LitecoinCash",
          "Poa Network"
         ],
         "legendgroup": "2",
         "marker": {
          "color": [
           2,
           2,
           2
          ],
          "coloraxis": "coloraxis",
          "symbol": "x"
         },
         "mode": "markers",
         "name": "2",
         "scene": "scene",
         "showlegend": true,
         "type": "scatter3d",
         "x": [
          0.27417922043315923,
          -0.3145248040796307,
          -2.760276087490188
         ],
         "y": [
          -0.21531490093209926,
          4.423603326792865,
          -2.6046979560397268
         ],
         "z": [
          14.764674525141869,
          21.996739518750424,
          21.60819901846244
         ]
        },
        {
         "customdata": [
          [
           "ECC 256K1"
          ],
          [
           "Leased POS"
          ]
         ],
         "hovertemplate": "<b>%{hovertext}</b><br><br>Class=%{marker.color}<br>PC 1=%{x}<br>PC 2=%{y}<br>PC 3=%{z}<br>Algorithm=%{customdata[0]}<extra></extra>",
         "hovertext": [
          "Acute Angle Cloud",
          "Waves"
         ],
         "legendgroup": "4",
         "marker": {
          "color": [
           4,
           4
          ],
          "coloraxis": "coloraxis",
          "symbol": "cross"
         },
         "mode": "markers",
         "name": "4",
         "scene": "scene",
         "showlegend": true,
         "type": "scatter3d",
         "x": [
          1.669120749035751,
          0.01295706485027127
         ],
         "y": [
          13.347702080266552,
          11.460890301562676
         ],
         "z": [
          10.254832236242644,
          12.090962347670184
         ]
        },
        {
         "customdata": [
          [
           "TRC10"
          ]
         ],
         "hovertemplate": "<b>%{hovertext}</b><br><br>Class=%{marker.color}<br>PC 1=%{x}<br>PC 2=%{y}<br>PC 3=%{z}<br>Algorithm=%{customdata[0]}<extra></extra>",
         "hovertext": [
          "BitTorrent"
         ],
         "legendgroup": "3",
         "marker": {
          "color": [
           3
          ],
          "coloraxis": "coloraxis",
          "symbol": "circle"
         },
         "mode": "markers",
         "name": "3",
         "scene": "scene",
         "showlegend": true,
         "type": "scatter3d",
         "x": [
          39.45239627246128
         ],
         "y": [
          1.8959843216252978
         ],
         "z": [
          0.5508067495766955
         ]
        }
       ],
       "layout": {
        "coloraxis": {
         "colorbar": {
          "title": {
           "text": "Class"
          }
         },
         "colorscale": [
          [
           0,
           "#0d0887"
          ],
          [
           0.1111111111111111,
           "#46039f"
          ],
          [
           0.2222222222222222,
           "#7201a8"
          ],
          [
           0.3333333333333333,
           "#9c179e"
          ],
          [
           0.4444444444444444,
           "#bd3786"
          ],
          [
           0.5555555555555556,
           "#d8576b"
          ],
          [
           0.6666666666666666,
           "#ed7953"
          ],
          [
           0.7777777777777778,
           "#fb9f3a"
          ],
          [
           0.8888888888888888,
           "#fdca26"
          ],
          [
           1,
           "#f0f921"
          ]
         ]
        },
        "legend": {
         "title": {
          "text": "Class"
         },
         "tracegroupgap": 0,
         "x": 0,
         "y": 1
        },
        "margin": {
         "t": 60
        },
        "scene": {
         "domain": {
          "x": [
           0,
           1
          ],
          "y": [
           0,
           1
          ]
         },
         "xaxis": {
          "title": {
           "text": "PC 1"
          }
         },
         "yaxis": {
          "title": {
           "text": "PC 2"
          }
         },
         "zaxis": {
          "title": {
           "text": "PC 3"
          }
         }
        },
        "template": {
         "data": {
          "bar": [
           {
            "error_x": {
             "color": "#2a3f5f"
            },
            "error_y": {
             "color": "#2a3f5f"
            },
            "marker": {
             "line": {
              "color": "#E5ECF6",
              "width": 0.5
             }
            },
            "type": "bar"
           }
          ],
          "barpolar": [
           {
            "marker": {
             "line": {
              "color": "#E5ECF6",
              "width": 0.5
             }
            },
            "type": "barpolar"
           }
          ],
          "carpet": [
           {
            "aaxis": {
             "endlinecolor": "#2a3f5f",
             "gridcolor": "white",
             "linecolor": "white",
             "minorgridcolor": "white",
             "startlinecolor": "#2a3f5f"
            },
            "baxis": {
             "endlinecolor": "#2a3f5f",
             "gridcolor": "white",
             "linecolor": "white",
             "minorgridcolor": "white",
             "startlinecolor": "#2a3f5f"
            },
            "type": "carpet"
           }
          ],
          "choropleth": [
           {
            "colorbar": {
             "outlinewidth": 0,
             "ticks": ""
            },
            "type": "choropleth"
           }
          ],
          "contour": [
           {
            "colorbar": {
             "outlinewidth": 0,
             "ticks": ""
            },
            "colorscale": [
             [
              0,
              "#0d0887"
             ],
             [
              0.1111111111111111,
              "#46039f"
             ],
             [
              0.2222222222222222,
              "#7201a8"
             ],
             [
              0.3333333333333333,
              "#9c179e"
             ],
             [
              0.4444444444444444,
              "#bd3786"
             ],
             [
              0.5555555555555556,
              "#d8576b"
             ],
             [
              0.6666666666666666,
              "#ed7953"
             ],
             [
              0.7777777777777778,
              "#fb9f3a"
             ],
             [
              0.8888888888888888,
              "#fdca26"
             ],
             [
              1,
              "#f0f921"
             ]
            ],
            "type": "contour"
           }
          ],
          "contourcarpet": [
           {
            "colorbar": {
             "outlinewidth": 0,
             "ticks": ""
            },
            "type": "contourcarpet"
           }
          ],
          "heatmap": [
           {
            "colorbar": {
             "outlinewidth": 0,
             "ticks": ""
            },
            "colorscale": [
             [
              0,
              "#0d0887"
             ],
             [
              0.1111111111111111,
              "#46039f"
             ],
             [
              0.2222222222222222,
              "#7201a8"
             ],
             [
              0.3333333333333333,
              "#9c179e"
             ],
             [
              0.4444444444444444,
              "#bd3786"
             ],
             [
              0.5555555555555556,
              "#d8576b"
             ],
             [
              0.6666666666666666,
              "#ed7953"
             ],
             [
              0.7777777777777778,
              "#fb9f3a"
             ],
             [
              0.8888888888888888,
              "#fdca26"
             ],
             [
              1,
              "#f0f921"
             ]
            ],
            "type": "heatmap"
           }
          ],
          "heatmapgl": [
           {
            "colorbar": {
             "outlinewidth": 0,
             "ticks": ""
            },
            "colorscale": [
             [
              0,
              "#0d0887"
             ],
             [
              0.1111111111111111,
              "#46039f"
             ],
             [
              0.2222222222222222,
              "#7201a8"
             ],
             [
              0.3333333333333333,
              "#9c179e"
             ],
             [
              0.4444444444444444,
              "#bd3786"
             ],
             [
              0.5555555555555556,
              "#d8576b"
             ],
             [
              0.6666666666666666,
              "#ed7953"
             ],
             [
              0.7777777777777778,
              "#fb9f3a"
             ],
             [
              0.8888888888888888,
              "#fdca26"
             ],
             [
              1,
              "#f0f921"
             ]
            ],
            "type": "heatmapgl"
           }
          ],
          "histogram": [
           {
            "marker": {
             "colorbar": {
              "outlinewidth": 0,
              "ticks": ""
             }
            },
            "type": "histogram"
           }
          ],
          "histogram2d": [
           {
            "colorbar": {
             "outlinewidth": 0,
             "ticks": ""
            },
            "colorscale": [
             [
              0,
              "#0d0887"
             ],
             [
              0.1111111111111111,
              "#46039f"
             ],
             [
              0.2222222222222222,
              "#7201a8"
             ],
             [
              0.3333333333333333,
              "#9c179e"
             ],
             [
              0.4444444444444444,
              "#bd3786"
             ],
             [
              0.5555555555555556,
              "#d8576b"
             ],
             [
              0.6666666666666666,
              "#ed7953"
             ],
             [
              0.7777777777777778,
              "#fb9f3a"
             ],
             [
              0.8888888888888888,
              "#fdca26"
             ],
             [
              1,
              "#f0f921"
             ]
            ],
            "type": "histogram2d"
           }
          ],
          "histogram2dcontour": [
           {
            "colorbar": {
             "outlinewidth": 0,
             "ticks": ""
            },
            "colorscale": [
             [
              0,
              "#0d0887"
             ],
             [
              0.1111111111111111,
              "#46039f"
             ],
             [
              0.2222222222222222,
              "#7201a8"
             ],
             [
              0.3333333333333333,
              "#9c179e"
             ],
             [
              0.4444444444444444,
              "#bd3786"
             ],
             [
              0.5555555555555556,
              "#d8576b"
             ],
             [
              0.6666666666666666,
              "#ed7953"
             ],
             [
              0.7777777777777778,
              "#fb9f3a"
             ],
             [
              0.8888888888888888,
              "#fdca26"
             ],
             [
              1,
              "#f0f921"
             ]
            ],
            "type": "histogram2dcontour"
           }
          ],
          "mesh3d": [
           {
            "colorbar": {
             "outlinewidth": 0,
             "ticks": ""
            },
            "type": "mesh3d"
           }
          ],
          "parcoords": [
           {
            "line": {
             "colorbar": {
              "outlinewidth": 0,
              "ticks": ""
             }
            },
            "type": "parcoords"
           }
          ],
          "pie": [
           {
            "automargin": true,
            "type": "pie"
           }
          ],
          "scatter": [
           {
            "marker": {
             "colorbar": {
              "outlinewidth": 0,
              "ticks": ""
             }
            },
            "type": "scatter"
           }
          ],
          "scatter3d": [
           {
            "line": {
             "colorbar": {
              "outlinewidth": 0,
              "ticks": ""
             }
            },
            "marker": {
             "colorbar": {
              "outlinewidth": 0,
              "ticks": ""
             }
            },
            "type": "scatter3d"
           }
          ],
          "scattercarpet": [
           {
            "marker": {
             "colorbar": {
              "outlinewidth": 0,
              "ticks": ""
             }
            },
            "type": "scattercarpet"
           }
          ],
          "scattergeo": [
           {
            "marker": {
             "colorbar": {
              "outlinewidth": 0,
              "ticks": ""
             }
            },
            "type": "scattergeo"
           }
          ],
          "scattergl": [
           {
            "marker": {
             "colorbar": {
              "outlinewidth": 0,
              "ticks": ""
             }
            },
            "type": "scattergl"
           }
          ],
          "scattermapbox": [
           {
            "marker": {
             "colorbar": {
              "outlinewidth": 0,
              "ticks": ""
             }
            },
            "type": "scattermapbox"
           }
          ],
          "scatterpolar": [
           {
            "marker": {
             "colorbar": {
              "outlinewidth": 0,
              "ticks": ""
             }
            },
            "type": "scatterpolar"
           }
          ],
          "scatterpolargl": [
           {
            "marker": {
             "colorbar": {
              "outlinewidth": 0,
              "ticks": ""
             }
            },
            "type": "scatterpolargl"
           }
          ],
          "scatterternary": [
           {
            "marker": {
             "colorbar": {
              "outlinewidth": 0,
              "ticks": ""
             }
            },
            "type": "scatterternary"
           }
          ],
          "surface": [
           {
            "colorbar": {
             "outlinewidth": 0,
             "ticks": ""
            },
            "colorscale": [
             [
              0,
              "#0d0887"
             ],
             [
              0.1111111111111111,
              "#46039f"
             ],
             [
              0.2222222222222222,
              "#7201a8"
             ],
             [
              0.3333333333333333,
              "#9c179e"
             ],
             [
              0.4444444444444444,
              "#bd3786"
             ],
             [
              0.5555555555555556,
              "#d8576b"
             ],
             [
              0.6666666666666666,
              "#ed7953"
             ],
             [
              0.7777777777777778,
              "#fb9f3a"
             ],
             [
              0.8888888888888888,
              "#fdca26"
             ],
             [
              1,
              "#f0f921"
             ]
            ],
            "type": "surface"
           }
          ],
          "table": [
           {
            "cells": {
             "fill": {
              "color": "#EBF0F8"
             },
             "line": {
              "color": "white"
             }
            },
            "header": {
             "fill": {
              "color": "#C8D4E3"
             },
             "line": {
              "color": "white"
             }
            },
            "type": "table"
           }
          ]
         },
         "layout": {
          "annotationdefaults": {
           "arrowcolor": "#2a3f5f",
           "arrowhead": 0,
           "arrowwidth": 1
          },
          "autotypenumbers": "strict",
          "coloraxis": {
           "colorbar": {
            "outlinewidth": 0,
            "ticks": ""
           }
          },
          "colorscale": {
           "diverging": [
            [
             0,
             "#8e0152"
            ],
            [
             0.1,
             "#c51b7d"
            ],
            [
             0.2,
             "#de77ae"
            ],
            [
             0.3,
             "#f1b6da"
            ],
            [
             0.4,
             "#fde0ef"
            ],
            [
             0.5,
             "#f7f7f7"
            ],
            [
             0.6,
             "#e6f5d0"
            ],
            [
             0.7,
             "#b8e186"
            ],
            [
             0.8,
             "#7fbc41"
            ],
            [
             0.9,
             "#4d9221"
            ],
            [
             1,
             "#276419"
            ]
           ],
           "sequential": [
            [
             0,
             "#0d0887"
            ],
            [
             0.1111111111111111,
             "#46039f"
            ],
            [
             0.2222222222222222,
             "#7201a8"
            ],
            [
             0.3333333333333333,
             "#9c179e"
            ],
            [
             0.4444444444444444,
             "#bd3786"
            ],
            [
             0.5555555555555556,
             "#d8576b"
            ],
            [
             0.6666666666666666,
             "#ed7953"
            ],
            [
             0.7777777777777778,
             "#fb9f3a"
            ],
            [
             0.8888888888888888,
             "#fdca26"
            ],
            [
             1,
             "#f0f921"
            ]
           ],
           "sequentialminus": [
            [
             0,
             "#0d0887"
            ],
            [
             0.1111111111111111,
             "#46039f"
            ],
            [
             0.2222222222222222,
             "#7201a8"
            ],
            [
             0.3333333333333333,
             "#9c179e"
            ],
            [
             0.4444444444444444,
             "#bd3786"
            ],
            [
             0.5555555555555556,
             "#d8576b"
            ],
            [
             0.6666666666666666,
             "#ed7953"
            ],
            [
             0.7777777777777778,
             "#fb9f3a"
            ],
            [
             0.8888888888888888,
             "#fdca26"
            ],
            [
             1,
             "#f0f921"
            ]
           ]
          },
          "colorway": [
           "#636efa",
           "#EF553B",
           "#00cc96",
           "#ab63fa",
           "#FFA15A",
           "#19d3f3",
           "#FF6692",
           "#B6E880",
           "#FF97FF",
           "#FECB52"
          ],
          "font": {
           "color": "#2a3f5f"
          },
          "geo": {
           "bgcolor": "white",
           "lakecolor": "white",
           "landcolor": "#E5ECF6",
           "showlakes": true,
           "showland": true,
           "subunitcolor": "white"
          },
          "hoverlabel": {
           "align": "left"
          },
          "hovermode": "closest",
          "mapbox": {
           "style": "light"
          },
          "paper_bgcolor": "white",
          "plot_bgcolor": "#E5ECF6",
          "polar": {
           "angularaxis": {
            "gridcolor": "white",
            "linecolor": "white",
            "ticks": ""
           },
           "bgcolor": "#E5ECF6",
           "radialaxis": {
            "gridcolor": "white",
            "linecolor": "white",
            "ticks": ""
           }
          },
          "scene": {
           "xaxis": {
            "backgroundcolor": "#E5ECF6",
            "gridcolor": "white",
            "gridwidth": 2,
            "linecolor": "white",
            "showbackground": true,
            "ticks": "",
            "zerolinecolor": "white"
           },
           "yaxis": {
            "backgroundcolor": "#E5ECF6",
            "gridcolor": "white",
            "gridwidth": 2,
            "linecolor": "white",
            "showbackground": true,
            "ticks": "",
            "zerolinecolor": "white"
           },
           "zaxis": {
            "backgroundcolor": "#E5ECF6",
            "gridcolor": "white",
            "gridwidth": 2,
            "linecolor": "white",
            "showbackground": true,
            "ticks": "",
            "zerolinecolor": "white"
           }
          },
          "shapedefaults": {
           "line": {
            "color": "#2a3f5f"
           }
          },
          "ternary": {
           "aaxis": {
            "gridcolor": "white",
            "linecolor": "white",
            "ticks": ""
           },
           "baxis": {
            "gridcolor": "white",
            "linecolor": "white",
            "ticks": ""
           },
           "bgcolor": "#E5ECF6",
           "caxis": {
            "gridcolor": "white",
            "linecolor": "white",
            "ticks": ""
           }
          },
          "title": {
           "x": 0.05
          },
          "xaxis": {
           "automargin": true,
           "gridcolor": "white",
           "linecolor": "white",
           "ticks": "",
           "title": {
            "standoff": 15
           },
           "zerolinecolor": "white",
           "zerolinewidth": 2
          },
          "yaxis": {
           "automargin": true,
           "gridcolor": "white",
           "linecolor": "white",
           "ticks": "",
           "title": {
            "standoff": 15
           },
           "zerolinecolor": "white",
           "zerolinewidth": 2
          }
         }
        }
       }
      }
     },
     "metadata": {}
    }
   ],
   "source": [
    "# Creating a 3D-Scatter with the PCA data and the clusters\n",
    "fig = px.scatter_3d(\n",
    "    clustered_df,\n",
    "    x=\"PC 1\",\n",
    "    y=\"PC 2\",\n",
    "    z=\"PC 3\",\n",
    "    hover_name='CoinName',\n",
    "    hover_data= ['Algorithm'],\n",
    "    color=\"Class\",\n",
    "    symbol=\"Class\",\n",
    ")\n",
    "fig.update_layout(legend=dict(x=0, y=1))\n",
    "fig.show()\n"
   ]
  },
  {
   "cell_type": "code",
   "execution_count": 91,
   "metadata": {},
   "outputs": [
    {
     "output_type": "display_data",
     "data": {},
     "metadata": {}
    },
    {
     "output_type": "execute_result",
     "data": {
      "text/html": "<div id='1658'>\n\n\n\n\n\n  <div class=\"bk-root\" id=\"f0272e88-0c27-4223-be95-4f1858d61868\" data-root-id=\"1658\"></div>\n</div>\n<script type=\"application/javascript\">(function(root) {\n  function embed_document(root) {\n    var docs_json = {\"880a8399-9afe-43b8-bc10-8e0290e95576\":{\"roots\":{\"references\":[{\"attributes\":{\"editor\":{\"id\":\"1683\"},\"field\":\"TotalCoinsMined\",\"formatter\":{\"id\":\"1682\"},\"title\":\"TotalCoinsMined\"},\"id\":\"1684\",\"type\":\"TableColumn\"},{\"attributes\":{\"children\":[{\"id\":\"1659\"},{\"id\":\"1692\"},{\"id\":\"1698\"}],\"margin\":[0,0,0,0],\"name\":\"Row02622\",\"tags\":[\"embedded\"]},\"id\":\"1658\",\"type\":\"Row\"},{\"attributes\":{\"source\":{\"id\":\"1660\"}},\"id\":\"1693\",\"type\":\"CDSView\"},{\"attributes\":{},\"id\":\"1662\",\"type\":\"StringFormatter\"},{\"attributes\":{\"columns\":[{\"id\":\"1664\"},{\"id\":\"1669\"},{\"id\":\"1674\"},{\"id\":\"1679\"},{\"id\":\"1684\"},{\"id\":\"1689\"}],\"height\":300,\"reorderable\":false,\"source\":{\"id\":\"1660\"},\"view\":{\"id\":\"1693\"},\"width\":700},\"id\":\"1692\",\"type\":\"DataTable\"},{\"attributes\":{},\"id\":\"1661\",\"type\":\"Selection\"},{\"attributes\":{\"editor\":{\"id\":\"1688\"},\"field\":\"Class\",\"formatter\":{\"id\":\"1687\"},\"title\":\"Class\"},\"id\":\"1689\",\"type\":\"TableColumn\"},{\"attributes\":{},\"id\":\"1673\",\"type\":\"StringEditor\"},{\"attributes\":{},\"id\":\"1678\",\"type\":\"StringEditor\"},{\"attributes\":{},\"id\":\"1663\",\"type\":\"StringEditor\"},{\"attributes\":{},\"id\":\"1672\",\"type\":\"StringFormatter\"},{\"attributes\":{},\"id\":\"1695\",\"type\":\"UnionRenderers\"},{\"attributes\":{\"editor\":{\"id\":\"1663\"},\"field\":\"CoinName\",\"formatter\":{\"id\":\"1662\"},\"title\":\"CoinName\"},\"id\":\"1664\",\"type\":\"TableColumn\"},{\"attributes\":{},\"id\":\"1668\",\"type\":\"StringEditor\"},{\"attributes\":{\"margin\":[5,5,5,5],\"name\":\"HSpacer02627\",\"sizing_mode\":\"stretch_width\"},\"id\":\"1698\",\"type\":\"Spacer\"},{\"attributes\":{},\"id\":\"1667\",\"type\":\"StringFormatter\"},{\"attributes\":{\"editor\":{\"id\":\"1668\"},\"field\":\"Algorithm\",\"formatter\":{\"id\":\"1667\"},\"title\":\"Algorithm\"},\"id\":\"1669\",\"type\":\"TableColumn\"},{\"attributes\":{\"margin\":[5,5,5,5],\"name\":\"HSpacer02626\",\"sizing_mode\":\"stretch_width\"},\"id\":\"1659\",\"type\":\"Spacer\"},{\"attributes\":{},\"id\":\"1687\",\"type\":\"NumberFormatter\"},{\"attributes\":{\"data\":{\"Algorithm\":[\"Scrypt\",\"Scrypt\",\"X13\",\"SHA-256\",\"Ethash\",\"Scrypt\",\"X11\",\"CryptoNight-V7\",\"Ethash\",\"Equihash\",\"SHA-512\",\"Multiple\",\"SHA-256\",\"SHA-256\",\"Scrypt\",\"X15\",\"X11\",\"Scrypt\",\"Scrypt\",\"Scrypt\",\"Multiple\",\"Scrypt\",\"SHA-256\",\"Scrypt\",\"Scrypt\",\"Scrypt\",\"Quark\",\"Groestl\",\"Scrypt\",\"Scrypt\",\"Scrypt\",\"Scrypt\",\"Scrypt\",\"X11\",\"Scrypt\",\"Groestl\",\"Multiple\",\"SHA-256\",\"Scrypt\",\"Scrypt\",\"Scrypt\",\"Scrypt\",\"PoS\",\"Scrypt\",\"Scrypt\",\"NeoScrypt\",\"Scrypt\",\"Scrypt\",\"Scrypt\",\"Scrypt\",\"X11\",\"Scrypt\",\"X11\",\"SHA-256\",\"Scrypt\",\"Scrypt\",\"Scrypt\",\"SHA3\",\"Scrypt\",\"HybridScryptHash256\",\"Scrypt\",\"Scrypt\",\"SHA-256\",\"Scrypt\",\"X13\",\"Scrypt\",\"SHA-256\",\"Scrypt\",\"X13\",\"NeoScrypt\",\"Scrypt\",\"Scrypt\",\"Scrypt\",\"Scrypt\",\"Scrypt\",\"Scrypt\",\"X11\",\"X11\",\"SHA-256\",\"Multiple\",\"SHA-256\",\"PHI1612\",\"X11\",\"SHA-256\",\"SHA-256\",\"SHA-256\",\"X11\",\"Scrypt\",\"Scrypt\",\"Scrypt\",\"Scrypt\",\"Lyra2REv2\",\"Scrypt\",\"X11\",\"Multiple\",\"SHA-256\",\"X13\",\"Scrypt\",\"CryptoNight\",\"CryptoNight\",\"Shabal256\",\"Counterparty\",\"Scrypt\",\"SHA-256\",\"Groestl\",\"Scrypt\",\"Scrypt\",\"Scrypt\",\"X13\",\"Scrypt\",\"Scrypt\",\"Scrypt\",\"Scrypt\",\"X13\",\"Scrypt\",\"Stanford Folding\",\"X11\",\"Multiple\",\"QuBit\",\"Scrypt\",\"Scrypt\",\"Scrypt\",\"M7 POW\",\"Scrypt\",\"SHA-256\",\"Scrypt\",\"X11\",\"SHA3\",\"X11\",\"Lyra2RE\",\"SHA-256\",\"QUAIT\",\"X11\",\"X11\",\"Scrypt\",\"Scrypt\",\"Scrypt\",\"Ethash\",\"X13\",\"Blake2b\",\"SHA-256\",\"X15\",\"X11\",\"SHA-256\",\"BLAKE256\",\"Scrypt\",\"1GB AES Pattern Search\",\"SHA-256\",\"X11\",\"Scrypt\",\"SHA-256\",\"SHA-256\",\"NIST5\",\"Scrypt\",\"Scrypt\",\"X11\",\"Dagger\",\"Scrypt\",\"X11GOST\",\"X11\",\"Scrypt\",\"SHA-256\",\"Scrypt\",\"PoS\",\"Scrypt\",\"X11\",\"X11\",\"SHA-256\",\"SHA-256\",\"NIST5\",\"X11\",\"Scrypt\",\"POS 3.0\",\"Scrypt\",\"Scrypt\",\"Scrypt\",\"X13\",\"X11\",\"X11\",\"Equihash\",\"X11\",\"Scrypt\",\"CryptoNight\",\"SHA-256\",\"SHA-256\",\"X11\",\"Scrypt\",\"Multiple\",\"Scrypt\",\"Scrypt\",\"Scrypt\",\"SHA-256\",\"Scrypt\",\"Scrypt\",\"SHA-256D\",\"PoS\",\"Scrypt\",\"X11\",\"Lyra2Z\",\"PoS\",\"X13\",\"X14\",\"PoS\",\"SHA-256D\",\"Ethash\",\"Equihash\",\"DPoS\",\"X11\",\"Scrypt\",\"X11\",\"X13\",\"X11\",\"PoS\",\"Scrypt\",\"Scrypt\",\"X11\",\"PoS\",\"X11\",\"SHA-256\",\"Scrypt\",\"X11\",\"Scrypt\",\"Scrypt\",\"X11\",\"CryptoNight\",\"Scrypt\",\"Scrypt\",\"Scrypt\",\"Scrypt\",\"Quark\",\"QuBit\",\"Scrypt\",\"CryptoNight\",\"Lyra2RE\",\"Scrypt\",\"SHA-256\",\"X11\",\"Scrypt\",\"X11\",\"Scrypt\",\"CryptoNight-V7\",\"Scrypt\",\"Scrypt\",\"Scrypt\",\"X13\",\"X11\",\"Equihash\",\"Scrypt\",\"Scrypt\",\"Lyra2RE\",\"Scrypt\",\"Dagger-Hashimoto\",\"X11\",\"Blake2S\",\"X11\",\"Scrypt\",\"PoS\",\"X11\",\"NIST5\",\"PoS\",\"X11\",\"Scrypt\",\"Scrypt\",\"Scrypt\",\"SHA-256\",\"X11\",\"Scrypt\",\"Scrypt\",\"SHA-256\",\"PoS\",\"Scrypt\",\"X15\",\"SHA-256\",\"Scrypt\",\"POS 3.0\",\"CryptoNight-V7\",\"536\",\"Argon2d\",\"Blake2b\",\"Cloverhash\",\"CryptoNight\",\"NIST5\",\"X11\",\"NIST5\",\"Skein\",\"Scrypt\",\"X13\",\"Scrypt\",\"X11\",\"X11\",\"Scrypt\",\"CryptoNight\",\"X13\",\"Time Travel\",\"Scrypt\",\"Keccak\",\"SkunkHash v2 Raptor\",\"X11\",\"Skein\",\"SHA-256\",\"X11\",\"Scrypt\",\"VeChainThor Authority\",\"Scrypt\",\"PoS\",\"Scrypt\",\"Scrypt\",\"Scrypt\",\"Scrypt\",\"Scrypt\",\"Scrypt\",\"Scrypt\",\"CryptoNight\",\"SHA-512\",\"Ouroboros\",\"X11\",\"Equihash\",\"NeoScrypt\",\"X11\",\"Scrypt\",\"NeoScrypt\",\"Lyra2REv2\",\"Equihash\",\"Scrypt\",\"SHA-256\",\"NIST5\",\"PHI1612\",\"Dagger\",\"Scrypt\",\"Quark\",\"Scrypt\",\"POS 2.0\",\"Scrypt\",\"SHA-256\",\"X11\",\"NeoScrypt\",\"Ethash\",\"NeoScrypt\",\"X11\",\"DPoS\",\"NIST5\",\"X13\",\"Multiple\",\"Scrypt\",\"CryptoNight\",\"CryptoNight\",\"Ethash\",\"NIST5\",\"Quark\",\"X11\",\"CryptoNight-V7\",\"Scrypt\",\"Scrypt\",\"Scrypt\",\"X11\",\"BLAKE256\",\"X11\",\"NeoScrypt\",\"Quark\",\"NeoScrypt\",\"Scrypt\",\"Scrypt\",\"Scrypt\",\"X11\",\"X11\",\"SHA-256\",\"C11\",\"POS 3.0\",\"Ethash\",\"Scrypt\",\"CryptoNight\",\"SkunkHash\",\"Scrypt\",\"CryptoNight\",\"Scrypt\",\"Dagger\",\"Lyra2REv2\",\"X13\",\"Proof-of-BibleHash\",\"SHA-256 + Hive\",\"Scrypt\",\"Scrypt\",\"X11\",\"C11\",\"Proof-of-Authority\",\"X11\",\"XEVAN\",\"Scrypt\",\"VBFT\",\"Ethash\",\"CryptoNight\",\"Scrypt\",\"IMesh\",\"NIST5\",\"Scrypt\",\"Scrypt\",\"Equihash\",\"Scrypt\",\"Lyra2Z\",\"Green Protocol\",\"PoS\",\"Scrypt\",\"Semux BFT consensus\",\"X11\",\"Quark\",\"PoS\",\"CryptoNight\",\"X16R\",\"Scrypt\",\"NIST5\",\"Lyra2RE\",\"XEVAN\",\"Tribus\",\"Scrypt\",\"Lyra2Z\",\"CryptoNight\",\"CryptoNight Heavy\",\"CryptoNight\",\"Scrypt\",\"Scrypt\",\"Jump Consistent Hash\",\"SHA-256D\",\"CryptoNight\",\"Scrypt\",\"X15\",\"Scrypt\",\"Quark\",\"SHA-256\",\"DPoS\",\"X16R\",\"HMQ1725\",\"X11\",\"X16R\",\"Quark\",\"Quark\",\"Scrypt\",\"Lyra2REv2\",\"Quark\",\"Scrypt\",\"Scrypt\",\"CryptoNight-V7\",\"Cryptonight-GPU\",\"XEVAN\",\"CryptoNight Heavy\",\"X11\",\"X11\",\"Scrypt\",\"PoS\",\"SHA-256\",\"Keccak\",\"X11\",\"X11\",\"Scrypt\",\"SHA-512\",\"X16R\",\"ECC 256K1\",\"Equihash\",\"XEVAN\",\"Lyra2Z\",\"SHA-256\",\"XEVAN\",\"X11\",\"CryptoNight\",\"Quark\",\"Blake\",\"Blake\",\"Equihash\",\"Exosis\",\"Scrypt\",\"Scrypt\",\"Equihash\",\"Quark\",\"Equihash\",\"Quark\",\"Scrypt\",\"QuBit\",\"X11\",\"Scrypt\",\"XEVAN\",\"SHA-256D\",\"X11\",\"SHA-256\",\"X13\",\"SHA-256\",\"X11\",\"DPoS\",\"Scrypt\",\"Scrypt\",\"X11\",\"NeoScrypt\",\"Scrypt\",\"Blake\",\"Scrypt\",\"SHA-256\",\"Scrypt\",\"X11\",\"Scrypt\",\"Scrypt\",\"SHA-256\",\"X11\",\"SHA-256\",\"Scrypt\",\"Scrypt\",\"Scrypt\",\"Groestl\",\"X11\",\"Scrypt\",\"PoS\",\"Scrypt\",\"Scrypt\",\"X11\",\"SHA-256\",\"DPoS\",\"Scrypt\",\"Scrypt\",\"NeoScrypt\",\"SHA3-256\",\"Multiple\",\"X13\",\"Equihash+Scrypt\",\"DPoS\",\"Ethash\",\"DPoS\",\"SHA-256\",\"Leased POS\",\"PoS\",\"TRC10\",\"PoS\",\"SHA-256\",\"Scrypt\",\"CryptoNight\",\"Equihash\",\"Scrypt\"],\"Class\":{\"__ndarray__\":\"AAAAAAAAAAAFAAAAAQAAAAEAAAABAAAAAAAAAAEAAAABAAAAAQAAAAAAAAABAAAAAAAAAAAAAAABAAAAAAAAAAEAAAABAAAAAAAAAAAAAAABAAAABQAAAAEAAAABAAAAAQAAAAAAAAABAAAAAQAAAAEAAAAAAAAAAQAAAAAAAAABAAAAAQAAAAAAAAAAAAAAAQAAAAEAAAABAAAAAQAAAAEAAAABAAAAAAAAAAEAAAABAAAAAQAAAAEAAAABAAAAAQAAAAAAAAAAAAAAAQAAAAAAAAABAAAAAQAAAAEAAAABAAAAAAAAAAEAAAABAAAAAAAAAAEAAAAAAAAAAAAAAAAAAAABAAAAAQAAAAEAAAAAAAAAAAAAAAAAAAAAAAAAAAAAAAEAAAABAAAAAQAAAAAAAAAAAAAAAQAAAAAAAAABAAAAAAAAAAAAAAABAAAAAQAAAAEAAAABAAAAAAAAAAAAAAABAAAAAAAAAAEAAAABAAAAAAAAAAAAAAABAAAAAAAAAAAAAAAFAAAAAQAAAAAAAAAAAAAAAQAAAAAAAAAAAAAAAQAAAAAAAAABAAAAAAAAAAEAAAAAAAAAAQAAAAAAAAAAAAAAAQAAAAEAAAAAAAAAAQAAAAEAAAABAAAAAAAAAAEAAAABAAAAAQAAAAEAAAABAAAAAAAAAAAAAAABAAAAAQAAAAEAAAAAAAAAAQAAAAAAAAABAAAAAQAAAAAAAAABAAAAAAAAAAEAAAAAAAAAAAAAAAEAAAABAAAAAAAAAAEAAAABAAAAAAAAAAAAAAABAAAAAAAAAAEAAAAAAAAAAAAAAAAAAAABAAAAAQAAAAEAAAABAAAAAAAAAAAAAAAAAAAAAAAAAAAAAAABAAAAAQAAAAAAAAAAAAAAAAAAAAAAAAAAAAAAAQAAAAAAAAAAAAAAAAAAAAAAAAAAAAAAAQAAAAAAAAABAAAAAAAAAAAAAAABAAAAAAAAAAEAAAAAAAAAAAAAAAEAAAAAAAAAAQAAAAAAAAABAAAAAQAAAAEAAAAAAAAAAAAAAAAAAAAAAAAAAQAAAAAAAAAAAAAAAAAAAAAAAAAAAAAAAQAAAAEAAAAFAAAAAAAAAAEAAAABAAAAAAAAAAAAAAAAAAAAAAAAAAAAAAABAAAAAAAAAAAAAAAAAAAAAAAAAAAAAAAAAAAAAAAAAAAAAAABAAAAAAAAAAAAAAAAAAAAAAAAAAAAAAAAAAAAAQAAAAEAAAABAAAAAAAAAAAAAAAAAAAAAAAAAAEAAAAAAAAAAQAAAAAAAAAAAAAAAQAAAAAAAAABAAAAAQAAAAAAAAABAAAAAQAAAAAAAAABAAAAAAAAAAAAAAAAAAAAAQAAAAAAAAAAAAAAAQAAAAAAAAAAAAAAAAAAAAAAAAAAAAAAAAAAAAAAAAABAAAAAAAAAAEAAAAAAAAAAAAAAAAAAAAAAAAAAQAAAAAAAAABAAAAAAAAAAEAAAABAAAAAQAAAAEAAAAAAAAAAQAAAAAAAAAAAAAAAQAAAAAAAAABAAAAAQAAAAEAAAAAAAAAAQAAAAAAAAABAAAABQAAAAEAAAAAAAAAAQAAAAAAAAABAAAAAAAAAAAAAAAFAAAAAQAAAAAAAAABAAAAAQAAAAEAAAABAAAAAQAAAAAAAAAAAAAAAQAAAAAAAAAAAAAAAAAAAAEAAAAAAAAAAQAAAAAAAAABAAAAAAAAAAEAAAAAAAAAAAAAAAAAAAAAAAAAAQAAAAAAAAAAAAAAAQAAAAAAAAAAAAAAAAAAAAEAAAABAAAAAQAAAAEAAAAAAAAABQAAAAAAAAAAAAAAAQAAAAAAAAABAAAAAQAAAAEAAAAAAAAAAAAAAAEAAAABAAAAAAAAAAAAAAABAAAAAAAAAAEAAAABAAAAAQAAAAAAAAABAAAAAQAAAAAAAAAAAAAAAAAAAAEAAAABAAAAAQAAAAAAAAAAAAAAAAAAAAUAAAABAAAAAAAAAAEAAAABAAAAAQAAAAEAAAAAAAAAAgAAAAIAAAABAAAAAQAAAAEAAAAAAAAAAgAAAAAAAAAAAAAAAAAAAAAAAAABAAAAAQAAAAEAAAABAAAAAAAAAAAAAAAAAAAAAQAAAAAAAAABAAAAAAAAAAAAAAAAAAAABQAAAAEAAAAAAAAAAAAAAAEAAAAAAAAAAAAAAAEAAAABAAAAAAAAAAEAAAAAAAAAAQAAAAEAAAABAAAAAQAAAAAAAAAAAAAAAQAAAAAAAAABAAAAAAAAAAAAAAAFAAAAAAAAAAAAAAAAAAAAAQAAAAEAAAABAAAAAAAAAAAAAAAAAAAAAAAAAAAAAAAAAAAAAQAAAAAAAAABAAAAAQAAAAEAAAAFAAAAAAAAAAAAAAAAAAAAAAAAAAEAAAAAAAAAAAAAAAEAAAAAAAAAAAAAAAEAAAAEAAAAAQAAAAAAAAABAAAAAQAAAAAAAAAAAAAAAQAAAAAAAAABAAAAAQAAAAAAAAABAAAAAQAAAAAAAAABAAAAAAAAAAEAAAAAAAAAAAAAAAEAAAAAAAAAAAAAAAAAAAAAAAAAAAAAAAEAAAABAAAAAQAAAAAAAAAFAAAAAAAAAAEAAAAAAAAAAQAAAAAAAAABAAAAAAAAAAAAAAAAAAAAAAAAAAEAAAAAAAAAAAAAAAAAAAABAAAAAAAAAAEAAAAAAAAAAQAAAAAAAAAAAAAAAAAAAAEAAAABAAAAAAAAAAAAAAAFAAAAAAAAAAAAAAAAAAAAAQAAAAEAAAAAAAAAAQAAAAUAAAABAAAABQAAAAAAAAAEAAAAAAAAAAMAAAAAAAAABQAAAAAAAAABAAAAAQAAAAAAAAA=\",\"dtype\":\"int32\",\"order\":\"little\",\"shape\":[533]},\"CoinName\":[\"42 Coin\",\"404Coin\",\"EliteCoin\",\"Bitcoin\",\"Ethereum\",\"Litecoin\",\"Dash\",\"Monero\",\"Ethereum Classic\",\"ZCash\",\"Bitshares\",\"DigiByte\",\"BitcoinDark\",\"PayCoin\",\"ProsperCoin\",\"KoboCoin\",\"Spreadcoin\",\"Argentum\",\"Aurora Coin\",\"BlueCoin\",\"MyriadCoin\",\"MoonCoin\",\"ZetaCoin\",\"SexCoin\",\"Quatloo\",\"EnergyCoin\",\"QuarkCoin\",\"Riecoin\",\"Digitalcoin \",\"BitBar\",\"Catcoin\",\"CryptoBullion\",\"CannaCoin\",\"CryptCoin\",\"CasinoCoin\",\"Diamond\",\"Verge\",\"DevCoin\",\"EarthCoin\",\"E-Gulden\",\"Einsteinium\",\"Emerald\",\"Exclusive Coin\",\"FlutterCoin\",\"Franko\",\"FeatherCoin\",\"GrandCoin\",\"GlobalCoin\",\"GoldCoin\",\"HoboNickels\",\"HyperStake\",\"Infinite Coin\",\"IOCoin\",\"IXcoin\",\"KrugerCoin\",\"LuckyCoin\",\"Litebar \",\"MaxCoin\",\"MegaCoin\",\"MediterraneanCoin\",\"MintCoin\",\"MinCoin\",\"MazaCoin\",\"Nautilus Coin\",\"NavCoin\",\"NobleCoin\",\"Namecoin\",\"NyanCoin\",\"OpalCoin\",\"Orbitcoin\",\"PotCoin\",\"PhoenixCoin\",\"Reddcoin\",\"RonPaulCoin\",\"StableCoin\",\"SmartCoin\",\"SuperCoin\",\"SyncCoin\",\"SysCoin\",\"TeslaCoin\",\"TigerCoin\",\"TittieCoin\",\"TorCoin\",\"TerraCoin\",\"UnbreakableCoin\",\"Unobtanium\",\"UroCoin\",\"UnitaryStatus Dollar\",\"UltraCoin\",\"ViaCoin\",\"VeriCoin\",\"Vertcoin\",\"WorldCoin\",\"X11 Coin\",\"Crypti\",\"JouleCoin\",\"StealthCoin\",\"ZCC Coin\",\"ByteCoin\",\"DigitalNote \",\"BurstCoin\",\"StorjCoin\",\"MonaCoin\",\"Neutron\",\"FairCoin\",\"Gulden\",\"RubyCoin\",\"PesetaCoin\",\"Kore\",\"Wild Beast Coin\",\"Dnotes\",\"Flo\",\"8BIT Coin\",\"Sativa Coin\",\"ArtByte\",\"Folding Coin\",\"Ucoin\",\"Unitus\",\"CypherPunkCoin\",\"OmniCron\",\"Vtorrent\",\"GreenCoin\",\"Cryptonite\",\"MasterCoin\",\"SoonCoin\",\"1Credit\",\"IslaCoin\",\"Nexus\",\"MarsCoin \",\"Crypto\",\"Anarchists Prime\",\"Droidz\",\"BowsCoin\",\"Squall Coin\",\"Song Coin\",\"BitZeny\",\"Diggits\",\"Expanse\",\"Paycon\",\"Siacoin\",\"Emercoin\",\"EverGreenCoin\",\"MindCoin\",\"I0coin\",\"Decred\",\"Revolution VR\",\"HOdlcoin\",\"EDRCoin\",\"Hitcoin\",\"Gamecredits\",\"DubaiCoin\",\"CarpeDiemCoin\",\"PWR Coin\",\"BillaryCoin\",\"GPU Coin\",\"Adzcoin\",\"SoilCoin\",\"YoCoin\",\"SibCoin\",\"EuropeCoin\",\"ZeitCoin\",\"SwingCoin\",\"SafeExchangeCoin\",\"Nebuchadnezzar\",\"Francs\",\"BolivarCoin\",\"Ratecoin\",\"Revenu\",\"Clockcoin\",\"VIP Tokens\",\"BitSend\",\"Omni\",\"Let it Ride\",\"PutinCoin\",\"iBankCoin\",\"Frankywillcoin\",\"MudraCoin\",\"PizzaCoin\",\"Lutetium Coin\",\"Komodo\",\"GoldBlocks\",\"CarterCoin\",\"Karbo\",\"BitTokens\",\"ZayedCoin\",\"MustangCoin\",\"ZoneCoin\",\"Circuits of Value\",\"RootCoin\",\"DopeCoin\",\"BitCurrency\",\"DollarCoin\",\"Swiscoin\",\"Shilling\",\"BuzzCoin\",\"Opair\",\"PesoBit\",\"Halloween Coin\",\"ZCoin\",\"CoffeeCoin\",\"RoyalCoin\",\"GanjaCoin V2\",\"TeamUP\",\"LanaCoin\",\"Elementrem\",\"ZClassic\",\"ARK\",\"InsaneCoin\",\"KiloCoin\",\"ArtexCoin\",\"EmberCoin\",\"XenixCoin\",\"FreeCoin\",\"PLNCoin\",\"AquariusCoin\",\"Kurrent\",\"Creatio\",\"Eternity\",\"Eurocoin\",\"BitcoinFast\",\"Stakenet\",\"BitConnect Coin\",\"MoneyCoin\",\"Enigma\",\"Cannabis Industry Coin\",\"Russiacoin\",\"PandaCoin\",\"GameUnits\",\"GAKHcoin\",\"Allsafe\",\"LiteCreed\",\"OsmiumCoin\",\"Bikercoins\",\"HexxCoin\",\"Klingon Empire Darsek\",\"Internet of People\",\"KushCoin\",\"Printerium\",\"PacCoin\",\"Impeach\",\"Citadel\",\"Zilbercoin\",\"FirstCoin\",\"BeaverCoin\",\"FindCoin\",\"VaultCoin\",\"Zero\",\"OpenChat\",\"Canada eCoin\",\"Zoin\",\"RenosCoin\",\"DubaiCoin\",\"VirtacoinPlus\",\"TajCoin\",\"Impact\",\"EB3coin\",\"Atmos\",\"HappyCoin\",\"Coinonat\",\"MacronCoin\",\"Condensate\",\"Independent Money System\",\"ArgusCoin\",\"LomoCoin\",\"ProCurrency\",\"GoldReserve\",\"BenjiRolls\",\"GrowthCoin\",\"ILCoin\",\"Phreak\",\"Degas Coin\",\"HTML5 Coin\",\"Ultimate Secure Cash\",\"EquiTrader\",\"QTUM\",\"Quantum Resistant Ledger\",\"Espers\",\"Dynamic\",\"Nano\",\"ChanCoin\",\"Dinastycoin\",\"Denarius\",\"DigitalPrice\",\"Virta Unique Coin\",\"Bitcoin Planet\",\"Unify\",\"BritCoin\",\"SocialCoin\",\"ArcticCoin\",\"DAS\",\"Linda\",\"LeviarCoin\",\"DeepOnion\",\"Bitcore\",\"gCn Coin\",\"SmartCash\",\"Signatum\",\"Onix\",\"Cream\",\"Bitcoin Cash\",\"Monoeci\",\"Draftcoin\",\"Vechain\",\"Sojourn Coin\",\"Stakecoin\",\"NewYorkCoin\",\"FrazCoin\",\"Kronecoin\",\"AdCoin\",\"Linx\",\"CoinonatX\",\"Ethereum Dark\",\"Sumokoin\",\"Obsidian\",\"Cardano\",\"Regalcoin\",\"BitcoinZ\",\"TrezarCoin\",\"Elements\",\"TerraNovaCoin\",\"VIVO Coin\",\"Rupee\",\"Bitcoin Gold\",\"WomenCoin\",\"Theresa May Coin\",\"NamoCoin\",\"LUXCoin\",\"Pirl\",\"Xios\",\"Bitcloud 2.0\",\"eBoost\",\"KekCoin\",\"BlackholeCoin\",\"Infinity Economics\",\"Pura\",\"Innova\",\"Ellaism\",\"GoByte\",\"Magnet\",\"Lamden Tau\",\"Electra\",\"Bitcoin Diamond\",\"SHIELD\",\"Cash & Back Coin\",\"UltraNote\",\"BitCoal\",\"DaxxCoin\",\"Bulwark\",\"Kalkulus\",\"AC3\",\"Lethean\",\"GermanCoin\",\"LiteCoin Ultra\",\"PopularCoin\",\"PhantomX\",\"Photon\",\"Sucre\",\"SparksPay\",\"Digiwage\",\"GunCoin\",\"IrishCoin\",\"Trollcoin\",\"Litecoin Plus\",\"Monkey Project\",\"Pioneer Coin\",\"UnitedBitcoin\",\"Interzone\",\"TokenPay\",\"1717 Masonic Commemorative Token\",\"My Big Coin\",\"TurtleCoin\",\"MUNcoin\",\"Unified Society USDEX\",\"Niobio Cash\",\"ShareChain\",\"Travelflex\",\"KREDS\",\"Tokyo Coin\",\"BiblePay\",\"LitecoinCash\",\"BitFlip\",\"LottoCoin\",\"Crypto Improvement Fund\",\"Stipend\",\"Poa Network\",\"Pushi\",\"Ellerium\",\"Velox\",\"Ontology\",\"Callisto Network\",\"BitTube\",\"Poseidon\",\"Aidos Kuneen\",\"Bitspace\",\"Briacoin\",\"Ignition\",\"Bitrolium\",\"MedicCoin\",\"Alpenschillling\",\"Bitcoin Green\",\"Deviant Coin\",\"Abjcoin\",\"Semux\",\"FuturoCoin\",\"Carebit\",\"Zealium\",\"Monero Classic\",\"Proton\",\"iDealCash\",\"Jumpcoin\",\"Infinex\",\"Bitcoin Incognito\",\"KEYCO\",\"HollyWoodCoin\",\"GINcoin\",\"PlatinCoin\",\"Loki\",\"Newton Coin\",\"Swisscoin\",\"Xt3ch\",\"MassGrid\",\"TheVig\",\"PluraCoin\",\"EmaratCoin\",\"Dekado\",\"Lynx\",\"Poseidon Quark\",\"BitcoinWSpectrum\",\"Muse\",\"Motion\",\"PlusOneCoin\",\"Axe\",\"Trivechain\",\"Dystem\",\"Giant\",\"Peony Coin\",\"Absolute Coin\",\"Vitae\",\"HexCoin\",\"TPCash\",\"Webchain\",\"Ryo\",\"Urals Coin\",\"Qwertycoin\",\"ARENON\",\"EUNO\",\"MMOCoin\",\"Ketan\",\"Project Pai\",\"XDNA\",\"PAXEX\",\"Azart\",\"ThunderStake\",\"Kcash\",\"Xchange\",\"Acute Angle Cloud\",\"CrypticCoin\",\"Bettex coin\",\"Actinium\",\"Bitcoin SV\",\"BitMoney\",\"Junson Ming Chan Coin\",\"FREDEnergy\",\"HerbCoin\",\"Universal Molecule\",\"Lithium\",\"PirateCash\",\"Exosis\",\"Block-Logic\",\"Oduwa\",\"Beam\",\"Galilel\",\"Bithereum\",\"Crypto Sports\",\"Credit\",\"SLICE\",\"Dash Platinum\",\"Nasdacoin\",\"Beetle Coin\",\"Titan Coin\",\"Award\",\"BLAST\",\"Bitcoin Rhodium\",\"GlobalToken\",\"Insane Coin\",\"ALAX\",\"LiteDoge\",\"SolarCoin\",\"TruckCoin\",\"UFO Coin\",\"OrangeCoin\",\"BlakeCoin\",\"BitstarCoin\",\"NeosCoin\",\"HyperCoin\",\"PinkCoin\",\"Crypto Escudo\",\"AudioCoin\",\"IncaKoin\",\"Piggy Coin\",\"Crown Coin\",\"Genstake\",\"SmileyCoin\",\"XiaoMiCoin\",\"Groestlcoin\",\"CapriCoin\",\" ClubCoin\",\"Radium\",\"Bata\",\"Pakcoin\",\"Creditbit \",\"OKCash\",\"Lisk\",\"HiCoin\",\"WhiteCoin\",\"FriendshipCoin\",\"Fiii\",\"JoinCoin\",\"Triangles Coin\",\"Vollar\",\"EOS\",\"Reality Clash\",\"Oxycoin\",\"TigerCash\",\"Waves\",\"Particl\",\"BitTorrent\",\"Nxt\",\"ZEPHYR\",\"Gapcoin\",\"Beldex\",\"Horizen\",\"BitcoinPlus\"],\"ProofType\":[\"PoW/PoS\",\"PoW/PoS\",\"PoW/PoS\",\"PoW\",\"PoW\",\"PoW\",\"PoW/PoS\",\"PoW\",\"PoW\",\"PoW\",\"PoS\",\"PoW\",\"PoW/PoS\",\"PoS\",\"PoW\",\"PoW/PoS\",\"PoW\",\"PoW\",\"PoW/PoS\",\"PoW/PoS\",\"PoW\",\"PoW\",\"PoW\",\"PoW\",\"PoW\",\"PoW/PoS\",\"PoW\",\"PoW\",\"PoW\",\"PoW/PoS\",\"PoW\",\"PoW/PoS\",\"PoW\",\"PoW\",\"PoC\",\"PoW/PoS\",\"PoW\",\"PoW\",\"PoW\",\"PoW\",\"PoW\",\"PoW\",\"PoS\",\"PoS/PoW/PoT\",\"PoW\",\"PoW\",\"PoW\",\"PoW\",\"PoW\",\"PoW/PoS\",\"PoS\",\"PoW\",\"PoW/PoS\",\"PoW\",\"PoW\",\"PoW\",\"PoW\",\"PoW/PoS\",\"PoW\",\"PoW\",\"PoS\",\"PoW\",\"PoW/PoS\",\"PoS\",\"PoW/PoS\",\"PoW\",\"PoW\",\"PoW\",\"PoW/PoS\",\"PoW/PoS\",\"PoW/PoS\",\"PoW/PoS\",\"PoW/PoS\",\"PoW\",\"PoW\",\"PoW\",\"PoS\",\"PoW/PoS\",\"PoW\",\"PoS\",\"PoW\",\"PoS\",\"PoW/PoS\",\"PoW\",\"PoW\",\"PoW\",\"PoW\",\"PoW/PoS\",\"PoW/PoS\",\"PoW\",\"PoST\",\"PoW\",\"PoW\",\"PoW/PoS\",\"PoS\",\"PoW\",\"PoW/PoS\",\"PoW/PoS\",\"PoW\",\"PoW\",\"PoC\",\"PoS\",\"PoW\",\"PoW/PoS\",\"PoW/PoS\",\"PoW\",\"PoS\",\"PoW\",\"PoW/PoS\",\"PoW\",\"PoS\",\"PoW\",\"PoW/PoS\",\"PoW/PoS\",\"PoW\",\"PoW\",\"PoS\",\"PoW\",\"PoW\",\"PoW\",\"PoW/PoS\",\"PoW\",\"PoW\",\"PoW\",\"PoW\",\"PoW\",\"PoW/PoS\",\"PoW/nPoS\",\"PoW\",\"PoW\",\"PoW\",\"PoW/PoS\",\"PoW\",\"PoS/PoW\",\"PoW\",\"PoW\",\"PoS\",\"PoW\",\"PoW/PoS\",\"PoW\",\"PoW/PoS\",\"PoW/PoS\",\"PoW\",\"PoW\",\"PoW/PoS\",\"PoW\",\"PoW\",\"PoW/PoS\",\"PoW/PoS\",\"PoW\",\"PoW/PoS\",\"PoW\",\"PoW/PoS\",\"PoW/PoS\",\"PoS\",\"PoW\",\"PoW\",\"PoW\",\"PoW\",\"PoW/PoS\",\"PoS\",\"PoW/PoS\",\"PoC\",\"PoS\",\"PoW\",\"PoW\",\"PoW/PoS\",\"PoW/PoS\",\"PoW/PoS\",\"PoW/PoS\",\"PoW/PoS\",\"PoW\",\"PoS\",\"PoW/PoS\",\"PoW/PoS\",\"PoW/PoS\",\"PoS\",\"PoW\",\"PoS\",\"dPoW/PoW\",\"PoW/PoS\",\"PoW/PoS\",\"PoW\",\"PoW/PoS\",\"PoW\",\"PoW/PoS\",\"PoW/PoS\",\"PoW\",\"PoW/PoS\",\"PoW\",\"PoS\",\"PoW\",\"PoW/PoW\",\"PoW\",\"PoW/PoS\",\"PoS\",\"PoW/PoS\",\"PoW/PoS\",\"PoW\",\"PoS\",\"PoS\",\"PoW/PoS\",\"PoS\",\"PoW/PoS\",\"PoW\",\"PoW\",\"DPoS\",\"PoW/PoS\",\"PoW\",\"PoW\",\"PoW/PoS\",\"PoW/PoS\",\"PoS\",\"PoW/PoS\",\"PoW/PoS\",\"PoW\",\"PoS\",\"PoW/PoS\",\"PoW/PoS\",\"PoW/PoS\",\"TPoS\",\"PoW/PoS\",\"PoW/PoS\",\"PoW/PoS\",\"PoW\",\"PoW/PoS\",\"PoS\",\"PoW/PoS\",\"PoW/PoS\",\"PoS\",\"PoW/PoS\",\"PoW\",\"PoW\",\"PoW\",\"PoW/PoS\",\"PoW/PoS\",\"PoW/PoS\",\"PoW/PoS\",\"PoW\",\"PoW/PoS\",\"PoW\",\"PoS\",\"PoW/PoS \",\"PoW\",\"PoS\",\"PoW\",\"PoW\",\"PoW/PoS\",\"PoW\",\"PoW\",\"PoS\",\"PoW\",\"PoW/PoS\",\"PoW/PoS\",\"PoW/PoS\",\"PoW\",\"PoS\",\"PoW/PoS\",\"PoW\",\"PoS\",\"PoW/PoS\",\"PoW/PoS\",\"PoW/PoS\",\"PoW/PoS\",\"PoS\",\"PoW/PoS\",\"PoW\",\"PoS\",\"PoW\",\"PoS\",\"PoW/PoS\",\"PoW/PoS\",\"PoS\",\"PoW\",\"PoS\",\"PoW\",\"PoW/PoS\",\"PoW\",\"PoW\",\"PoW\",\"PoW\",\"PoW/PoS\",\"PoW\",\"PoW/PoS\",\"PoW/PoS\",\"PoW\",\"PoW/PoS\",\"PoW\",\"PoW\",\"PoW\",\"PoW/PoS\",\"PoW\",\"PoW/PoS\",\"PoW\",\"PoW\",\"PoW\",\"PoS\",\"PoW\",\"PoW/PoS\",\"PoW\",\"PoW/PoS\",\"PoS\",\"Proof of Authority\",\"PoW\",\"PoS\",\"PoW\",\"PoW\",\"PoW\",\"PoW\",\"PoW\",\"PoW/PoS\",\"PoW/PoS\",\"PoW\",\"PoS\",\"PoS\",\"PoW/PoS\",\"PoW\",\"PoW/PoS\",\"PoW\",\"PoW/PoS\",\"PoW\",\"PoS\",\"PoW\",\"PoW/PoS\",\"PoW/PoS\",\"PoW/PoS\",\"PoW/PoS\",\"PoW\",\"PoW/PoS\",\"PoW/PoS\",\"PoW\",\"PoS\",\"PoW/PoS\",\"PoS\",\"PoW\",\"PoW\",\"PoW\",\"PoW\",\"PoW/PoS\",\"DPoS\",\"PoW/PoS\",\"PoW/PoS\",\"PoW\",\"PoW/PoS\",\"PoW\",\"PoW\",\"PoW\",\"PoS\",\"PoS\",\"PoW\",\"PoW\",\"PoW/PoS\",\"PoW/PoS\",\"PoW\",\"PoW/PoS\",\"PoW\",\"PoW\",\"PoW\",\"PoS\",\"PoW\",\"PoW\",\"PoW/PoS\",\"PoW/PoS\",\"PoS\",\"PoW\",\"PoW\",\"PoW\",\"PoS\",\"PoS\",\"PoW and PoS\",\"PoW\",\"PoW\",\"PoW/PoS\",\"PoW\",\"PoW\",\"PoW\",\"PoW\",\"PoS\",\"POBh\",\"PoW + Hive\",\"PoW\",\"PoW\",\"PoW\",\"PoW/PoS\",\"PoA\",\"PoW/PoS\",\"PoW/PoS\",\"PoS\",\"PoS\",\"PoW\",\"PoW\",\"PoW\",\"PoW\",\"PoW/PoS\",\"PoW/PoS\",\"PoW/PoS\",\"PoW\",\"PoS\",\"PoW\",\"PoS\",\"PoS\",\"PoW/PoS\",\"DPoS\",\"PoW\",\"PoW/PoS\",\"PoS\",\"PoW\",\"PoS\",\"PoW/PoS\",\"PoW\",\"PoW\",\"PoS/PoW\",\"PoW\",\"PoS\",\"PoW\",\"PoW\",\"PoW\",\"PoW\",\"PoW/PoS\",\"PoS\",\"PoW\",\"PoW/PoS\",\"PoW\",\"PoW/PoS\",\"PoS\",\"HPoW\",\"PoS\",\"PoS\",\"PoS\",\"PoW\",\"PoW\",\"PoW\",\"PoW/PoS\",\"PoS\",\"PoW/PoS\",\"PoS\",\"PoW/PoS\",\"PoS\",\"PoW\",\"PoW/PoS\",\"PoW\",\"PoW\",\"PoW\",\"PoW\",\"PoS\",\"PoW/PoS\",\"PoS\",\"PoS\",\"PoW\",\"PoW/PoS\",\"PoS\",\"PoW\",\"PoW/PoS\",\"Zero-Knowledge Proof\",\"PoW\",\"DPOS\",\"PoW\",\"PoS\",\"PoW\",\"PoW\",\"Pos\",\"PoS\",\"PoW\",\"PoW/PoS\",\"PoW\",\"PoW\",\"PoS\",\"PoW\",\"PoW\",\"PoW/PoS\",\"PoW\",\"PoW/PoS\",\"PoW\",\"PoS\",\"PoW/PoS\",\"PoW\",\"PoS\",\"PoW/PoS\",\"PoW/PoS\",\"PoW/PoS\",\"PoW/PoS\",\"PoW\",\"PoW\",\"PoW\",\"PoW/PoS\",\"DPoS\",\"PoW/PoS\",\"PoW\",\"PoW/PoS\",\"PoW\",\"PoW/PoS\",\"PoW\",\"PoW/PoS\",\"PoS\",\"PoW/PoS\",\"PoW/PoS\",\"PoW\",\"PoW/PoS\",\"PoW/PoS\",\"PoW/PoS\",\"PoW\",\"PoW/PoS\",\"PoW\",\"PoW/PoS\",\"PoW\",\"PoW/PoS\",\"PoW/PoS\",\"PoS\",\"PoW\",\"PoW\",\"Proof of Trust\",\"PoW/PoS\",\"DPoS\",\"PoS\",\"PoW/PoS\",\"PoW/PoS\",\"DPoC\",\"PoW\",\"PoW/PoS\",\"PoW\",\"DPoS\",\"PoW\",\"DPoS\",\"PoS\",\"LPoS\",\"PoS\",\"DPoS\",\"PoS/LPoS\",\"DPoS\",\"PoW/PoS\",\"PoW\",\"PoW\",\"PoS\"],\"TotalCoinSupply\":[\"42\",\"532000000\",\"314159265359\",\"21000000\",\"0\",\"84000000\",\"22000000\",\"0\",\"210000000\",\"21000000\",\"3600570502\",\"21000000000\",\"22000000\",\"12500000\",\"21000000\",\"350000000\",\"20000000\",\"64000000\",\"16768584\",\"0\",\"2000000000\",\"384000000000\",\"169795588\",\"250000000\",\"100000000\",\"0\",\"247000000\",\"84000000\",\"48166000\",\"500000\",\"21000000 \",\"1000000\",\"13140000\",\"18000000\",\"40000000000\",\"4380000\",\"16555000000\",\"21000000000\",\"13500000000\",\"21000000 \",\"299792458\",\"32000000\",\"0\",\"0\",\"11235813\",\"336000000\",\"1420609614\",\"70000000\",\"72245700\",\"120000000\",\"0\",\"90600000000\",\"22000000\",\"21000000\",\"265420800\",\"20000000\",\"1350000\",\"100000000\",\"42000000\",\"200000000\",\"0\",\"10000000\",\"2419200000\",\"16180000\",\"0\",\"15000000000\",\"21000000\",\"337000000\",\"0\",\"3770000\",\"420000000\",\"98000000\",\"0\",\"21000000\",\"250000000\",\"51200000\",\"0\",\"1000\",\"888000000\",\"100000000\",\"47011968\",\"2300000000\",\"10000000\",\"42000000\",\"80000000\",\"250000\",\"0\",\"1600000000\",\"100000000\",\"23000000\",\"0\",\"84000000\",\"265420800\",\"5500000\",\"0\",\"45000000\",\"0\",\"1000000000\",\"184467440735\",\"10000000000\",\"2158812800\",\"500000000\",\"105120000\",\"68000000\",\"0\",\"1680000000\",\"0\",\"166386000\",\"12000000\",\"2628000\",\"500000000\",\"160000000\",\"0\",\"10000000\",\"1000000000\",\"1000000000\",\"20000000\",\"0\",\"0\",\"3371337\",\"20000000\",\"10000000000\",\"1840000000\",\"619478\",\"21000000\",\"92000000000\",\"0\",\"78000000\",\"33000000\",\"65789100\",\"53760000\",\"5060000\",\"21000000\",\"0\",\"210240000\",\"250000000\",\"100000000\",\"16906397\",\"50000000\",\"0\",\"1000000000\",\"26298000\",\"16000000\",\"21000000\",\"21000000\",\"210000000\",\"81962100\",\"22000000\",\"26550000000\",\"84000000\",\"10500000\",\"21626280000 \",\"0\",\"42000000\",\"221052632\",\"84000000\",\"30000000\",\"168351300\",\"24000000\",\"384000000\",\" 99000000000\",\"40000000\",\"2147483647\",\"20000000\",\"20000000\",\"25000000\",\"75000000\",\"222725000\",\"525000000\",\"90000000\",\"139000000\",\"616448\",\"33500000\",\"2000000000\",\"44333333\",\"100000000\",\"200000000\",\"25000000\",\"657000000\",\"200000000\",\"50000000\",\"90000000\",\"10000000\",\"21000000\",\"9736000\",\"3000000\",\"21000000\",\"1200000000\",\"0\",\"200000000\",\"0\",\"10638298\",\"3100000000\",\"30000000\",\"20000000000\",\"74000000\",\"0\",\"1500000000\",\"21400000\",\"39999898\",\"2500124\",\"100000000\",\"301000000\",\"7506000000\",\"26205539\",\"21000000\",\"125000000\",\"30000000\",\"10000000000\",\"500000000\",\"850000000\",\"3853326.77707314\",\"50000000\",\"38540000 \",\"42000000\",\"228000000\",\"20000000\",\"60000000\",\"20000000\",\"33000000\",\"76500000\",\"28000000\",\"650659833\",\"5000000\",\"21000000\",\"144000000\",\"32514916898\",\"13000000\",\"3315789\",\"15000000\",\"78835200\",\"2714286\",\"25000000\",\"9999999\",\"500000000\",\"21000000\",\"9354000\",\"20000000\",\"100000000000\",\"21933333\",\"185000000\",\"55000000\",\"110000000\",\"3360000\",\"14524851.4827\",\"1000000000\",\"17000000\",\"1000000000\",\"100000000 \",\"21000000\",\"34426423\",\"2232901\",\"100000000\",\"36900000\",\"110000000\",\"4000000000\",\"110290030\",\"100000000\",\"48252000\",\"400000000\",\"500000000\",\"21212121\",\"28600000\",\"1000000000\",\"75000000000\",\"40000000\",\"35520400\",\"2000000000\",\"2500000000\",\"30000000\",\"105000000\",\"90000000000\",\"200084200\",\"72000000\",\"100000000\",\"105000000\",\"50000000000\",\"0\",\"340282367\",\"30000000\",\"2000000000\",\"10000000\",\"100000000\",\"120000000\",\"100000000\",\"19276800\",\"30000000\",\" 75000000\",\"60000000\",\"18900000\",\"50000000000\",\"54000000\",\"18898187.6216583\",\"21000000\",\"200000000000\",\"5000000000\",\"137500000\",\"1100000000\",\"100000000\",\"21000000\",\"9507271\",\"17405891.19707116\",\"86712634466\",\"10500000000\",\"61599965\",\"0\",\"20000000\",\"84000000\",\"100000000\",\"100000000\",\"48252000\",\"4200000\",\"88888888\",\"91388946\",\"45000000000\",\"27000000\",\"21000000000\",\"400000000\",\"1800000000\",\"15733333\",\"27000000\",\"24000000\",\"21000000\",\"25000000000\",\"100000000\",\"1200000000\",\"60000000\",\"156306732.71\",\"21000000\",\"200000000\",\"100000000\",\"21000000\",\"14788275.991\",\"9000000000\",\"350000000\",\"45000000\",\"280000000\",\"31800000\",\"144000000\",\"500000000\",\"30000000000\",\"210000000\",\"660000000\",\"210000000\",\"85000000000\",\"12500000\",\"10000000000\",\"27716121\",\"20000000\",\"550000000\",\"999481516\",\"50000000000\",\"150000000\",\"4999999999\",\"50000000\",\" 90000000000\",\"19800000\",\"21000000\",\"120000000\",\"500000000\",\"64000000\",\"900000000\",\"4000000\",\"21000000\",\"23000000\",\"20166000\",\"23000000\",\"25000000\",\"1618033\",\"30000000\",\"1000000000000\",\"16600000\",\"232000000\",\"336000000\",\"10000000000\",\"100000000\",\"1100000000\",\"800000000\",\"5200000000\",\"840000000\",\"40000000\",\"18406979840\",\"500000000\",\"19340594\",\"252460800\",\"25000000\",\"60000000\",\"124000000\",\"1000000000\",\"6500000000\",\"1000000000\",\"21000000\",\"25000000\",\"50000000\",\"3000000\",\"5000000\",\"70000000\",\"500000000\",\"300000000\",\"21000000\",\"88000000\",\"30000000\",\"100000000\",\"100000000\",\"200000000\",\"80000000\",\"18400000\",\"45000000\",\"5121951220\",\"21000000\",\"26280000\",\"21000000\",\"18000000\",\"26000000\",\"10500000\",\"600000518\",\"150000000\",\"184000000000\",\"10200000000\",\"44000000\",\"168000000\",\"100000000\",\"1000000000\",\"84000000\",\"90000000\",\"92000000000\",\"650000000 \",\"100262205\",\"18081806 \",\"22075700\",\"21000000\",\"21000000\",\"82546564\",\"21000000\",\"5151000\",\"16880000000\",\"52500000\",\"100000000\",\"22105263\",\"1000000000\",\"1750000000\",\"88188888\",\"210000000\",\"184470000000\",\"55000000\",\"50000000\",\"260000000\",\"210000000\",\"2100000000\",\"366000000\",\"100000000\",\"25000000\",\"18000000000\",\"1000000000\",\"100000000\",\"1000000000\",\"7600000000\",\"50000000\",\"84000000\",\"21000000\",\"70000000000\",\"0\",\"8080000000\",\"54000000\",\"105120001.44\",\"25228800\",\"105000000\",\"21000000\",\"120000000\",\"21000000\",\"262800000\",\"19035999\",\"30886000\",\"13370000\",\"74800000000\",\"100000000\",\"19700000\",\"84000000\",\"500000000\",\"5000000000\",\"420000000\",\"64000000\",\"2100000\",\"168000000\",\"30000000\",\"1000000000\",\"35000000000\",\"98100000000\",\"0\",\"4000000000\",\"200000000\",\"7000000000\",\"54256119\",\"21000000\",\"0\",\"500000000\",\"1000000000\",\"10500000000\",\"190000000\",\"1000000000\",\"42000000\",\"15000000\",\"50000000000\",\"400000000\",\"105000000\",\"208000000\",\"160000000\",\"9000000\",\"5000000\",\"182000000\",\"16504333\",\"105000000\",\"159918400\",\"10008835635\",\"300000000\",\"60168145\",\"5000000000\",\"2800000\",\"120000\",\"2100000000\",\"0\",\"24487944\",\"0\",\"1000000000\",\"100000000\",\"8634140\",\"990000000000\",\"1000000000\",\"2000000000\",\"250000000\",\"1400222610\",\"21000000\",\"1000000\"],\"TotalCoinsMined\":{\"__ndarray__\":\"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\",\"dtype\":\"float64\",\"order\":\"little\",\"shape\":[533]}},\"selected\":{\"id\":\"1661\"},\"selection_policy\":{\"id\":\"1695\"}},\"id\":\"1660\",\"type\":\"ColumnDataSource\"},{\"attributes\":{},\"id\":\"1683\",\"type\":\"NumberEditor\"},{\"attributes\":{},\"id\":\"1677\",\"type\":\"StringFormatter\"},{\"attributes\":{\"editor\":{\"id\":\"1673\"},\"field\":\"ProofType\",\"formatter\":{\"id\":\"1672\"},\"title\":\"ProofType\"},\"id\":\"1674\",\"type\":\"TableColumn\"},{\"attributes\":{},\"id\":\"1688\",\"type\":\"IntEditor\"},{\"attributes\":{\"format\":\"0,0.0[00000]\"},\"id\":\"1682\",\"type\":\"NumberFormatter\"},{\"attributes\":{\"editor\":{\"id\":\"1678\"},\"field\":\"TotalCoinSupply\",\"formatter\":{\"id\":\"1677\"},\"title\":\"TotalCoinSupply\"},\"id\":\"1679\",\"type\":\"TableColumn\"}],\"root_ids\":[\"1658\"]},\"title\":\"Bokeh Application\",\"version\":\"2.2.3\"}};\n    var render_items = [{\"docid\":\"880a8399-9afe-43b8-bc10-8e0290e95576\",\"root_ids\":[\"1658\"],\"roots\":{\"1658\":\"f0272e88-0c27-4223-be95-4f1858d61868\"}}];\n    root.Bokeh.embed.embed_items_notebook(docs_json, render_items);\n  }\n  if (root.Bokeh !== undefined && root.Bokeh.Panel !== undefined) {\n    embed_document(root);\n  } else {\n    var attempts = 0;\n    var timer = setInterval(function(root) {\n      if (root.Bokeh !== undefined && root.Bokeh.Panel !== undefined) {\n        clearInterval(timer);\n        embed_document(root);\n      } else if (document.readyState == \"complete\") {\n        attempts++;\n        if (attempts > 100) {\n          clearInterval(timer);\n          console.log(\"Bokeh: ERROR: Unable to run BokehJS code because BokehJS library is missing\");\n        }\n      }\n    }, 10, root)\n  }\n})(window);</script>",
      "application/vnd.holoviews_exec.v0+json": "",
      "text/plain": [
       ":Table   [CoinName,Algorithm,ProofType,TotalCoinSupply,TotalCoinsMined,Class]"
      ]
     },
     "metadata": {
      "application/vnd.holoviews_exec.v0+json": {
       "id": "1658"
      }
     },
     "execution_count": 91
    }
   ],
   "source": [
    "# Create a table with tradable cryptocurrencies.\n",
    "columns = ['CoinName', 'Algorithm', 'ProofType', 'TotalCoinSupply', 'TotalCoinsMined', 'Class']\n",
    "clustered_df.hvplot.table(columns)"
   ]
  },
  {
   "cell_type": "code",
   "execution_count": 92,
   "metadata": {},
   "outputs": [
    {
     "output_type": "stream",
     "name": "stdout",
     "text": [
      "There are 533 tradable cryptocurrencies\n"
     ]
    }
   ],
   "source": [
    "# Print the total number of tradable cryptocurrencies.\n",
    "count= clustered_df['CoinName'].count()\n",
    "print(f'There are {count} tradable cryptocurrencies')"
   ]
  },
  {
   "cell_type": "code",
   "execution_count": 93,
   "metadata": {},
   "outputs": [
    {
     "output_type": "stream",
     "name": "stdout",
     "text": [
      "[[4.20000000e-11 5.94230127e-03]\n [5.32000000e-04 7.00182308e-03]\n [3.14159265e-01 3.53420682e-02]\n ...\n [1.40022261e-03 6.92655266e-03]\n [2.10000000e-05 5.94962775e-03]\n [1.00000000e-06 5.94243008e-03]]\n"
     ]
    }
   ],
   "source": [
    "# Scaling data to create the scatter plot with tradable cryptocurrencies.\n",
    "scaler = MinMaxScaler(feature_range=(0, 1))\n",
    "scaled_cluster_data = scaler.fit_transform(clustered_df[[\"TotalCoinSupply\", \"TotalCoinsMined\"]])\n",
    "print(scaled_cluster_data)"
   ]
  },
  {
   "cell_type": "code",
   "execution_count": 94,
   "metadata": {},
   "outputs": [
    {
     "output_type": "execute_result",
     "data": {
      "text/plain": [
       "    TotalCoinSupply  TotalCoinsMined          CoinName  Class\n",
       "0      4.200000e-11         0.005942           42 Coin      0\n",
       "2      5.320000e-04         0.007002           404Coin      0\n",
       "5      3.141593e-01         0.035342         EliteCoin      5\n",
       "7      2.100000e-05         0.005960           Bitcoin      1\n",
       "8      0.000000e+00         0.006050          Ethereum      1\n",
       "9      8.400000e-05         0.006006          Litecoin      1\n",
       "10     2.200000e-05         0.005951              Dash      0\n",
       "11     0.000000e+00         0.005960            Monero      1\n",
       "12     2.100000e-04         0.006056  Ethereum Classic      1\n",
       "13     2.100000e-05         0.005950             ZCash      1"
      ],
      "text/html": "<div>\n<style scoped>\n    .dataframe tbody tr th:only-of-type {\n        vertical-align: middle;\n    }\n\n    .dataframe tbody tr th {\n        vertical-align: top;\n    }\n\n    .dataframe thead th {\n        text-align: right;\n    }\n</style>\n<table border=\"1\" class=\"dataframe\">\n  <thead>\n    <tr style=\"text-align: right;\">\n      <th></th>\n      <th>TotalCoinSupply</th>\n      <th>TotalCoinsMined</th>\n      <th>CoinName</th>\n      <th>Class</th>\n    </tr>\n  </thead>\n  <tbody>\n    <tr>\n      <th>0</th>\n      <td>4.200000e-11</td>\n      <td>0.005942</td>\n      <td>42 Coin</td>\n      <td>0</td>\n    </tr>\n    <tr>\n      <th>2</th>\n      <td>5.320000e-04</td>\n      <td>0.007002</td>\n      <td>404Coin</td>\n      <td>0</td>\n    </tr>\n    <tr>\n      <th>5</th>\n      <td>3.141593e-01</td>\n      <td>0.035342</td>\n      <td>EliteCoin</td>\n      <td>5</td>\n    </tr>\n    <tr>\n      <th>7</th>\n      <td>2.100000e-05</td>\n      <td>0.005960</td>\n      <td>Bitcoin</td>\n      <td>1</td>\n    </tr>\n    <tr>\n      <th>8</th>\n      <td>0.000000e+00</td>\n      <td>0.006050</td>\n      <td>Ethereum</td>\n      <td>1</td>\n    </tr>\n    <tr>\n      <th>9</th>\n      <td>8.400000e-05</td>\n      <td>0.006006</td>\n      <td>Litecoin</td>\n      <td>1</td>\n    </tr>\n    <tr>\n      <th>10</th>\n      <td>2.200000e-05</td>\n      <td>0.005951</td>\n      <td>Dash</td>\n      <td>0</td>\n    </tr>\n    <tr>\n      <th>11</th>\n      <td>0.000000e+00</td>\n      <td>0.005960</td>\n      <td>Monero</td>\n      <td>1</td>\n    </tr>\n    <tr>\n      <th>12</th>\n      <td>2.100000e-04</td>\n      <td>0.006056</td>\n      <td>Ethereum Classic</td>\n      <td>1</td>\n    </tr>\n    <tr>\n      <th>13</th>\n      <td>2.100000e-05</td>\n      <td>0.005950</td>\n      <td>ZCash</td>\n      <td>1</td>\n    </tr>\n  </tbody>\n</table>\n</div>"
     },
     "metadata": {},
     "execution_count": 94
    }
   ],
   "source": [
    "# Create a new DataFrame that has the scaled data with the clustered_df DataFrame index.\n",
    "new_clustered_df = pd.DataFrame(scaled_cluster_data, columns=[\"TotalCoinSupply\", \"TotalCoinsMined\"], index=clustered_df.index)\n",
    "\n",
    "# Add the \"CoinName\" column from the clustered_df DataFrame to the new DataFrame.\n",
    "# YOUR CODE HERE\n",
    "\n",
    "# Add the \"Class\" column from the clustered_df DataFrame to the new DataFrame. \n",
    "# YOUR CODE HERE\n",
    "new_clustered_df = pd.DataFrame({\n",
    "    \"TotalCoinSupply\": new_clustered_df[\"TotalCoinSupply\"],\n",
    "    \"TotalCoinsMined\": new_clustered_df[\"TotalCoinsMined\"],\n",
    "    \"CoinName\": clustered_df[\"CoinName\"],\n",
    "    \"Class\": clustered_df[\"Class\"]\n",
    "})\n",
    "\n",
    "new_clustered_df.head(10)"
   ]
  },
  {
   "cell_type": "code",
   "execution_count": 95,
   "metadata": {},
   "outputs": [
    {
     "output_type": "display_data",
     "data": {},
     "metadata": {}
    },
    {
     "output_type": "execute_result",
     "data": {
      "text/html": "<div id='1710'>\n\n\n\n\n\n  <div class=\"bk-root\" id=\"3ec16b1f-92cd-46b9-9a54-676f737c295e\" data-root-id=\"1710\"></div>\n</div>\n<script type=\"application/javascript\">(function(root) {\n  function embed_document(root) {\n    var docs_json = {\"73fe8193-f43f-4b86-b4f5-e2ec62d56733\":{\"roots\":{\"references\":[{\"attributes\":{},\"id\":\"1747\",\"type\":\"Selection\"},{\"attributes\":{},\"id\":\"1764\",\"type\":\"BasicTickFormatter\"},{\"attributes\":{\"fill_color\":{\"field\":\"color\",\"transform\":{\"id\":\"1745\"}},\"line_color\":{\"field\":\"color\",\"transform\":{\"id\":\"1745\"}},\"size\":{\"units\":\"screen\",\"value\":5.477225575051661},\"x\":{\"field\":\"TotalCoinsMined\"},\"y\":{\"field\":\"TotalCoinSupply\"}},\"id\":\"1749\",\"type\":\"Scatter\"},{\"attributes\":{\"data_source\":{\"id\":\"1746\"},\"glyph\":{\"id\":\"1749\"},\"hover_glyph\":{\"id\":\"1752\"},\"muted_glyph\":{\"id\":\"1753\"},\"nonselection_glyph\":{\"id\":\"1750\"},\"selection_glyph\":{\"id\":\"1751\"},\"view\":{\"id\":\"1755\"}},\"id\":\"1754\",\"type\":\"GlyphRenderer\"},{\"attributes\":{\"bar_line_color\":\"black\",\"color_mapper\":{\"id\":\"1745\"},\"formatter\":{\"id\":\"1764\"},\"label_standoff\":8,\"location\":[0,0],\"major_tick_line_color\":\"black\",\"ticker\":{\"id\":\"1756\"}},\"id\":\"1757\",\"type\":\"ColorBar\"},{\"attributes\":{\"fill_color\":{\"field\":\"color\",\"transform\":{\"id\":\"1745\"}},\"line_color\":{\"field\":\"color\",\"transform\":{\"id\":\"1745\"}},\"size\":{\"units\":\"screen\",\"value\":5.477225575051661},\"x\":{\"field\":\"TotalCoinsMined\"},\"y\":{\"field\":\"TotalCoinSupply\"}},\"id\":\"1751\",\"type\":\"Scatter\"},{\"attributes\":{\"children\":[{\"id\":\"1711\"},{\"id\":\"1715\"},{\"id\":\"1781\"}],\"margin\":[0,0,0,0],\"name\":\"Row02744\",\"tags\":[\"embedded\"]},\"id\":\"1710\",\"type\":\"Row\"},{\"attributes\":{\"fill_alpha\":{\"value\":0.1},\"fill_color\":{\"field\":\"color\",\"transform\":{\"id\":\"1745\"}},\"line_alpha\":{\"value\":0.1},\"line_color\":{\"field\":\"color\",\"transform\":{\"id\":\"1745\"}},\"size\":{\"units\":\"screen\",\"value\":5.477225575051661},\"x\":{\"field\":\"TotalCoinsMined\"},\"y\":{\"field\":\"TotalCoinSupply\"}},\"id\":\"1750\",\"type\":\"Scatter\"},{\"attributes\":{\"fill_color\":{\"field\":\"color\",\"transform\":{\"id\":\"1745\"}},\"line_color\":{\"field\":\"color\",\"transform\":{\"id\":\"1745\"}},\"size\":{\"units\":\"screen\",\"value\":5.477225575051661},\"x\":{\"field\":\"TotalCoinsMined\"},\"y\":{\"field\":\"TotalCoinSupply\"}},\"id\":\"1752\",\"type\":\"Scatter\"},{\"attributes\":{\"high\":5,\"low\":0,\"palette\":[\"#eff821\",\"#f0f623\",\"#f0f525\",\"#f1f326\",\"#f2f126\",\"#f2f026\",\"#f3ee26\",\"#f3ec26\",\"#f4ea26\",\"#f5e926\",\"#f5e726\",\"#f6e525\",\"#f6e425\",\"#f7e225\",\"#f7e024\",\"#f8df24\",\"#f8dd24\",\"#f9db24\",\"#f9d924\",\"#fad824\",\"#fad624\",\"#fad524\",\"#fbd324\",\"#fbd124\",\"#fbd024\",\"#fcce25\",\"#fccc25\",\"#fccb25\",\"#fcc926\",\"#fcc726\",\"#fdc626\",\"#fdc427\",\"#fdc328\",\"#fdc128\",\"#fdc029\",\"#fdbe29\",\"#fdbc2a\",\"#fdbb2b\",\"#fdb92b\",\"#fdb82c\",\"#fdb62d\",\"#fdb52d\",\"#fdb32e\",\"#fdb22f\",\"#fdb030\",\"#fdaf31\",\"#fcad31\",\"#fcac32\",\"#fcaa33\",\"#fca934\",\"#fca735\",\"#fca635\",\"#fba436\",\"#fba337\",\"#fba238\",\"#faa039\",\"#fa9f3a\",\"#fa9d3a\",\"#fa9c3b\",\"#f99a3c\",\"#f9993d\",\"#f8983e\",\"#f8963f\",\"#f89540\",\"#f79341\",\"#f79241\",\"#f69142\",\"#f68f43\",\"#f68e44\",\"#f58d45\",\"#f58b46\",\"#f48a47\",\"#f48947\",\"#f38748\",\"#f38649\",\"#f2854a\",\"#f2844b\",\"#f1824c\",\"#f0814d\",\"#f0804d\",\"#ef7e4e\",\"#ef7d4f\",\"#ee7c50\",\"#ed7b51\",\"#ed7952\",\"#ec7853\",\"#ec7754\",\"#eb7654\",\"#ea7455\",\"#ea7356\",\"#e97257\",\"#e87158\",\"#e87059\",\"#e76e5a\",\"#e66d5a\",\"#e56c5b\",\"#e56b5c\",\"#e46a5d\",\"#e3685e\",\"#e3675f\",\"#e26660\",\"#e16560\",\"#e06461\",\"#df6262\",\"#df6163\",\"#de6064\",\"#dd5f65\",\"#dc5e66\",\"#dc5d66\",\"#db5b67\",\"#da5a68\",\"#d95969\",\"#d8586a\",\"#d7576b\",\"#d7566c\",\"#d6556d\",\"#d5536d\",\"#d4526e\",\"#d3516f\",\"#d25070\",\"#d14f71\",\"#d14e72\",\"#d04d73\",\"#cf4b74\",\"#ce4a75\",\"#cd4975\",\"#cc4876\",\"#cb4777\",\"#ca4678\",\"#c94579\",\"#c8447a\",\"#c7427b\",\"#c6417c\",\"#c5407d\",\"#c43f7e\",\"#c33e7f\",\"#c23d80\",\"#c13c80\",\"#c03b81\",\"#bf3982\",\"#be3883\",\"#bd3784\",\"#bc3685\",\"#bb3586\",\"#ba3487\",\"#b93388\",\"#b83289\",\"#b7308a\",\"#b62f8b\",\"#b52e8c\",\"#b42d8d\",\"#b22c8e\",\"#b12b8f\",\"#b02a8f\",\"#af2890\",\"#ae2791\",\"#ad2692\",\"#ac2593\",\"#aa2494\",\"#a92395\",\"#a82296\",\"#a72197\",\"#a51f97\",\"#a41e98\",\"#a31d99\",\"#a21c9a\",\"#a01b9b\",\"#9f1a9b\",\"#9e199c\",\"#9d189d\",\"#9b179e\",\"#9a159e\",\"#99149f\",\"#9713a0\",\"#9612a0\",\"#9511a1\",\"#9310a1\",\"#920fa2\",\"#900ea3\",\"#8f0da3\",\"#8e0ca4\",\"#8c0aa4\",\"#8b09a4\",\"#8908a5\",\"#8807a5\",\"#8607a6\",\"#8506a6\",\"#8405a6\",\"#8204a7\",\"#8104a7\",\"#7f03a7\",\"#7e03a7\",\"#7c02a7\",\"#7b02a8\",\"#7901a8\",\"#7801a8\",\"#7601a8\",\"#7500a8\",\"#7300a8\",\"#7200a8\",\"#7000a8\",\"#6f00a8\",\"#6d00a8\",\"#6c00a8\",\"#6a00a7\",\"#6800a7\",\"#6700a7\",\"#6500a7\",\"#6400a7\",\"#6200a6\",\"#6100a6\",\"#5f00a6\",\"#5e00a5\",\"#5c00a5\",\"#5a00a5\",\"#5901a4\",\"#5701a4\",\"#5601a3\",\"#5401a3\",\"#5201a3\",\"#5101a2\",\"#4f02a2\",\"#4e02a1\",\"#4c02a1\",\"#4a02a0\",\"#49029f\",\"#47029f\",\"#45039e\",\"#44039e\",\"#42039d\",\"#40039c\",\"#3f039c\",\"#3d039b\",\"#3b039a\",\"#3a049a\",\"#380499\",\"#360498\",\"#340498\",\"#330497\",\"#310496\",\"#2f0495\",\"#2d0494\",\"#2b0594\",\"#290593\",\"#270592\",\"#250591\",\"#230590\",\"#21058f\",\"#1f058e\",\"#1d068d\",\"#1b068c\",\"#18068b\",\"#15068a\",\"#130689\",\"#100787\",\"#0c0786\"]},\"id\":\"1745\",\"type\":\"LinearColorMapper\"},{\"attributes\":{\"fill_alpha\":{\"value\":0.2},\"fill_color\":{\"field\":\"color\",\"transform\":{\"id\":\"1745\"}},\"line_alpha\":{\"value\":0.2},\"line_color\":{\"field\":\"color\",\"transform\":{\"id\":\"1745\"}},\"size\":{\"units\":\"screen\",\"value\":5.477225575051661},\"x\":{\"field\":\"TotalCoinsMined\"},\"y\":{\"field\":\"TotalCoinSupply\"}},\"id\":\"1753\",\"type\":\"Scatter\"},{\"attributes\":{},\"id\":\"1733\",\"type\":\"PanTool\"},{\"attributes\":{\"axis\":{\"id\":\"1724\"},\"grid_line_color\":null,\"ticker\":null},\"id\":\"1727\",\"type\":\"Grid\"},{\"attributes\":{\"below\":[{\"id\":\"1724\"}],\"center\":[{\"id\":\"1727\"},{\"id\":\"1731\"}],\"left\":[{\"id\":\"1728\"}],\"margin\":[5,5,5,5],\"min_border_bottom\":10,\"min_border_left\":10,\"min_border_right\":10,\"min_border_top\":10,\"plot_height\":300,\"plot_width\":700,\"renderers\":[{\"id\":\"1754\"}],\"right\":[{\"id\":\"1757\"}],\"sizing_mode\":\"fixed\",\"title\":{\"id\":\"1716\"},\"toolbar\":{\"id\":\"1738\"},\"x_range\":{\"id\":\"1712\"},\"x_scale\":{\"id\":\"1720\"},\"y_range\":{\"id\":\"1713\"},\"y_scale\":{\"id\":\"1722\"}},\"id\":\"1715\",\"subtype\":\"Figure\",\"type\":\"Plot\"},{\"attributes\":{\"text\":\"\",\"text_color\":{\"value\":\"black\"},\"text_font_size\":{\"value\":\"12pt\"}},\"id\":\"1716\",\"type\":\"Title\"},{\"attributes\":{},\"id\":\"1756\",\"type\":\"BasicTicker\"},{\"attributes\":{\"callback\":null,\"renderers\":[{\"id\":\"1754\"}],\"tags\":[\"hv_created\"],\"tooltips\":[[\"TotalCoinsMined\",\"@{TotalCoinsMined}\"],[\"TotalCoinSupply\",\"@{TotalCoinSupply}\"],[\"Class\",\"@{Class}\"],[\"CoinName\",\"@{CoinName}\"]]},\"id\":\"1714\",\"type\":\"HoverTool\"},{\"attributes\":{\"margin\":[5,5,5,5],\"name\":\"HSpacer02748\",\"sizing_mode\":\"stretch_width\"},\"id\":\"1711\",\"type\":\"Spacer\"},{\"attributes\":{\"source\":{\"id\":\"1746\"}},\"id\":\"1755\",\"type\":\"CDSView\"},{\"attributes\":{\"bottom_units\":\"screen\",\"fill_alpha\":0.5,\"fill_color\":\"lightgrey\",\"left_units\":\"screen\",\"level\":\"overlay\",\"line_alpha\":1.0,\"line_color\":\"black\",\"line_dash\":[4,4],\"line_width\":2,\"right_units\":\"screen\",\"top_units\":\"screen\"},\"id\":\"1737\",\"type\":\"BoxAnnotation\"},{\"attributes\":{\"end\":1.042857142857143,\"reset_end\":1.042857142857143,\"reset_start\":-0.04285714285714286,\"start\":-0.04285714285714286,\"tags\":[[[\"TotalCoinsMined\",\"TotalCoinsMined\",null]]]},\"id\":\"1712\",\"type\":\"Range1d\"},{\"attributes\":{},\"id\":\"1771\",\"type\":\"UnionRenderers\"},{\"attributes\":{\"end\":1.1,\"reset_end\":1.1,\"reset_start\":-0.1,\"start\":-0.1,\"tags\":[[[\"TotalCoinSupply\",\"TotalCoinSupply\",null]]]},\"id\":\"1713\",\"type\":\"Range1d\"},{\"attributes\":{},\"id\":\"1725\",\"type\":\"BasicTicker\"},{\"attributes\":{},\"id\":\"1722\",\"type\":\"LinearScale\"},{\"attributes\":{\"axis_label\":\"TotalCoinSupply\",\"bounds\":\"auto\",\"formatter\":{\"id\":\"1762\"},\"major_label_orientation\":\"horizontal\",\"ticker\":{\"id\":\"1729\"}},\"id\":\"1728\",\"type\":\"LinearAxis\"},{\"attributes\":{},\"id\":\"1760\",\"type\":\"BasicTickFormatter\"},{\"attributes\":{\"axis_label\":\"TotalCoinsMined\",\"bounds\":\"auto\",\"formatter\":{\"id\":\"1760\"},\"major_label_orientation\":\"horizontal\",\"ticker\":{\"id\":\"1725\"}},\"id\":\"1724\",\"type\":\"LinearAxis\"},{\"attributes\":{\"data\":{\"Class\":{\"__ndarray__\":\"AAAAAAAAAAAFAAAAAQAAAAEAAAABAAAAAAAAAAEAAAABAAAAAQAAAAAAAAABAAAAAAAAAAAAAAABAAAAAAAAAAEAAAABAAAAAAAAAAAAAAABAAAABQAAAAEAAAABAAAAAQAAAAAAAAABAAAAAQAAAAEAAAAAAAAAAQAAAAAAAAABAAAAAQAAAAAAAAAAAAAAAQAAAAEAAAABAAAAAQAAAAEAAAABAAAAAAAAAAEAAAABAAAAAQAAAAEAAAABAAAAAQAAAAAAAAAAAAAAAQAAAAAAAAABAAAAAQAAAAEAAAABAAAAAAAAAAEAAAABAAAAAAAAAAEAAAAAAAAAAAAAAAAAAAABAAAAAQAAAAEAAAAAAAAAAAAAAAAAAAAAAAAAAAAAAAEAAAABAAAAAQAAAAAAAAAAAAAAAQAAAAAAAAABAAAAAAAAAAAAAAABAAAAAQAAAAEAAAABAAAAAAAAAAAAAAABAAAAAAAAAAEAAAABAAAAAAAAAAAAAAABAAAAAAAAAAAAAAAFAAAAAQAAAAAAAAAAAAAAAQAAAAAAAAAAAAAAAQAAAAAAAAABAAAAAAAAAAEAAAAAAAAAAQAAAAAAAAAAAAAAAQAAAAEAAAAAAAAAAQAAAAEAAAABAAAAAAAAAAEAAAABAAAAAQAAAAEAAAABAAAAAAAAAAAAAAABAAAAAQAAAAEAAAAAAAAAAQAAAAAAAAABAAAAAQAAAAAAAAABAAAAAAAAAAEAAAAAAAAAAAAAAAEAAAABAAAAAAAAAAEAAAABAAAAAAAAAAAAAAABAAAAAAAAAAEAAAAAAAAAAAAAAAAAAAABAAAAAQAAAAEAAAABAAAAAAAAAAAAAAAAAAAAAAAAAAAAAAABAAAAAQAAAAAAAAAAAAAAAAAAAAAAAAAAAAAAAQAAAAAAAAAAAAAAAAAAAAAAAAAAAAAAAQAAAAAAAAABAAAAAAAAAAAAAAABAAAAAAAAAAEAAAAAAAAAAAAAAAEAAAAAAAAAAQAAAAAAAAABAAAAAQAAAAEAAAAAAAAAAAAAAAAAAAAAAAAAAQAAAAAAAAAAAAAAAAAAAAAAAAAAAAAAAQAAAAEAAAAFAAAAAAAAAAEAAAABAAAAAAAAAAAAAAAAAAAAAAAAAAAAAAABAAAAAAAAAAAAAAAAAAAAAAAAAAAAAAAAAAAAAAAAAAAAAAABAAAAAAAAAAAAAAAAAAAAAAAAAAAAAAAAAAAAAQAAAAEAAAABAAAAAAAAAAAAAAAAAAAAAAAAAAEAAAAAAAAAAQAAAAAAAAAAAAAAAQAAAAAAAAABAAAAAQAAAAAAAAABAAAAAQAAAAAAAAABAAAAAAAAAAAAAAAAAAAAAQAAAAAAAAAAAAAAAQAAAAAAAAAAAAAAAAAAAAAAAAAAAAAAAAAAAAAAAAABAAAAAAAAAAEAAAAAAAAAAAAAAAAAAAAAAAAAAQAAAAAAAAABAAAAAAAAAAEAAAABAAAAAQAAAAEAAAAAAAAAAQAAAAAAAAAAAAAAAQAAAAAAAAABAAAAAQAAAAEAAAAAAAAAAQAAAAAAAAABAAAABQAAAAEAAAAAAAAAAQAAAAAAAAABAAAAAAAAAAAAAAAFAAAAAQAAAAAAAAABAAAAAQAAAAEAAAABAAAAAQAAAAAAAAAAAAAAAQAAAAAAAAAAAAAAAAAAAAEAAAAAAAAAAQAAAAAAAAABAAAAAAAAAAEAAAAAAAAAAAAAAAAAAAAAAAAAAQAAAAAAAAAAAAAAAQAAAAAAAAAAAAAAAAAAAAEAAAABAAAAAQAAAAEAAAAAAAAABQAAAAAAAAAAAAAAAQAAAAAAAAABAAAAAQAAAAEAAAAAAAAAAAAAAAEAAAABAAAAAAAAAAAAAAABAAAAAAAAAAEAAAABAAAAAQAAAAAAAAABAAAAAQAAAAAAAAAAAAAAAAAAAAEAAAABAAAAAQAAAAAAAAAAAAAAAAAAAAUAAAABAAAAAAAAAAEAAAABAAAAAQAAAAEAAAAAAAAAAgAAAAIAAAABAAAAAQAAAAEAAAAAAAAAAgAAAAAAAAAAAAAAAAAAAAAAAAABAAAAAQAAAAEAAAABAAAAAAAAAAAAAAAAAAAAAQAAAAAAAAABAAAAAAAAAAAAAAAAAAAABQAAAAEAAAAAAAAAAAAAAAEAAAAAAAAAAAAAAAEAAAABAAAAAAAAAAEAAAAAAAAAAQAAAAEAAAABAAAAAQAAAAAAAAAAAAAAAQAAAAAAAAABAAAAAAAAAAAAAAAFAAAAAAAAAAAAAAAAAAAAAQAAAAEAAAABAAAAAAAAAAAAAAAAAAAAAAAAAAAAAAAAAAAAAQAAAAAAAAABAAAAAQAAAAEAAAAFAAAAAAAAAAAAAAAAAAAAAAAAAAEAAAAAAAAAAAAAAAEAAAAAAAAAAAAAAAEAAAAEAAAAAQAAAAAAAAABAAAAAQAAAAAAAAAAAAAAAQAAAAAAAAABAAAAAQAAAAAAAAABAAAAAQAAAAAAAAABAAAAAAAAAAEAAAAAAAAAAAAAAAEAAAAAAAAAAAAAAAAAAAAAAAAAAAAAAAEAAAABAAAAAQAAAAAAAAAFAAAAAAAAAAEAAAAAAAAAAQAAAAAAAAABAAAAAAAAAAAAAAAAAAAAAAAAAAEAAAAAAAAAAAAAAAAAAAABAAAAAAAAAAEAAAAAAAAAAQAAAAAAAAAAAAAAAAAAAAEAAAABAAAAAAAAAAAAAAAFAAAAAAAAAAAAAAAAAAAAAQAAAAEAAAAAAAAAAQAAAAUAAAABAAAABQAAAAAAAAAEAAAAAAAAAAMAAAAAAAAABQAAAAAAAAABAAAAAQAAAAAAAAA=\",\"dtype\":\"int32\",\"order\":\"little\",\"shape\":[533]},\"CoinName\":[\"42 Coin\",\"404Coin\",\"EliteCoin\",\"Bitcoin\",\"Ethereum\",\"Litecoin\",\"Dash\",\"Monero\",\"Ethereum Classic\",\"ZCash\",\"Bitshares\",\"DigiByte\",\"BitcoinDark\",\"PayCoin\",\"ProsperCoin\",\"KoboCoin\",\"Spreadcoin\",\"Argentum\",\"Aurora Coin\",\"BlueCoin\",\"MyriadCoin\",\"MoonCoin\",\"ZetaCoin\",\"SexCoin\",\"Quatloo\",\"EnergyCoin\",\"QuarkCoin\",\"Riecoin\",\"Digitalcoin \",\"BitBar\",\"Catcoin\",\"CryptoBullion\",\"CannaCoin\",\"CryptCoin\",\"CasinoCoin\",\"Diamond\",\"Verge\",\"DevCoin\",\"EarthCoin\",\"E-Gulden\",\"Einsteinium\",\"Emerald\",\"Exclusive Coin\",\"FlutterCoin\",\"Franko\",\"FeatherCoin\",\"GrandCoin\",\"GlobalCoin\",\"GoldCoin\",\"HoboNickels\",\"HyperStake\",\"Infinite Coin\",\"IOCoin\",\"IXcoin\",\"KrugerCoin\",\"LuckyCoin\",\"Litebar \",\"MaxCoin\",\"MegaCoin\",\"MediterraneanCoin\",\"MintCoin\",\"MinCoin\",\"MazaCoin\",\"Nautilus Coin\",\"NavCoin\",\"NobleCoin\",\"Namecoin\",\"NyanCoin\",\"OpalCoin\",\"Orbitcoin\",\"PotCoin\",\"PhoenixCoin\",\"Reddcoin\",\"RonPaulCoin\",\"StableCoin\",\"SmartCoin\",\"SuperCoin\",\"SyncCoin\",\"SysCoin\",\"TeslaCoin\",\"TigerCoin\",\"TittieCoin\",\"TorCoin\",\"TerraCoin\",\"UnbreakableCoin\",\"Unobtanium\",\"UroCoin\",\"UnitaryStatus Dollar\",\"UltraCoin\",\"ViaCoin\",\"VeriCoin\",\"Vertcoin\",\"WorldCoin\",\"X11 Coin\",\"Crypti\",\"JouleCoin\",\"StealthCoin\",\"ZCC Coin\",\"ByteCoin\",\"DigitalNote \",\"BurstCoin\",\"StorjCoin\",\"MonaCoin\",\"Neutron\",\"FairCoin\",\"Gulden\",\"RubyCoin\",\"PesetaCoin\",\"Kore\",\"Wild Beast Coin\",\"Dnotes\",\"Flo\",\"8BIT Coin\",\"Sativa Coin\",\"ArtByte\",\"Folding Coin\",\"Ucoin\",\"Unitus\",\"CypherPunkCoin\",\"OmniCron\",\"Vtorrent\",\"GreenCoin\",\"Cryptonite\",\"MasterCoin\",\"SoonCoin\",\"1Credit\",\"IslaCoin\",\"Nexus\",\"MarsCoin \",\"Crypto\",\"Anarchists Prime\",\"Droidz\",\"BowsCoin\",\"Squall Coin\",\"Song Coin\",\"BitZeny\",\"Diggits\",\"Expanse\",\"Paycon\",\"Siacoin\",\"Emercoin\",\"EverGreenCoin\",\"MindCoin\",\"I0coin\",\"Decred\",\"Revolution VR\",\"HOdlcoin\",\"EDRCoin\",\"Hitcoin\",\"Gamecredits\",\"DubaiCoin\",\"CarpeDiemCoin\",\"PWR Coin\",\"BillaryCoin\",\"GPU Coin\",\"Adzcoin\",\"SoilCoin\",\"YoCoin\",\"SibCoin\",\"EuropeCoin\",\"ZeitCoin\",\"SwingCoin\",\"SafeExchangeCoin\",\"Nebuchadnezzar\",\"Francs\",\"BolivarCoin\",\"Ratecoin\",\"Revenu\",\"Clockcoin\",\"VIP Tokens\",\"BitSend\",\"Omni\",\"Let it Ride\",\"PutinCoin\",\"iBankCoin\",\"Frankywillcoin\",\"MudraCoin\",\"PizzaCoin\",\"Lutetium Coin\",\"Komodo\",\"GoldBlocks\",\"CarterCoin\",\"Karbo\",\"BitTokens\",\"ZayedCoin\",\"MustangCoin\",\"ZoneCoin\",\"Circuits of Value\",\"RootCoin\",\"DopeCoin\",\"BitCurrency\",\"DollarCoin\",\"Swiscoin\",\"Shilling\",\"BuzzCoin\",\"Opair\",\"PesoBit\",\"Halloween Coin\",\"ZCoin\",\"CoffeeCoin\",\"RoyalCoin\",\"GanjaCoin V2\",\"TeamUP\",\"LanaCoin\",\"Elementrem\",\"ZClassic\",\"ARK\",\"InsaneCoin\",\"KiloCoin\",\"ArtexCoin\",\"EmberCoin\",\"XenixCoin\",\"FreeCoin\",\"PLNCoin\",\"AquariusCoin\",\"Kurrent\",\"Creatio\",\"Eternity\",\"Eurocoin\",\"BitcoinFast\",\"Stakenet\",\"BitConnect Coin\",\"MoneyCoin\",\"Enigma\",\"Cannabis Industry Coin\",\"Russiacoin\",\"PandaCoin\",\"GameUnits\",\"GAKHcoin\",\"Allsafe\",\"LiteCreed\",\"OsmiumCoin\",\"Bikercoins\",\"HexxCoin\",\"Klingon Empire Darsek\",\"Internet of People\",\"KushCoin\",\"Printerium\",\"PacCoin\",\"Impeach\",\"Citadel\",\"Zilbercoin\",\"FirstCoin\",\"BeaverCoin\",\"FindCoin\",\"VaultCoin\",\"Zero\",\"OpenChat\",\"Canada eCoin\",\"Zoin\",\"RenosCoin\",\"DubaiCoin\",\"VirtacoinPlus\",\"TajCoin\",\"Impact\",\"EB3coin\",\"Atmos\",\"HappyCoin\",\"Coinonat\",\"MacronCoin\",\"Condensate\",\"Independent Money System\",\"ArgusCoin\",\"LomoCoin\",\"ProCurrency\",\"GoldReserve\",\"BenjiRolls\",\"GrowthCoin\",\"ILCoin\",\"Phreak\",\"Degas Coin\",\"HTML5 Coin\",\"Ultimate Secure Cash\",\"EquiTrader\",\"QTUM\",\"Quantum Resistant Ledger\",\"Espers\",\"Dynamic\",\"Nano\",\"ChanCoin\",\"Dinastycoin\",\"Denarius\",\"DigitalPrice\",\"Virta Unique Coin\",\"Bitcoin Planet\",\"Unify\",\"BritCoin\",\"SocialCoin\",\"ArcticCoin\",\"DAS\",\"Linda\",\"LeviarCoin\",\"DeepOnion\",\"Bitcore\",\"gCn Coin\",\"SmartCash\",\"Signatum\",\"Onix\",\"Cream\",\"Bitcoin Cash\",\"Monoeci\",\"Draftcoin\",\"Vechain\",\"Sojourn Coin\",\"Stakecoin\",\"NewYorkCoin\",\"FrazCoin\",\"Kronecoin\",\"AdCoin\",\"Linx\",\"CoinonatX\",\"Ethereum Dark\",\"Sumokoin\",\"Obsidian\",\"Cardano\",\"Regalcoin\",\"BitcoinZ\",\"TrezarCoin\",\"Elements\",\"TerraNovaCoin\",\"VIVO Coin\",\"Rupee\",\"Bitcoin Gold\",\"WomenCoin\",\"Theresa May Coin\",\"NamoCoin\",\"LUXCoin\",\"Pirl\",\"Xios\",\"Bitcloud 2.0\",\"eBoost\",\"KekCoin\",\"BlackholeCoin\",\"Infinity Economics\",\"Pura\",\"Innova\",\"Ellaism\",\"GoByte\",\"Magnet\",\"Lamden Tau\",\"Electra\",\"Bitcoin Diamond\",\"SHIELD\",\"Cash & Back Coin\",\"UltraNote\",\"BitCoal\",\"DaxxCoin\",\"Bulwark\",\"Kalkulus\",\"AC3\",\"Lethean\",\"GermanCoin\",\"LiteCoin Ultra\",\"PopularCoin\",\"PhantomX\",\"Photon\",\"Sucre\",\"SparksPay\",\"Digiwage\",\"GunCoin\",\"IrishCoin\",\"Trollcoin\",\"Litecoin Plus\",\"Monkey Project\",\"Pioneer Coin\",\"UnitedBitcoin\",\"Interzone\",\"TokenPay\",\"1717 Masonic Commemorative Token\",\"My Big Coin\",\"TurtleCoin\",\"MUNcoin\",\"Unified Society USDEX\",\"Niobio Cash\",\"ShareChain\",\"Travelflex\",\"KREDS\",\"Tokyo Coin\",\"BiblePay\",\"LitecoinCash\",\"BitFlip\",\"LottoCoin\",\"Crypto Improvement Fund\",\"Stipend\",\"Poa Network\",\"Pushi\",\"Ellerium\",\"Velox\",\"Ontology\",\"Callisto Network\",\"BitTube\",\"Poseidon\",\"Aidos Kuneen\",\"Bitspace\",\"Briacoin\",\"Ignition\",\"Bitrolium\",\"MedicCoin\",\"Alpenschillling\",\"Bitcoin Green\",\"Deviant Coin\",\"Abjcoin\",\"Semux\",\"FuturoCoin\",\"Carebit\",\"Zealium\",\"Monero Classic\",\"Proton\",\"iDealCash\",\"Jumpcoin\",\"Infinex\",\"Bitcoin Incognito\",\"KEYCO\",\"HollyWoodCoin\",\"GINcoin\",\"PlatinCoin\",\"Loki\",\"Newton Coin\",\"Swisscoin\",\"Xt3ch\",\"MassGrid\",\"TheVig\",\"PluraCoin\",\"EmaratCoin\",\"Dekado\",\"Lynx\",\"Poseidon Quark\",\"BitcoinWSpectrum\",\"Muse\",\"Motion\",\"PlusOneCoin\",\"Axe\",\"Trivechain\",\"Dystem\",\"Giant\",\"Peony Coin\",\"Absolute Coin\",\"Vitae\",\"HexCoin\",\"TPCash\",\"Webchain\",\"Ryo\",\"Urals Coin\",\"Qwertycoin\",\"ARENON\",\"EUNO\",\"MMOCoin\",\"Ketan\",\"Project Pai\",\"XDNA\",\"PAXEX\",\"Azart\",\"ThunderStake\",\"Kcash\",\"Xchange\",\"Acute Angle Cloud\",\"CrypticCoin\",\"Bettex coin\",\"Actinium\",\"Bitcoin SV\",\"BitMoney\",\"Junson Ming Chan Coin\",\"FREDEnergy\",\"HerbCoin\",\"Universal Molecule\",\"Lithium\",\"PirateCash\",\"Exosis\",\"Block-Logic\",\"Oduwa\",\"Beam\",\"Galilel\",\"Bithereum\",\"Crypto Sports\",\"Credit\",\"SLICE\",\"Dash Platinum\",\"Nasdacoin\",\"Beetle Coin\",\"Titan Coin\",\"Award\",\"BLAST\",\"Bitcoin Rhodium\",\"GlobalToken\",\"Insane Coin\",\"ALAX\",\"LiteDoge\",\"SolarCoin\",\"TruckCoin\",\"UFO Coin\",\"OrangeCoin\",\"BlakeCoin\",\"BitstarCoin\",\"NeosCoin\",\"HyperCoin\",\"PinkCoin\",\"Crypto Escudo\",\"AudioCoin\",\"IncaKoin\",\"Piggy Coin\",\"Crown Coin\",\"Genstake\",\"SmileyCoin\",\"XiaoMiCoin\",\"Groestlcoin\",\"CapriCoin\",\" ClubCoin\",\"Radium\",\"Bata\",\"Pakcoin\",\"Creditbit \",\"OKCash\",\"Lisk\",\"HiCoin\",\"WhiteCoin\",\"FriendshipCoin\",\"Fiii\",\"JoinCoin\",\"Triangles Coin\",\"Vollar\",\"EOS\",\"Reality Clash\",\"Oxycoin\",\"TigerCash\",\"Waves\",\"Particl\",\"BitTorrent\",\"Nxt\",\"ZEPHYR\",\"Gapcoin\",\"Beldex\",\"Horizen\",\"BitcoinPlus\"],\"TotalCoinSupply\":{\"__ndarray__\":\"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\",\"dtype\":\"float64\",\"order\":\"little\",\"shape\":[533]},\"TotalCoinsMined\":{\"__ndarray__\":\"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\",\"dtype\":\"float64\",\"order\":\"little\",\"shape\":[533]},\"color\":{\"__ndarray__\":\"AAAAAAAAAAAFAAAAAQAAAAEAAAABAAAAAAAAAAEAAAABAAAAAQAAAAAAAAABAAAAAAAAAAAAAAABAAAAAAAAAAEAAAABAAAAAAAAAAAAAAABAAAABQAAAAEAAAABAAAAAQAAAAAAAAABAAAAAQAAAAEAAAAAAAAAAQAAAAAAAAABAAAAAQAAAAAAAAAAAAAAAQAAAAEAAAABAAAAAQAAAAEAAAABAAAAAAAAAAEAAAABAAAAAQAAAAEAAAABAAAAAQAAAAAAAAAAAAAAAQAAAAAAAAABAAAAAQAAAAEAAAABAAAAAAAAAAEAAAABAAAAAAAAAAEAAAAAAAAAAAAAAAAAAAABAAAAAQAAAAEAAAAAAAAAAAAAAAAAAAAAAAAAAAAAAAEAAAABAAAAAQAAAAAAAAAAAAAAAQAAAAAAAAABAAAAAAAAAAAAAAABAAAAAQAAAAEAAAABAAAAAAAAAAAAAAABAAAAAAAAAAEAAAABAAAAAAAAAAAAAAABAAAAAAAAAAAAAAAFAAAAAQAAAAAAAAAAAAAAAQAAAAAAAAAAAAAAAQAAAAAAAAABAAAAAAAAAAEAAAAAAAAAAQAAAAAAAAAAAAAAAQAAAAEAAAAAAAAAAQAAAAEAAAABAAAAAAAAAAEAAAABAAAAAQAAAAEAAAABAAAAAAAAAAAAAAABAAAAAQAAAAEAAAAAAAAAAQAAAAAAAAABAAAAAQAAAAAAAAABAAAAAAAAAAEAAAAAAAAAAAAAAAEAAAABAAAAAAAAAAEAAAABAAAAAAAAAAAAAAABAAAAAAAAAAEAAAAAAAAAAAAAAAAAAAABAAAAAQAAAAEAAAABAAAAAAAAAAAAAAAAAAAAAAAAAAAAAAABAAAAAQAAAAAAAAAAAAAAAAAAAAAAAAAAAAAAAQAAAAAAAAAAAAAAAAAAAAAAAAAAAAAAAQAAAAAAAAABAAAAAAAAAAAAAAABAAAAAAAAAAEAAAAAAAAAAAAAAAEAAAAAAAAAAQAAAAAAAAABAAAAAQAAAAEAAAAAAAAAAAAAAAAAAAAAAAAAAQAAAAAAAAAAAAAAAAAAAAAAAAAAAAAAAQAAAAEAAAAFAAAAAAAAAAEAAAABAAAAAAAAAAAAAAAAAAAAAAAAAAAAAAABAAAAAAAAAAAAAAAAAAAAAAAAAAAAAAAAAAAAAAAAAAAAAAABAAAAAAAAAAAAAAAAAAAAAAAAAAAAAAAAAAAAAQAAAAEAAAABAAAAAAAAAAAAAAAAAAAAAAAAAAEAAAAAAAAAAQAAAAAAAAAAAAAAAQAAAAAAAAABAAAAAQAAAAAAAAABAAAAAQAAAAAAAAABAAAAAAAAAAAAAAAAAAAAAQAAAAAAAAAAAAAAAQAAAAAAAAAAAAAAAAAAAAAAAAAAAAAAAAAAAAAAAAABAAAAAAAAAAEAAAAAAAAAAAAAAAAAAAAAAAAAAQAAAAAAAAABAAAAAAAAAAEAAAABAAAAAQAAAAEAAAAAAAAAAQAAAAAAAAAAAAAAAQAAAAAAAAABAAAAAQAAAAEAAAAAAAAAAQAAAAAAAAABAAAABQAAAAEAAAAAAAAAAQAAAAAAAAABAAAAAAAAAAAAAAAFAAAAAQAAAAAAAAABAAAAAQAAAAEAAAABAAAAAQAAAAAAAAAAAAAAAQAAAAAAAAAAAAAAAAAAAAEAAAAAAAAAAQAAAAAAAAABAAAAAAAAAAEAAAAAAAAAAAAAAAAAAAAAAAAAAQAAAAAAAAAAAAAAAQAAAAAAAAAAAAAAAAAAAAEAAAABAAAAAQAAAAEAAAAAAAAABQAAAAAAAAAAAAAAAQAAAAAAAAABAAAAAQAAAAEAAAAAAAAAAAAAAAEAAAABAAAAAAAAAAAAAAABAAAAAAAAAAEAAAABAAAAAQAAAAAAAAABAAAAAQAAAAAAAAAAAAAAAAAAAAEAAAABAAAAAQAAAAAAAAAAAAAAAAAAAAUAAAABAAAAAAAAAAEAAAABAAAAAQAAAAEAAAAAAAAAAgAAAAIAAAABAAAAAQAAAAEAAAAAAAAAAgAAAAAAAAAAAAAAAAAAAAAAAAABAAAAAQAAAAEAAAABAAAAAAAAAAAAAAAAAAAAAQAAAAAAAAABAAAAAAAAAAAAAAAAAAAABQAAAAEAAAAAAAAAAAAAAAEAAAAAAAAAAAAAAAEAAAABAAAAAAAAAAEAAAAAAAAAAQAAAAEAAAABAAAAAQAAAAAAAAAAAAAAAQAAAAAAAAABAAAAAAAAAAAAAAAFAAAAAAAAAAAAAAAAAAAAAQAAAAEAAAABAAAAAAAAAAAAAAAAAAAAAAAAAAAAAAAAAAAAAQAAAAAAAAABAAAAAQAAAAEAAAAFAAAAAAAAAAAAAAAAAAAAAAAAAAEAAAAAAAAAAAAAAAEAAAAAAAAAAAAAAAEAAAAEAAAAAQAAAAAAAAABAAAAAQAAAAAAAAAAAAAAAQAAAAAAAAABAAAAAQAAAAAAAAABAAAAAQAAAAAAAAABAAAAAAAAAAEAAAAAAAAAAAAAAAEAAAAAAAAAAAAAAAAAAAAAAAAAAAAAAAEAAAABAAAAAQAAAAAAAAAFAAAAAAAAAAEAAAAAAAAAAQAAAAAAAAABAAAAAAAAAAAAAAAAAAAAAAAAAAEAAAAAAAAAAAAAAAAAAAABAAAAAAAAAAEAAAAAAAAAAQAAAAAAAAAAAAAAAAAAAAEAAAABAAAAAAAAAAAAAAAFAAAAAAAAAAAAAAAAAAAAAQAAAAEAAAAAAAAAAQAAAAUAAAABAAAABQAAAAAAAAAEAAAAAAAAAAMAAAAAAAAABQAAAAAAAAABAAAAAQAAAAAAAAA=\",\"dtype\":\"int32\",\"order\":\"little\",\"shape\":[533]}},\"selected\":{\"id\":\"1747\"},\"selection_policy\":{\"id\":\"1771\"}},\"id\":\"1746\",\"type\":\"ColumnDataSource\"},{\"attributes\":{\"axis\":{\"id\":\"1728\"},\"dimension\":1,\"grid_line_color\":null,\"ticker\":null},\"id\":\"1731\",\"type\":\"Grid\"},{\"attributes\":{},\"id\":\"1729\",\"type\":\"BasicTicker\"},{\"attributes\":{},\"id\":\"1720\",\"type\":\"LinearScale\"},{\"attributes\":{},\"id\":\"1762\",\"type\":\"BasicTickFormatter\"},{\"attributes\":{},\"id\":\"1734\",\"type\":\"WheelZoomTool\"},{\"attributes\":{},\"id\":\"1732\",\"type\":\"SaveTool\"},{\"attributes\":{\"overlay\":{\"id\":\"1737\"}},\"id\":\"1735\",\"type\":\"BoxZoomTool\"},{\"attributes\":{},\"id\":\"1736\",\"type\":\"ResetTool\"},{\"attributes\":{\"active_drag\":\"auto\",\"active_inspect\":\"auto\",\"active_multi\":null,\"active_scroll\":\"auto\",\"active_tap\":\"auto\",\"tools\":[{\"id\":\"1714\"},{\"id\":\"1732\"},{\"id\":\"1733\"},{\"id\":\"1734\"},{\"id\":\"1735\"},{\"id\":\"1736\"}]},\"id\":\"1738\",\"type\":\"Toolbar\"},{\"attributes\":{\"margin\":[5,5,5,5],\"name\":\"HSpacer02749\",\"sizing_mode\":\"stretch_width\"},\"id\":\"1781\",\"type\":\"Spacer\"}],\"root_ids\":[\"1710\"]},\"title\":\"Bokeh Application\",\"version\":\"2.2.3\"}};\n    var render_items = [{\"docid\":\"73fe8193-f43f-4b86-b4f5-e2ec62d56733\",\"root_ids\":[\"1710\"],\"roots\":{\"1710\":\"3ec16b1f-92cd-46b9-9a54-676f737c295e\"}}];\n    root.Bokeh.embed.embed_items_notebook(docs_json, render_items);\n  }\n  if (root.Bokeh !== undefined && root.Bokeh.Panel !== undefined) {\n    embed_document(root);\n  } else {\n    var attempts = 0;\n    var timer = setInterval(function(root) {\n      if (root.Bokeh !== undefined && root.Bokeh.Panel !== undefined) {\n        clearInterval(timer);\n        embed_document(root);\n      } else if (document.readyState == \"complete\") {\n        attempts++;\n        if (attempts > 100) {\n          clearInterval(timer);\n          console.log(\"Bokeh: ERROR: Unable to run BokehJS code because BokehJS library is missing\");\n        }\n      }\n    }, 10, root)\n  }\n})(window);</script>",
      "application/vnd.holoviews_exec.v0+json": "",
      "text/plain": [
       ":Scatter   [TotalCoinsMined]   (TotalCoinSupply,Class,CoinName)"
      ]
     },
     "metadata": {
      "application/vnd.holoviews_exec.v0+json": {
       "id": "1710"
      }
     },
     "execution_count": 95
    }
   ],
   "source": [
    "# Create a hvplot.scatter plot using x=\"TotalCoinsMined\" and y=\"TotalCoinSupply\".\n",
    "new_clustered_df.hvplot(\n",
    "    kind=\"scatter\", \n",
    "    x=\"TotalCoinsMined\", \n",
    "    y=\"TotalCoinSupply\", \n",
    "    c='Class', \n",
    "    colormap=\"Plasma_r\", \n",
    "    hover_cols=['CoinName']\n",
    ")\n"
   ]
  },
  {
   "cell_type": "code",
   "execution_count": null,
   "metadata": {},
   "outputs": [],
   "source": []
  }
 ],
 "metadata": {
  "file_extension": ".py",
  "kernelspec": {
   "name": "python385jvsc74a57bd088cdfbfe2c01df7496dbb16f37e29cfe907e1253f5929b4eca37244c0a9dbd46",
   "display_name": "Python 3.8.5 64-bit ('base': conda)"
  },
  "language_info": {
   "codemirror_mode": {
    "name": "ipython",
    "version": 3
   },
   "file_extension": ".py",
   "mimetype": "text/x-python",
   "name": "python",
   "nbconvert_exporter": "python",
   "pygments_lexer": "ipython3",
   "version": "3.8.5"
  },
  "latex_envs": {
   "LaTeX_envs_menu_present": true,
   "autoclose": false,
   "autocomplete": true,
   "bibliofile": "biblio.bib",
   "cite_by": "apalike",
   "current_citInitial": 1,
   "eqLabelWithNumbers": true,
   "eqNumInitial": 1,
   "hotkeys": {
    "equation": "Ctrl-E",
    "itemize": "Ctrl-I"
   },
   "labels_anchors": false,
   "latex_user_defs": false,
   "report_style_numbering": false,
   "user_envs_cfg": false
  },
  "mimetype": "text/x-python",
  "name": "python",
  "npconvert_exporter": "python",
  "pygments_lexer": "ipython3",
  "version": 3
 },
 "nbformat": 4,
 "nbformat_minor": 2
}